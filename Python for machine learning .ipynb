{
 "cells": [
  {
   "cell_type": "markdown",
   "metadata": {},
   "source": [
    "# INTRODUCTION TO PYTHON"
   ]
  },
  {
   "cell_type": "markdown",
   "metadata": {},
   "source": [
    "# WHAT IS PYTHON?\n",
    "* High-Level Language - Humans can easily understand\n",
    "* Object-Oriented\n",
    "* Programming and Scripting\n",
    "* Programming languages c,c++,java\n",
    "* Scripting languages Php,ruby\n",
    "* Dynamic typing Language\n",
    "What is dynamic?\n",
    "We don't have to declare the type of variable while assigning a value"
   ]
  },
  {
   "cell_type": "markdown",
   "metadata": {},
   "source": [
    "*******"
   ]
  },
  {
   "cell_type": "markdown",
   "metadata": {},
   "source": [
    "# WHY LEARN PYTHON?\n",
    "\n",
    "* Python is portable and platform independent Language\n",
    "\n",
    "Python can be run anywhere for example\n",
    "Windows, linux, Web hosting\n",
    "\n",
    "* Ease of Learning \n",
    "\n",
    "* Ease of Coding\n",
    "\n",
    "* It has more libraries\n",
    "\n",
    "* Fastest Growing Language"
   ]
  },
  {
   "cell_type": "markdown",
   "metadata": {},
   "source": [
    "*******"
   ]
  },
  {
   "cell_type": "markdown",
   "metadata": {},
   "source": [
    "# WHERE PYTHON IS USED?\n",
    "\n",
    "python is used in \n",
    "* Google\n",
    "* Youtube\n",
    "* Yahoo\n",
    "* Nasa\n",
    "* Redit\n",
    "* Netflix"
   ]
  },
  {
   "cell_type": "markdown",
   "metadata": {},
   "source": [
    "************"
   ]
  },
  {
   "cell_type": "markdown",
   "metadata": {},
   "source": [
    "# RUNNING PYTHON\n",
    "\n",
    "We can run python code in 5 ways\n",
    "* Interactive shell\n",
    "* Script\n",
    "* IDE(eg: Pycharm,spyder,pydev,visual studio)\n",
    "* Ipython(eg:jupyter,google colab)\n",
    "* Web"
   ]
  },
  {
   "cell_type": "markdown",
   "metadata": {},
   "source": [
    "**********"
   ]
  },
  {
   "cell_type": "markdown",
   "metadata": {},
   "source": [
    "# Python Tokens:\n",
    "Identifiers - S9@*!$(Variable names, Class, Functions)\n",
    "\n",
    "keywords - True, False, for, if, else\n",
    "\n",
    "operators - +,-,*,/\n",
    "\n",
    "Delemiters - (), {}, [], .:\n",
    "\n",
    "Literels - raw data\n",
    "\n",
    "       Integer\n",
    "\n",
    "       Float\n",
    "\n",
    "       String\n",
    "\n",
    "       Boolean"
   ]
  },
  {
   "cell_type": "markdown",
   "metadata": {},
   "source": [
    "********"
   ]
  },
  {
   "cell_type": "markdown",
   "metadata": {},
   "source": [
    "# Operators:"
   ]
  },
  {
   "cell_type": "raw",
   "metadata": {},
   "source": [
    "Arithmetical Operators +,-,*,/,**,//,%\n",
    "\n",
    "Assainment Operators =,+=,-=,*=,/=,**=,//=,%= a=5\n",
    "\n",
    "Comparison Operators ==,>,<,>=,<=,!=\n",
    "\n",
    "Logical Operators and,or,not\n",
    "\n",
    "Identity Operator - is\n",
    "\n",
    "Membership Operator - in"
   ]
  },
  {
   "cell_type": "markdown",
   "metadata": {},
   "source": [
    "*********"
   ]
  },
  {
   "cell_type": "markdown",
   "metadata": {},
   "source": [
    "# Arithmetical Operators"
   ]
  },
  {
   "cell_type": "code",
   "execution_count": 1,
   "metadata": {},
   "outputs": [],
   "source": [
    "a=5\n",
    "b=10"
   ]
  },
  {
   "cell_type": "markdown",
   "metadata": {},
   "source": [
    "### Addition"
   ]
  },
  {
   "cell_type": "code",
   "execution_count": 2,
   "metadata": {},
   "outputs": [
    {
     "name": "stdout",
     "output_type": "stream",
     "text": [
      "15\n"
     ]
    }
   ],
   "source": [
    "print(a+b)"
   ]
  },
  {
   "cell_type": "markdown",
   "metadata": {},
   "source": [
    "### Sub"
   ]
  },
  {
   "cell_type": "code",
   "execution_count": 3,
   "metadata": {},
   "outputs": [
    {
     "name": "stdout",
     "output_type": "stream",
     "text": [
      "-5\n"
     ]
    }
   ],
   "source": [
    "print(a-b)"
   ]
  },
  {
   "cell_type": "markdown",
   "metadata": {},
   "source": [
    "### Mul"
   ]
  },
  {
   "cell_type": "code",
   "execution_count": 4,
   "metadata": {},
   "outputs": [
    {
     "name": "stdout",
     "output_type": "stream",
     "text": [
      "50\n"
     ]
    }
   ],
   "source": [
    "print(a*b)"
   ]
  },
  {
   "cell_type": "markdown",
   "metadata": {},
   "source": [
    "### Div"
   ]
  },
  {
   "cell_type": "code",
   "execution_count": 5,
   "metadata": {},
   "outputs": [
    {
     "name": "stdout",
     "output_type": "stream",
     "text": [
      "0.5\n"
     ]
    }
   ],
   "source": [
    "print(a/b)"
   ]
  },
  {
   "cell_type": "markdown",
   "metadata": {},
   "source": [
    "### power"
   ]
  },
  {
   "cell_type": "code",
   "execution_count": 6,
   "metadata": {},
   "outputs": [
    {
     "name": "stdout",
     "output_type": "stream",
     "text": [
      "9765625\n"
     ]
    }
   ],
   "source": [
    "print(a**b)"
   ]
  },
  {
   "cell_type": "markdown",
   "metadata": {},
   "source": [
    "### Flow devition"
   ]
  },
  {
   "cell_type": "code",
   "execution_count": 7,
   "metadata": {},
   "outputs": [
    {
     "name": "stdout",
     "output_type": "stream",
     "text": [
      "0\n"
     ]
    }
   ],
   "source": [
    "print(a//b)"
   ]
  },
  {
   "cell_type": "markdown",
   "metadata": {},
   "source": [
    "### Madulus"
   ]
  },
  {
   "cell_type": "code",
   "execution_count": 8,
   "metadata": {},
   "outputs": [
    {
     "name": "stdout",
     "output_type": "stream",
     "text": [
      "5\n"
     ]
    }
   ],
   "source": [
    "print(a%b)"
   ]
  },
  {
   "cell_type": "markdown",
   "metadata": {},
   "source": [
    "*******************"
   ]
  },
  {
   "attachments": {
    "Python-Assignment-Operators%5B1%5D.jpg": {
     "image/jpeg": "[encoded data removed]"
    }
   },
   "cell_type": "markdown",
   "metadata": {},
   "source": [
    "![Python-Assignment-Operators%5B1%5D.jpg](attachment:Python-Assignment-Operators%5B1%5D.jpg)"
   ]
  },
  {
   "cell_type": "markdown",
   "metadata": {},
   "source": [
    "### Addition assignment"
   ]
  },
  {
   "cell_type": "code",
   "execution_count": 9,
   "metadata": {},
   "outputs": [
    {
     "name": "stdout",
     "output_type": "stream",
     "text": [
      "10\n"
     ]
    }
   ],
   "source": [
    "a+=5\n",
    "print(a)"
   ]
  },
  {
   "cell_type": "markdown",
   "metadata": {},
   "source": [
    "### Subtraction Assignment"
   ]
  },
  {
   "cell_type": "code",
   "execution_count": 10,
   "metadata": {},
   "outputs": [
    {
     "name": "stdout",
     "output_type": "stream",
     "text": [
      "6\n"
     ]
    }
   ],
   "source": [
    "a-=4\n",
    "print(a)"
   ]
  },
  {
   "cell_type": "markdown",
   "metadata": {},
   "source": [
    "### Multiply and assign"
   ]
  },
  {
   "cell_type": "code",
   "execution_count": 11,
   "metadata": {},
   "outputs": [
    {
     "name": "stdout",
     "output_type": "stream",
     "text": [
      "12\n"
     ]
    }
   ],
   "source": [
    "a*=2\n",
    "print(a)"
   ]
  },
  {
   "cell_type": "markdown",
   "metadata": {},
   "source": [
    "### Divide and assign"
   ]
  },
  {
   "cell_type": "code",
   "execution_count": 12,
   "metadata": {},
   "outputs": [
    {
     "name": "stdout",
     "output_type": "stream",
     "text": [
      "6.0\n"
     ]
    }
   ],
   "source": [
    "a/=2\n",
    "print(a)"
   ]
  },
  {
   "cell_type": "markdown",
   "metadata": {},
   "source": [
    "### Exponentiation assignment"
   ]
  },
  {
   "cell_type": "code",
   "execution_count": 13,
   "metadata": {},
   "outputs": [
    {
     "name": "stdout",
     "output_type": "stream",
     "text": [
      "36.0\n"
     ]
    }
   ],
   "source": [
    "a**=2\n",
    "print(a)"
   ]
  },
  {
   "cell_type": "markdown",
   "metadata": {},
   "source": [
    "**********"
   ]
  },
  {
   "attachments": {
    "Python-Comparison-Operators-1.png%5B1%5D.webp": {
     "image/webp": "[encoded data removed]"
    }
   },
   "cell_type": "markdown",
   "metadata": {},
   "source": [
    "![Python-Comparison-Operators-1.png%5B1%5D.webp](attachment:Python-Comparison-Operators-1.png%5B1%5D.webp)"
   ]
  },
  {
   "cell_type": "code",
   "execution_count": 14,
   "metadata": {},
   "outputs": [],
   "source": [
    "a=4\n",
    "b=8"
   ]
  },
  {
   "cell_type": "markdown",
   "metadata": {},
   "source": [
    "### less Than"
   ]
  },
  {
   "cell_type": "code",
   "execution_count": 15,
   "metadata": {},
   "outputs": [
    {
     "name": "stdout",
     "output_type": "stream",
     "text": [
      "True\n"
     ]
    }
   ],
   "source": [
    "print(a<b)"
   ]
  },
  {
   "cell_type": "markdown",
   "metadata": {},
   "source": [
    "### greater Than"
   ]
  },
  {
   "cell_type": "code",
   "execution_count": 16,
   "metadata": {},
   "outputs": [
    {
     "name": "stdout",
     "output_type": "stream",
     "text": [
      "False\n"
     ]
    }
   ],
   "source": [
    "print(a>b)"
   ]
  },
  {
   "cell_type": "markdown",
   "metadata": {},
   "source": [
    "### less Than equal to"
   ]
  },
  {
   "cell_type": "code",
   "execution_count": 17,
   "metadata": {},
   "outputs": [
    {
     "name": "stdout",
     "output_type": "stream",
     "text": [
      "True\n"
     ]
    }
   ],
   "source": [
    "print(a<=b)"
   ]
  },
  {
   "cell_type": "markdown",
   "metadata": {},
   "source": [
    "### greater than equal to"
   ]
  },
  {
   "cell_type": "code",
   "execution_count": 18,
   "metadata": {},
   "outputs": [
    {
     "name": "stdout",
     "output_type": "stream",
     "text": [
      "False\n"
     ]
    }
   ],
   "source": [
    "print(a>=b)"
   ]
  },
  {
   "cell_type": "markdown",
   "metadata": {},
   "source": [
    "### equal to equal to"
   ]
  },
  {
   "cell_type": "code",
   "execution_count": 19,
   "metadata": {},
   "outputs": [
    {
     "name": "stdout",
     "output_type": "stream",
     "text": [
      "False\n"
     ]
    }
   ],
   "source": [
    "print(a==b)"
   ]
  },
  {
   "cell_type": "markdown",
   "metadata": {},
   "source": [
    "### Not equal to"
   ]
  },
  {
   "cell_type": "code",
   "execution_count": 20,
   "metadata": {},
   "outputs": [
    {
     "name": "stdout",
     "output_type": "stream",
     "text": [
      "True\n"
     ]
    }
   ],
   "source": [
    "print(a!=b)"
   ]
  },
  {
   "cell_type": "markdown",
   "metadata": {},
   "source": [
    "****************"
   ]
  },
  {
   "cell_type": "markdown",
   "metadata": {},
   "source": [
    "# Logical Operators"
   ]
  },
  {
   "cell_type": "markdown",
   "metadata": {},
   "source": [
    "# AND\n",
    "True and True = True\n",
    "\n",
    "True and False = False\n",
    "\n",
    "False and True = False\n",
    "\n",
    "False and False = False\n",
    "\n",
    "# OR\n",
    "True or True = True\n",
    "\n",
    "True or False = True\n",
    "\n",
    "False or True = True\n",
    "\n",
    "False or False = False\n",
    "\n",
    "# NOT\n",
    "not True = False\n",
    "\n",
    "not False = True"
   ]
  },
  {
   "cell_type": "code",
   "execution_count": 21,
   "metadata": {},
   "outputs": [
    {
     "name": "stdout",
     "output_type": "stream",
     "text": [
      "True\n",
      "True\n",
      "False\n"
     ]
    }
   ],
   "source": [
    "print(a<b and b>a)\n",
    "print(a<b or b>a)\n",
    "print(not a<b)"
   ]
  },
  {
   "cell_type": "markdown",
   "metadata": {},
   "source": [
    "# Identity"
   ]
  },
  {
   "cell_type": "code",
   "execution_count": 22,
   "metadata": {},
   "outputs": [
    {
     "name": "stdout",
     "output_type": "stream",
     "text": [
      "2678588991920\n",
      "2678588991920\n",
      "True\n"
     ]
    }
   ],
   "source": [
    "c=5\n",
    "d=5\n",
    "print(id(c))\n",
    "print(id(d))\n",
    "print(c is d)"
   ]
  },
  {
   "cell_type": "markdown",
   "metadata": {},
   "source": [
    "# Membership\n",
    "### Here we check ag is present in the string or not"
   ]
  },
  {
   "cell_type": "code",
   "execution_count": 23,
   "metadata": {},
   "outputs": [
    {
     "name": "stdout",
     "output_type": "stream",
     "text": [
      "True\n"
     ]
    }
   ],
   "source": [
    "print(\"ag\" in \"ageiou\")"
   ]
  },
  {
   "cell_type": "markdown",
   "metadata": {},
   "source": [
    "***********"
   ]
  },
  {
   "cell_type": "markdown",
   "metadata": {},
   "source": [
    "# Control Structure\n",
    "\n",
    "Sequential statement\n",
    "\n",
    "Alternative or Branching #simple if, if else, if elif else\n",
    "\n",
    "Iterative or looping\n",
    "\n",
    "Jump stemen#break, continue, pass"
   ]
  },
  {
   "cell_type": "markdown",
   "metadata": {},
   "source": [
    "### Sequential statement"
   ]
  },
  {
   "cell_type": "code",
   "execution_count": 24,
   "metadata": {},
   "outputs": [
    {
     "name": "stdout",
     "output_type": "stream",
     "text": [
      "hi\n",
      "vvd\n"
     ]
    }
   ],
   "source": [
    "print(\"hi\")\n",
    "print(\"vvd\")"
   ]
  },
  {
   "cell_type": "markdown",
   "metadata": {},
   "source": [
    "************"
   ]
  },
  {
   "cell_type": "markdown",
   "metadata": {},
   "source": [
    "# Alternative or Branching"
   ]
  },
  {
   "cell_type": "raw",
   "metadata": {},
   "source": [
    "Simple if Statement\n",
    "if....else Statement\n",
    "elseif ladder Statement\n",
    "nested if Statement"
   ]
  },
  {
   "cell_type": "markdown",
   "metadata": {},
   "source": [
    "### Simple if Statement"
   ]
  },
  {
   "cell_type": "code",
   "execution_count": 25,
   "metadata": {},
   "outputs": [
    {
     "name": "stdout",
     "output_type": "stream",
     "text": [
      "your eligible to voat\n"
     ]
    }
   ],
   "source": [
    "age=19\n",
    "if age>=18:\n",
    "    print(\"your eligible to voat\")"
   ]
  },
  {
   "cell_type": "markdown",
   "metadata": {},
   "source": [
    "*********"
   ]
  },
  {
   "cell_type": "markdown",
   "metadata": {},
   "source": [
    "### if....else Statement"
   ]
  },
  {
   "cell_type": "code",
   "execution_count": 26,
   "metadata": {},
   "outputs": [
    {
     "name": "stdout",
     "output_type": "stream",
     "text": [
      "even number\n"
     ]
    }
   ],
   "source": [
    "a=8\n",
    "if a%2==0:\n",
    "    print(\"even number\")\n",
    "else:\n",
    "    print(\"odd number\")"
   ]
  },
  {
   "cell_type": "markdown",
   "metadata": {},
   "source": [
    "*************"
   ]
  },
  {
   "cell_type": "markdown",
   "metadata": {},
   "source": [
    "### elseif(elif) ladder Statement"
   ]
  },
  {
   "cell_type": "code",
   "execution_count": 27,
   "metadata": {},
   "outputs": [
    {
     "name": "stdout",
     "output_type": "stream",
     "text": [
      "two\n"
     ]
    }
   ],
   "source": [
    "b=2\n",
    "if b==1:\n",
    "    print(\"one\")\n",
    "elif b==2:\n",
    "    print(\"two\")\n",
    "elif b==3:\n",
    "    print(\"tree\")\n",
    "else:\n",
    "    print(\"greater then three\")"
   ]
  },
  {
   "cell_type": "markdown",
   "metadata": {},
   "source": [
    "***********"
   ]
  },
  {
   "cell_type": "markdown",
   "metadata": {},
   "source": [
    "### Nested if statements"
   ]
  },
  {
   "cell_type": "code",
   "execution_count": 28,
   "metadata": {},
   "outputs": [
    {
     "name": "stdout",
     "output_type": "stream",
     "text": [
      "less then three\n"
     ]
    }
   ],
   "source": [
    "a=2\n",
    "if a>3:\n",
    "    if a%2==0:\n",
    "        print(\"even number\")\n",
    "    else:\n",
    "        print(\"odd number\")\n",
    "else:\n",
    "    print(\"less then three\")"
   ]
  },
  {
   "cell_type": "code",
   "execution_count": 29,
   "metadata": {},
   "outputs": [
    {
     "name": "stdout",
     "output_type": "stream",
     "text": [
      "mar\n"
     ]
    }
   ],
   "source": [
    "b=3\n",
    "if b==1:\n",
    "    print(\"jan\")\n",
    "if b==2:\n",
    "    print(\"feb\")\n",
    "if b==3:\n",
    "    print(\"mar\")\n",
    "if b==4:\n",
    "    print(\"apr\")    "
   ]
  },
  {
   "cell_type": "markdown",
   "metadata": {},
   "source": [
    "****************"
   ]
  },
  {
   "cell_type": "markdown",
   "metadata": {},
   "source": [
    "# Loops"
   ]
  },
  {
   "cell_type": "markdown",
   "metadata": {},
   "source": [
    "# while loop \n",
    "* variable init\n",
    "* condition\n",
    "* increment\n",
    "\n",
    "# for loop "
   ]
  },
  {
   "cell_type": "code",
   "execution_count": 30,
   "metadata": {},
   "outputs": [
    {
     "name": "stdout",
     "output_type": "stream",
     "text": [
      "1 odd number\n",
      "2 even number\n",
      "3 odd number\n",
      "4 even number\n",
      "5 odd number\n",
      "6 even number\n",
      "7 odd number\n",
      "8 even number\n",
      "9 odd number\n"
     ]
    }
   ],
   "source": [
    "#variable init\n",
    "i=1    \n",
    "       #condition\n",
    "while i<10:\n",
    "    if i%2==0:\n",
    "        print(i,\"even number\")\n",
    "    else:\n",
    "        print(i,\"odd number\")\n",
    "    #increment    \n",
    "    i+=1"
   ]
  },
  {
   "cell_type": "code",
   "execution_count": 31,
   "metadata": {},
   "outputs": [
    {
     "name": "stdout",
     "output_type": "stream",
     "text": [
      "2\n",
      "4\n",
      "6\n",
      "8\n",
      "10\n"
     ]
    }
   ],
   "source": [
    "i=2\n",
    "while i<11:\n",
    "    print(i)\n",
    "    i+=2"
   ]
  },
  {
   "cell_type": "markdown",
   "metadata": {},
   "source": [
    "****"
   ]
  },
  {
   "cell_type": "markdown",
   "metadata": {},
   "source": [
    "# for loop \n",
    "### range()sequnce generator"
   ]
  },
  {
   "cell_type": "raw",
   "metadata": {},
   "source": [
    "start-0\n",
    "range(10) - 0,1,2,3,4,...,9\n",
    "\n",
    "stop-end-1\n",
    "range(1,11) - 1,2,3,4,5,.....10\n",
    "\n",
    "step-1\n",
    "range(1,11,2) - 1,3,5,7,9"
   ]
  },
  {
   "cell_type": "markdown",
   "metadata": {},
   "source": [
    "# start-0"
   ]
  },
  {
   "cell_type": "code",
   "execution_count": 32,
   "metadata": {},
   "outputs": [
    {
     "name": "stdout",
     "output_type": "stream",
     "text": [
      "0\n",
      "1\n",
      "2\n",
      "3\n",
      "4\n",
      "5\n",
      "6\n",
      "7\n",
      "8\n",
      "9\n"
     ]
    }
   ],
   "source": [
    "for i in range(10):\n",
    "    print(i)"
   ]
  },
  {
   "cell_type": "markdown",
   "metadata": {},
   "source": [
    "************"
   ]
  },
  {
   "cell_type": "markdown",
   "metadata": {},
   "source": [
    "# end paramete"
   ]
  },
  {
   "cell_type": "raw",
   "metadata": {},
   "source": [
    "By default Python print() function ends with a newline\n",
    "This end parameter is used to print the str or num in oneline\n",
    "Also we can end a print statement with any character/string using this parameter."
   ]
  },
  {
   "cell_type": "code",
   "execution_count": 33,
   "metadata": {},
   "outputs": [
    {
     "name": "stdout",
     "output_type": "stream",
     "text": [
      "0123456789"
     ]
    }
   ],
   "source": [
    "for i in range(10):\n",
    "    print(i,end=\"\")"
   ]
  },
  {
   "cell_type": "markdown",
   "metadata": {},
   "source": [
    "**********"
   ]
  },
  {
   "cell_type": "markdown",
   "metadata": {},
   "source": [
    "### ends the output with a space"
   ]
  },
  {
   "cell_type": "code",
   "execution_count": 34,
   "metadata": {},
   "outputs": [
    {
     "name": "stdout",
     "output_type": "stream",
     "text": [
      "V I J A I   R A M E S H "
     ]
    }
   ],
   "source": [
    "name='VIJAI RAMESH'\n",
    "for ch in name:\n",
    "    print(ch,end=\" \")"
   ]
  },
  {
   "cell_type": "markdown",
   "metadata": {},
   "source": [
    "****************"
   ]
  },
  {
   "cell_type": "markdown",
   "metadata": {},
   "source": [
    "# Python break statement"
   ]
  },
  {
   "cell_type": "markdown",
   "metadata": {},
   "source": [
    "### Python break is used to terminate the execution of the loop."
   ]
  },
  {
   "cell_type": "code",
   "execution_count": 35,
   "metadata": {},
   "outputs": [
    {
     "name": "stdout",
     "output_type": "stream",
     "text": [
      "1\n",
      "2\n",
      "3\n",
      "4\n",
      "5\n",
      "6\n",
      "7\n",
      "8\n"
     ]
    }
   ],
   "source": [
    "for i in range(1,11):\n",
    "    if i==9: \n",
    "        break\n",
    "    print(i)"
   ]
  },
  {
   "cell_type": "markdown",
   "metadata": {},
   "source": [
    "*************"
   ]
  },
  {
   "cell_type": "markdown",
   "metadata": {},
   "source": [
    "# Python Continue Statement"
   ]
  },
  {
   "cell_type": "markdown",
   "metadata": {},
   "source": [
    "### Python Continue Statement skips the execution of the program block from after the continue statement and forces the control to start the next iteration. "
   ]
  },
  {
   "cell_type": "markdown",
   "metadata": {},
   "source": [
    "# Here ignored 5"
   ]
  },
  {
   "cell_type": "code",
   "execution_count": 36,
   "metadata": {},
   "outputs": [
    {
     "name": "stdout",
     "output_type": "stream",
     "text": [
      "1\n",
      "2\n",
      "3\n",
      "4\n",
      "6\n",
      "7\n",
      "8\n",
      "9\n",
      "10\n"
     ]
    }
   ],
   "source": [
    "for i in range(1,11): \n",
    "    if i==5: \n",
    "        continue \n",
    "    print(i)"
   ]
  },
  {
   "cell_type": "markdown",
   "metadata": {},
   "source": [
    "*************"
   ]
  },
  {
   "cell_type": "markdown",
   "metadata": {},
   "source": [
    "# Python pass Statement"
   ]
  },
  {
   "cell_type": "markdown",
   "metadata": {},
   "source": [
    "### The pass statement is a null statement. But the difference between pass and comment is that comment is ignored by the interpreter whereas pass is not ignored. "
   ]
  },
  {
   "cell_type": "code",
   "execution_count": 37,
   "metadata": {},
   "outputs": [],
   "source": [
    "for j in range(1,10): \n",
    "    pass"
   ]
  },
  {
   "cell_type": "markdown",
   "metadata": {},
   "source": [
    "******"
   ]
  },
  {
   "cell_type": "markdown",
   "metadata": {},
   "source": [
    "# sequance data types:\n",
    "\n",
    "\n",
    "String\n",
    "\n",
    "List\n",
    "\n",
    "Tuple\n",
    "\n",
    "Dictionary\n",
    "\n",
    "sets"
   ]
  },
  {
   "cell_type": "markdown",
   "metadata": {},
   "source": [
    "# String"
   ]
  },
  {
   "cell_type": "code",
   "execution_count": 38,
   "metadata": {},
   "outputs": [
    {
     "name": "stdout",
     "output_type": "stream",
     "text": [
      "Enter the name:vijai\n",
      "hi vijai\n"
     ]
    }
   ],
   "source": [
    "val=input(\"Enter the name:\")\n",
    "print(\"hi\",val)"
   ]
  },
  {
   "cell_type": "code",
   "execution_count": 39,
   "metadata": {},
   "outputs": [
    {
     "name": "stdout",
     "output_type": "stream",
     "text": [
      "Enter the number:2\n",
      "Enter the number:5\n",
      "7\n",
      "<class 'int'>\n"
     ]
    }
   ],
   "source": [
    "a=int(input(\"Enter the number:\"))\n",
    "b=int(input(\"Enter the number:\"))\n",
    "print(a+b)\n",
    "print(type(a))"
   ]
  },
  {
   "cell_type": "markdown",
   "metadata": {},
   "source": [
    "**********"
   ]
  },
  {
   "cell_type": "markdown",
   "metadata": {},
   "source": [
    "************"
   ]
  },
  {
   "cell_type": "markdown",
   "metadata": {},
   "source": [
    "# Python has two types of type casting (or) type conversion.\n",
    "Implicit Type Conversion. auto matic\n",
    "\n",
    "Explicit Type Conversion. int, str, float, bool"
   ]
  },
  {
   "cell_type": "markdown",
   "metadata": {},
   "source": [
    "# Implicit"
   ]
  },
  {
   "cell_type": "code",
   "execution_count": 40,
   "metadata": {},
   "outputs": [
    {
     "name": "stdout",
     "output_type": "stream",
     "text": [
      "98\n"
     ]
    }
   ],
   "source": [
    " print(34+64)"
   ]
  },
  {
   "cell_type": "markdown",
   "metadata": {},
   "source": [
    "# Explicit \n",
    "# int(), str(), float(), bool() using these functions we can do explicit conversion"
   ]
  },
  {
   "cell_type": "markdown",
   "metadata": {},
   "source": [
    "### Here we converting float to int"
   ]
  },
  {
   "cell_type": "code",
   "execution_count": 41,
   "metadata": {},
   "outputs": [
    {
     "name": "stdout",
     "output_type": "stream",
     "text": [
      "45\n"
     ]
    }
   ],
   "source": [
    "print(int(45.6))"
   ]
  },
  {
   "cell_type": "markdown",
   "metadata": {},
   "source": [
    "### Here we converting string to int and addition with 70"
   ]
  },
  {
   "cell_type": "code",
   "execution_count": 42,
   "metadata": {},
   "outputs": [
    {
     "name": "stdout",
     "output_type": "stream",
     "text": [
      "130\n"
     ]
    }
   ],
   "source": [
    "var=int(\"60\")\n",
    "print(var+70)"
   ]
  },
  {
   "cell_type": "markdown",
   "metadata": {},
   "source": [
    "### Multiline String"
   ]
  },
  {
   "cell_type": "code",
   "execution_count": 43,
   "metadata": {},
   "outputs": [
    {
     "data": {
      "text/plain": [
       "'hi\\nvijai\\n'"
      ]
     },
     "execution_count": 43,
     "metadata": {},
     "output_type": "execute_result"
    }
   ],
   "source": [
    "'''hi\n",
    "vijai\n",
    "'''"
   ]
  },
  {
   "cell_type": "markdown",
   "metadata": {},
   "source": [
    "*****"
   ]
  },
  {
   "cell_type": "markdown",
   "metadata": {},
   "source": [
    "# String Manipulation"
   ]
  },
  {
   "cell_type": "code",
   "execution_count": 44,
   "metadata": {},
   "outputs": [
    {
     "name": "stdout",
     "output_type": "stream",
     "text": [
      "o\n",
      "W\n",
      "r\n",
      "o\n"
     ]
    }
   ],
   "source": [
    "str1=\"Hello World\"\n",
    "print(str1[4])\n",
    "print(str1[6])\n",
    "print(str1[8])\n",
    "print(str1[-4])"
   ]
  },
  {
   "cell_type": "markdown",
   "metadata": {},
   "source": [
    "*****"
   ]
  },
  {
   "cell_type": "markdown",
   "metadata": {},
   "source": [
    "# list Slicing\n",
    "### start\n",
    "### stop- end-1\n",
    "### step value default 1"
   ]
  },
  {
   "cell_type": "code",
   "execution_count": 45,
   "metadata": {},
   "outputs": [
    {
     "name": "stdout",
     "output_type": "stream",
     "text": [
      "llo\n",
      "llo\n",
      "Hello\n",
      "World\n"
     ]
    }
   ],
   "source": [
    "print(str1[2:5:1])\n",
    "print(str1[2:5])\n",
    "print(str1[:5])\n",
    "print(str1[6:])"
   ]
  },
  {
   "cell_type": "markdown",
   "metadata": {},
   "source": [
    "******************************************************************"
   ]
  },
  {
   "cell_type": "markdown",
   "metadata": {},
   "source": [
    "*******"
   ]
  },
  {
   "cell_type": "markdown",
   "metadata": {},
   "source": [
    "# Python String Functions"
   ]
  },
  {
   "cell_type": "markdown",
   "metadata": {},
   "source": [
    "### Converting every Cap letters into a small letters"
   ]
  },
  {
   "cell_type": "code",
   "execution_count": 46,
   "metadata": {},
   "outputs": [
    {
     "name": "stdout",
     "output_type": "stream",
     "text": [
      "hello world\n"
     ]
    }
   ],
   "source": [
    "print(str1.lower())"
   ]
  },
  {
   "cell_type": "markdown",
   "metadata": {},
   "source": [
    "### Converting every small letters into a Cap letters"
   ]
  },
  {
   "cell_type": "code",
   "execution_count": 47,
   "metadata": {},
   "outputs": [
    {
     "name": "stdout",
     "output_type": "stream",
     "text": [
      "HELLO WORLD\n"
     ]
    }
   ],
   "source": [
    "print(str1.upper())"
   ]
  },
  {
   "cell_type": "markdown",
   "metadata": {},
   "source": [
    "### Converting first starting letter and Second starting letter into cap"
   ]
  },
  {
   "cell_type": "code",
   "execution_count": 48,
   "metadata": {},
   "outputs": [
    {
     "name": "stdout",
     "output_type": "stream",
     "text": [
      "Hello World\n"
     ]
    }
   ],
   "source": [
    "print(str1.title())"
   ]
  },
  {
   "cell_type": "markdown",
   "metadata": {},
   "source": [
    "### Converting first starting letter into cap"
   ]
  },
  {
   "cell_type": "code",
   "execution_count": 49,
   "metadata": {},
   "outputs": [
    {
     "name": "stdout",
     "output_type": "stream",
     "text": [
      "Hello world\n"
     ]
    }
   ],
   "source": [
    "print(str1.capitalize())"
   ]
  },
  {
   "cell_type": "markdown",
   "metadata": {},
   "source": [
    "### It will convert small letter into cap and cap into  small"
   ]
  },
  {
   "cell_type": "code",
   "execution_count": 50,
   "metadata": {},
   "outputs": [
    {
     "name": "stdout",
     "output_type": "stream",
     "text": [
      "hELLO wORLD\n"
     ]
    }
   ],
   "source": [
    "print(str1.swapcase())"
   ]
  },
  {
   "cell_type": "markdown",
   "metadata": {},
   "source": [
    "### It will find the given data is alpha or not"
   ]
  },
  {
   "cell_type": "code",
   "execution_count": 51,
   "metadata": {},
   "outputs": [
    {
     "name": "stdout",
     "output_type": "stream",
     "text": [
      "1: False\n"
     ]
    }
   ],
   "source": [
    "print(\"1:\",str1.isalpha()) "
   ]
  },
  {
   "cell_type": "markdown",
   "metadata": {},
   "source": [
    "### It will find the given data is num or not "
   ]
  },
  {
   "cell_type": "code",
   "execution_count": 52,
   "metadata": {},
   "outputs": [
    {
     "name": "stdout",
     "output_type": "stream",
     "text": [
      "2: True\n"
     ]
    }
   ],
   "source": [
    "num = \"9384981394830\"\n",
    "print(\"2:\",num.isalnum())"
   ]
  },
  {
   "cell_type": "markdown",
   "metadata": {},
   "source": [
    "### It will find the given data is num or not"
   ]
  },
  {
   "cell_type": "code",
   "execution_count": 53,
   "metadata": {},
   "outputs": [
    {
     "name": "stdout",
     "output_type": "stream",
     "text": [
      "3: True\n"
     ]
    }
   ],
   "source": [
    "num = \"9384981394830\"\n",
    "print(\"3:\",num.isdigit()) "
   ]
  },
  {
   "cell_type": "markdown",
   "metadata": {},
   "source": [
    "### It will find the given str start with cap or not "
   ]
  },
  {
   "cell_type": "code",
   "execution_count": 54,
   "metadata": {},
   "outputs": [
    {
     "name": "stdout",
     "output_type": "stream",
     "text": [
      "4: False\n"
     ]
    }
   ],
   "source": [
    "str2=\"good morning\"\n",
    "print(\"4:\",str2.istitle()) "
   ]
  },
  {
   "cell_type": "markdown",
   "metadata": {},
   "source": [
    "### It will find the given every str is cap or not "
   ]
  },
  {
   "cell_type": "code",
   "execution_count": 55,
   "metadata": {},
   "outputs": [
    {
     "name": "stdout",
     "output_type": "stream",
     "text": [
      "5: False\n"
     ]
    }
   ],
   "source": [
    "print(\"5:\",str2.isupper())"
   ]
  },
  {
   "cell_type": "markdown",
   "metadata": {},
   "source": [
    "### It will find the given every str is smaller or not"
   ]
  },
  {
   "cell_type": "code",
   "execution_count": 56,
   "metadata": {},
   "outputs": [
    {
     "name": "stdout",
     "output_type": "stream",
     "text": [
      "6: True\n"
     ]
    }
   ],
   "source": [
    "print(\"6:\",str2.islower())"
   ]
  },
  {
   "cell_type": "markdown",
   "metadata": {},
   "source": [
    "### It will find the length of the str"
   ]
  },
  {
   "cell_type": "code",
   "execution_count": 57,
   "metadata": {},
   "outputs": [
    {
     "name": "stdout",
     "output_type": "stream",
     "text": [
      "7: 12\n"
     ]
    }
   ],
   "source": [
    "print(\"7:\",len(str2))"
   ]
  },
  {
   "cell_type": "markdown",
   "metadata": {},
   "source": [
    "### It will count the letter which you give"
   ]
  },
  {
   "cell_type": "code",
   "execution_count": 58,
   "metadata": {},
   "outputs": [
    {
     "name": "stdout",
     "output_type": "stream",
     "text": [
      "8: 3\n"
     ]
    }
   ],
   "source": [
    "print(\"8:\",str2.count('o'))"
   ]
  },
  {
   "cell_type": "markdown",
   "metadata": {},
   "source": [
    "### It will give the output of the given letter index"
   ]
  },
  {
   "cell_type": "code",
   "execution_count": 59,
   "metadata": {},
   "outputs": [
    {
     "name": "stdout",
     "output_type": "stream",
     "text": [
      "9: 5\n"
     ]
    }
   ],
   "source": [
    "print(\"9:\",str2.index('m')) "
   ]
  },
  {
   "cell_type": "markdown",
   "metadata": {},
   "source": [
    "### If the given letter present in the str it will give the index value else it will give -1 "
   ]
  },
  {
   "cell_type": "code",
   "execution_count": 60,
   "metadata": {},
   "outputs": [
    {
     "name": "stdout",
     "output_type": "stream",
     "text": [
      "10: -1\n"
     ]
    }
   ],
   "source": [
    "print(\"10:\",str2.find('z'))"
   ]
  },
  {
   "cell_type": "markdown",
   "metadata": {},
   "source": [
    "### Here it will check the given word is start with given letter or not"
   ]
  },
  {
   "cell_type": "code",
   "execution_count": 61,
   "metadata": {},
   "outputs": [
    {
     "name": "stdout",
     "output_type": "stream",
     "text": [
      "11: True\n"
     ]
    }
   ],
   "source": [
    "print(\"11:\",str2.startswith(\"go\"))"
   ]
  },
  {
   "cell_type": "markdown",
   "metadata": {},
   "source": [
    "### Here it will check the given word is end with given letter or not"
   ]
  },
  {
   "cell_type": "code",
   "execution_count": 62,
   "metadata": {},
   "outputs": [
    {
     "name": "stdout",
     "output_type": "stream",
     "text": [
      "12: True\n"
     ]
    }
   ],
   "source": [
    "print(\"12:\",str2.endswith(\"ing\"))"
   ]
  },
  {
   "cell_type": "markdown",
   "metadata": {},
   "source": [
    "*****************"
   ]
  },
  {
   "attachments": {
    "padding-using-ljust-rjust-and-center-function-in-Pandas-python-11%5B1%5D.png": {
     "image/png": "[encoded data removed]"
    }
   },
   "cell_type": "markdown",
   "metadata": {},
   "source": [
    "![padding-using-ljust-rjust-and-center-function-in-Pandas-python-11%5B1%5D.png](attachment:padding-using-ljust-rjust-and-center-function-in-Pandas-python-11%5B1%5D.png)"
   ]
  },
  {
   "cell_type": "code",
   "execution_count": 63,
   "metadata": {},
   "outputs": [
    {
     "name": "stdout",
     "output_type": "stream",
     "text": [
      "14: ********good morning\n"
     ]
    }
   ],
   "source": [
    "print(\"14:\",str2.rjust(20,\"*\"))"
   ]
  },
  {
   "cell_type": "code",
   "execution_count": 64,
   "metadata": {},
   "outputs": [
    {
     "name": "stdout",
     "output_type": "stream",
     "text": [
      "13: good morning********\n"
     ]
    }
   ],
   "source": [
    "print(\"13:\",str2.ljust(20,\"*\"))"
   ]
  },
  {
   "cell_type": "code",
   "execution_count": 65,
   "metadata": {},
   "outputs": [
    {
     "name": "stdout",
     "output_type": "stream",
     "text": [
      "15: ****good morning****\n"
     ]
    }
   ],
   "source": [
    "print(\"15:\",str2.center(20,\"*\"))"
   ]
  },
  {
   "cell_type": "markdown",
   "metadata": {},
   "source": [
    "***************"
   ]
  },
  {
   "cell_type": "markdown",
   "metadata": {},
   "source": [
    "************"
   ]
  },
  {
   "cell_type": "markdown",
   "metadata": {},
   "source": [
    "# Python formating method"
   ]
  },
  {
   "cell_type": "raw",
   "metadata": {},
   "source": [
    "These is use to enter string in the line for example(\"Hi %s how are you\"%(val)) \n",
    "Here %s is indecating input is going to replace and %(val) here the % is indecating it is the input \n",
    "It is for both Python formating method \n",
    "%s=string \n",
    "%d=digit\n",
    "%f=float"
   ]
  },
  {
   "cell_type": "code",
   "execution_count": 66,
   "metadata": {},
   "outputs": [
    {
     "name": "stdout",
     "output_type": "stream",
     "text": [
      "Enter the name:vijai\n",
      "Hi vijai how are you\n"
     ]
    }
   ],
   "source": [
    "val=input(\"Enter the name:\")\n",
    "print(\"Hi %s how are you\"%(val))"
   ]
  },
  {
   "cell_type": "code",
   "execution_count": 67,
   "metadata": {},
   "outputs": [
    {
     "name": "stdout",
     "output_type": "stream",
     "text": [
      "Enter the name:vijai\n",
      "Hi vijai your age 20 your UG percent 78.900000\n"
     ]
    }
   ],
   "source": [
    "val=input(\"Enter the name:\")\n",
    "print(\"Hi %s your age %d your UG percent %f\"%(val,20,78.900))"
   ]
  },
  {
   "cell_type": "markdown",
   "metadata": {},
   "source": [
    "*************"
   ]
  },
  {
   "cell_type": "code",
   "execution_count": 68,
   "metadata": {},
   "outputs": [
    {
     "name": "stdout",
     "output_type": "stream",
     "text": [
      "Enter the percentage:67\n"
     ]
    }
   ],
   "source": [
    "val=int(input(\"Enter the percentage:\"))"
   ]
  },
  {
   "cell_type": "markdown",
   "metadata": {},
   "source": [
    "### Here now we entering the number but it shows extra decimal point "
   ]
  },
  {
   "cell_type": "code",
   "execution_count": 69,
   "metadata": {},
   "outputs": [
    {
     "name": "stdout",
     "output_type": "stream",
     "text": [
      "Hi your UG percent 67.000000\n"
     ]
    }
   ],
   "source": [
    "print(\"Hi your UG percent %f\"%(val))"
   ]
  },
  {
   "cell_type": "markdown",
   "metadata": {},
   "source": [
    "### So here we formating the %f into %1.2f it means after the points only two decimals only allowed"
   ]
  },
  {
   "cell_type": "code",
   "execution_count": 70,
   "metadata": {},
   "outputs": [
    {
     "name": "stdout",
     "output_type": "stream",
     "text": [
      "Hi your UG percent 67.00\n"
     ]
    }
   ],
   "source": [
    "print(\"Hi your UG percent %1.2f\"%(val))"
   ]
  },
  {
   "cell_type": "markdown",
   "metadata": {},
   "source": [
    "****"
   ]
  },
  {
   "cell_type": "markdown",
   "metadata": {},
   "source": [
    "### Here we giveing the name to the values for example: \"Hi %(name)s\"%{\"name\":vijai}"
   ]
  },
  {
   "cell_type": "code",
   "execution_count": 71,
   "metadata": {},
   "outputs": [
    {
     "name": "stdout",
     "output_type": "stream",
     "text": [
      "Enter the name:vijai\n",
      "Enter the age:23\n",
      "Enter the UG  percentage:67\n",
      "Hi vijai how r u my age is 23 percent 67.00\n"
     ]
    }
   ],
   "source": [
    "val1=input(\"Enter the name:\")\n",
    "val2=int(input(\"Enter the age:\"))\n",
    "val3=float(input(\"Enter the UG  percentage:\"))\n",
    "print('Hi %(name)s how r u my age is %(age)d percent %(per)1.2f'%{'name':val1,'age':val2,'per':val3})"
   ]
  },
  {
   "cell_type": "markdown",
   "metadata": {},
   "source": [
    "************"
   ]
  },
  {
   "cell_type": "markdown",
   "metadata": {},
   "source": [
    "### Here we can give any kind of variable it means we didn't want to define string, digit, float\n",
    "### simple we can use format for any kind of variable"
   ]
  },
  {
   "cell_type": "code",
   "execution_count": 72,
   "metadata": {},
   "outputs": [
    {
     "name": "stdout",
     "output_type": "stream",
     "text": [
      "Hi 67 how ru\n"
     ]
    }
   ],
   "source": [
    "print(\"Hi {name} how ru\".format(name=val))"
   ]
  },
  {
   "cell_type": "code",
   "execution_count": 73,
   "metadata": {},
   "outputs": [
    {
     "name": "stdout",
     "output_type": "stream",
     "text": [
      "Hi vijai how ru\n"
     ]
    }
   ],
   "source": [
    "val=\"vijai\"\n",
    "print(\"Hi {val} how ru\".format(val=val))"
   ]
  },
  {
   "cell_type": "markdown",
   "metadata": {},
   "source": [
    "**********"
   ]
  },
  {
   "cell_type": "markdown",
   "metadata": {},
   "source": [
    "### Here we using f string to enter the variable directly\n",
    "### Also we can do calculation using this "
   ]
  },
  {
   "cell_type": "code",
   "execution_count": 74,
   "metadata": {},
   "outputs": [
    {
     "name": "stdout",
     "output_type": "stream",
     "text": [
      "hi vijai your age 36\n"
     ]
    }
   ],
   "source": [
    "val=\"vijai\"\n",
    "print(f\"hi {val} your age {2*(10+8)}\")"
   ]
  },
  {
   "cell_type": "markdown",
   "metadata": {},
   "source": [
    "*******"
   ]
  },
  {
   "cell_type": "markdown",
   "metadata": {},
   "source": [
    "*****************"
   ]
  },
  {
   "cell_type": "markdown",
   "metadata": {},
   "source": [
    "# String immutible"
   ]
  },
  {
   "cell_type": "raw",
   "metadata": {},
   "source": [
    "str=\"hi\"\n",
    "str[0]=\"j\"\n",
    "if we try to change the str it will show the TypeError\n",
    "TypeError: 'str' object does not support item assignment"
   ]
  },
  {
   "cell_type": "markdown",
   "metadata": {},
   "source": [
    "# List mutible"
   ]
  },
  {
   "cell_type": "raw",
   "metadata": {},
   "source": [
    "Here we can able to change "
   ]
  },
  {
   "cell_type": "code",
   "execution_count": 75,
   "metadata": {},
   "outputs": [
    {
     "name": "stdout",
     "output_type": "stream",
     "text": [
      "40\n",
      "50\n"
     ]
    }
   ],
   "source": [
    "li=       [10,20,30,40,\"irfan\", True,45.6]\n",
    "#index num  0  1  2  3    4       5    6\n",
    "print(li[3])\n",
    "#Replacing 3 index 40 into 50\n",
    "li[3]=50\n",
    "print(li[3])"
   ]
  },
  {
   "cell_type": "markdown",
   "metadata": {},
   "source": [
    "*******"
   ]
  },
  {
   "cell_type": "markdown",
   "metadata": {},
   "source": [
    "# 2D list\n",
    "### Here we can see list inside list it called 2D list"
   ]
  },
  {
   "cell_type": "code",
   "execution_count": 76,
   "metadata": {},
   "outputs": [
    {
     "name": "stdout",
     "output_type": "stream",
     "text": [
      "[90, 100, 80]\n"
     ]
    }
   ],
   "source": [
    "li=[10,20,30,40,\"irfan\", True,45.6,[90,100,80]]\n",
    "#    0  1  2  3    4       5    6    [0  1  2]\n",
    "#                                        -1                                           \n",
    "print(li[-1])"
   ]
  },
  {
   "cell_type": "markdown",
   "metadata": {},
   "source": [
    "### Here we are going to access 100 in the second list "
   ]
  },
  {
   "cell_type": "code",
   "execution_count": 77,
   "metadata": {},
   "outputs": [
    {
     "name": "stdout",
     "output_type": "stream",
     "text": [
      "100\n"
     ]
    }
   ],
   "source": [
    "print(li[-1][1])"
   ]
  },
  {
   "cell_type": "markdown",
   "metadata": {},
   "source": [
    "*********"
   ]
  },
  {
   "cell_type": "markdown",
   "metadata": {},
   "source": [
    "# Python String Functions for list"
   ]
  },
  {
   "cell_type": "markdown",
   "metadata": {},
   "source": [
    "### Here this append function is used to add the single value in last index"
   ]
  },
  {
   "cell_type": "code",
   "execution_count": 78,
   "metadata": {},
   "outputs": [
    {
     "name": "stdout",
     "output_type": "stream",
     "text": [
      "[10, 20, 30, 40, 'irfan', True, 45.6, [90, 100, 80], False]\n"
     ]
    }
   ],
   "source": [
    "li.append(False) \n",
    "print(li)"
   ]
  },
  {
   "cell_type": "markdown",
   "metadata": {},
   "source": [
    "*********"
   ]
  },
  {
   "cell_type": "markdown",
   "metadata": {},
   "source": [
    "### This extend function is used to add the multiple values in single time in the  last index"
   ]
  },
  {
   "cell_type": "code",
   "execution_count": 79,
   "metadata": {},
   "outputs": [
    {
     "name": "stdout",
     "output_type": "stream",
     "text": [
      "[10, 20, 30, 40, 'irfan', True, 45.6, [90, 100, 80], False, 60, 70, 30]\n"
     ]
    }
   ],
   "source": [
    "li.extend([60,70,30]) \n",
    "print(li)"
   ]
  },
  {
   "cell_type": "markdown",
   "metadata": {},
   "source": [
    "*****"
   ]
  },
  {
   "cell_type": "markdown",
   "metadata": {},
   "source": [
    "******"
   ]
  },
  {
   "cell_type": "markdown",
   "metadata": {},
   "source": [
    "# Also here we can use some basic Python String Functions"
   ]
  },
  {
   "cell_type": "markdown",
   "metadata": {},
   "source": [
    "### Here we can use count function to find how many times the 30 is repeat"
   ]
  },
  {
   "cell_type": "code",
   "execution_count": 80,
   "metadata": {},
   "outputs": [
    {
     "name": "stdout",
     "output_type": "stream",
     "text": [
      "2\n"
     ]
    }
   ],
   "source": [
    "print(li.count(30))"
   ]
  },
  {
   "cell_type": "markdown",
   "metadata": {},
   "source": [
    "### Using this index function we find the num 30 in which index num but it will find only first 30"
   ]
  },
  {
   "cell_type": "code",
   "execution_count": 81,
   "metadata": {},
   "outputs": [
    {
     "name": "stdout",
     "output_type": "stream",
     "text": [
      "2\n"
     ]
    }
   ],
   "source": [
    "print(li.index(30))"
   ]
  },
  {
   "cell_type": "markdown",
   "metadata": {},
   "source": [
    "**********"
   ]
  },
  {
   "cell_type": "markdown",
   "metadata": {},
   "source": [
    "**********"
   ]
  },
  {
   "cell_type": "markdown",
   "metadata": {},
   "source": [
    "### It will remove the value using index number"
   ]
  },
  {
   "cell_type": "code",
   "execution_count": 82,
   "metadata": {},
   "outputs": [
    {
     "name": "stdout",
     "output_type": "stream",
     "text": [
      "[10, 20, 30, 40, 'irfan', True, 45.6, [90, 100, 80], False, 60, 70, 30]\n",
      "irfan\n",
      "[10, 20, 30, 40, True, 45.6, [90, 100, 80], False, 60, 70, 30]\n"
     ]
    }
   ],
   "source": [
    "print(li)\n",
    "print(li.pop(4))\n",
    "print(li)"
   ]
  },
  {
   "cell_type": "markdown",
   "metadata": {},
   "source": [
    "### It will remove the value using name"
   ]
  },
  {
   "cell_type": "code",
   "execution_count": 83,
   "metadata": {},
   "outputs": [
    {
     "name": "stdout",
     "output_type": "stream",
     "text": [
      "[10, 20, 30, 40, True, 45.6, [90, 100, 80], False, 60, 70, 30]\n",
      "[10, 20, 30, 40, True, 45.6, [90, 100, 80], False, 60, 30]\n"
     ]
    }
   ],
   "source": [
    "print(li)\n",
    "li.remove(70)\n",
    "print(li)"
   ]
  },
  {
   "cell_type": "markdown",
   "metadata": {},
   "source": [
    "### It will delete the value using index number"
   ]
  },
  {
   "cell_type": "code",
   "execution_count": 84,
   "metadata": {},
   "outputs": [
    {
     "name": "stdout",
     "output_type": "stream",
     "text": [
      "[10, 20, 30, True, 45.6, [90, 100, 80], False, 60, 30]\n"
     ]
    }
   ],
   "source": [
    "del li[3]\n",
    "print(li)"
   ]
  },
  {
   "cell_type": "markdown",
   "metadata": {},
   "source": [
    "### Here we can use insert function to define where we want to enter the number using index number"
   ]
  },
  {
   "cell_type": "code",
   "execution_count": 85,
   "metadata": {},
   "outputs": [
    {
     "name": "stdout",
     "output_type": "stream",
     "text": [
      "[10, 20, 30, True, 45.6, [90, 100, 80], False, 60, 30]\n",
      "[10, 20, 30, True, 50, 45.6, [90, 100, 80], False, 60, 30]\n"
     ]
    }
   ],
   "source": [
    "print(li)\n",
    "li.insert(4,50)\n",
    "print(li)"
   ]
  },
  {
   "cell_type": "markdown",
   "metadata": {},
   "source": [
    "### Here we can see li variable is assigning to li2 variable and we add onemore value into the li2 variable \n",
    "### Now we check both li and li2 we can able see li2 variable affect li  variable also  "
   ]
  },
  {
   "cell_type": "code",
   "execution_count": 86,
   "metadata": {},
   "outputs": [
    {
     "name": "stdout",
     "output_type": "stream",
     "text": [
      "[10, 20, 30, True, 50, 45.6, [90, 100, 80], False, 60, 30, 80] id: 2678673003200\n",
      "[10, 20, 30, True, 50, 45.6, [90, 100, 80], False, 60, 30, 80] id: 2678673003200\n"
     ]
    }
   ],
   "source": [
    "li2 = li\n",
    "li2.append(80)\n",
    "print((li),\"id:\",id(li))\n",
    "print((li2),\"id:\",id(li2)) "
   ]
  },
  {
   "cell_type": "markdown",
   "metadata": {},
   "source": [
    "### To over come this problem we can use copy function\n",
    "### Now we check both li and li2 we can able see li2 variable not affect li variable also"
   ]
  },
  {
   "cell_type": "code",
   "execution_count": 87,
   "metadata": {},
   "outputs": [
    {
     "name": "stdout",
     "output_type": "stream",
     "text": [
      "[10, 20, 30, True, 50, 45.6, [90, 100, 80], False, 60, 30, 80] id: 2678673003200\n",
      "[10, 20, 30, True, 50, 45.6, [90, 100, 80], False, 60, 30, 80, 70] id: 2678671910592\n"
     ]
    }
   ],
   "source": [
    "li2 = li.copy() \n",
    "li2.append(70) \n",
    "print((li),\"id:\",id(li))\n",
    "print((li2),\"id:\",id(li2)) "
   ]
  },
  {
   "cell_type": "markdown",
   "metadata": {},
   "source": [
    "### We can do list Slicing in list also"
   ]
  },
  {
   "cell_type": "code",
   "execution_count": 88,
   "metadata": {},
   "outputs": [
    {
     "name": "stdout",
     "output_type": "stream",
     "text": [
      "[30, 40, 'irfan', True]\n"
     ]
    }
   ],
   "source": [
    "li=[10,20,30,40,\"irfan\",True,45.6]\n",
    "print(li[2:6])"
   ]
  },
  {
   "cell_type": "markdown",
   "metadata": {},
   "source": [
    "**********"
   ]
  },
  {
   "cell_type": "markdown",
   "metadata": {},
   "source": [
    "# Tuple immutible"
   ]
  },
  {
   "cell_type": "markdown",
   "metadata": {},
   "source": [
    "### Also we can put list in tuple, tuple in list"
   ]
  },
  {
   "cell_type": "code",
   "execution_count": 89,
   "metadata": {},
   "outputs": [],
   "source": [
    "tup=(10,20,30,40,\"irfan\", True,45.6,[90,100,80])"
   ]
  },
  {
   "cell_type": "markdown",
   "metadata": {},
   "source": [
    "### Here also we use list bracket to access the index value"
   ]
  },
  {
   "cell_type": "code",
   "execution_count": 90,
   "metadata": {},
   "outputs": [
    {
     "name": "stdout",
     "output_type": "stream",
     "text": [
      "45.6\n"
     ]
    }
   ],
   "source": [
    "print(tup[6])"
   ]
  },
  {
   "cell_type": "markdown",
   "metadata": {},
   "source": [
    "### We can do list Slicing in tuple also"
   ]
  },
  {
   "cell_type": "code",
   "execution_count": 91,
   "metadata": {},
   "outputs": [
    {
     "name": "stdout",
     "output_type": "stream",
     "text": [
      "(30, 40, 'irfan', True)\n"
     ]
    }
   ],
   "source": [
    "print(tup[2:6])"
   ]
  },
  {
   "cell_type": "markdown",
   "metadata": {},
   "source": [
    "### These two only we can able to do in tuple"
   ]
  },
  {
   "cell_type": "code",
   "execution_count": 92,
   "metadata": {},
   "outputs": [
    {
     "name": "stdout",
     "output_type": "stream",
     "text": [
      "3\n",
      "1\n"
     ]
    }
   ],
   "source": [
    "print(tup.index(40)) \n",
    "print(tup.count(10))"
   ]
  },
  {
   "cell_type": "markdown",
   "metadata": {},
   "source": [
    "********"
   ]
  },
  {
   "cell_type": "markdown",
   "metadata": {},
   "source": [
    "# Difference between list and tuple"
   ]
  },
  {
   "cell_type": "raw",
   "metadata": {},
   "source": [
    "First list is created by using tuple\n",
    "Inside list is tuple how means every list value have index value \n",
    "First index have this value second index have this value\n",
    "list-[(0,10),(1,20),(2,30)]"
   ]
  },
  {
   "cell_type": "markdown",
   "metadata": {},
   "source": [
    "### Here we using enumerate function to separate the index and value"
   ]
  },
  {
   "cell_type": "code",
   "execution_count": 93,
   "metadata": {},
   "outputs": [
    {
     "name": "stdout",
     "output_type": "stream",
     "text": [
      "0 10\n",
      "1 20\n",
      "2 30\n",
      "3 40\n",
      "4 irfan\n",
      "5 True\n",
      "6 45.6\n"
     ]
    }
   ],
   "source": [
    "for index,value in enumerate(li): \n",
    "    print(index,value)"
   ]
  },
  {
   "cell_type": "markdown",
   "metadata": {},
   "source": [
    "### Here we using sort function to order the values in ascending order"
   ]
  },
  {
   "cell_type": "code",
   "execution_count": 94,
   "metadata": {},
   "outputs": [
    {
     "name": "stdout",
     "output_type": "stream",
     "text": [
      "['A', 'B', 'c', 'd', 'h', 'z']\n"
     ]
    }
   ],
   "source": [
    "nums=[\"B\",\"c\",\"A\",\"d\",\"z\",\"h\"]   \n",
    "nums.sort()\n",
    "print(nums)"
   ]
  },
  {
   "cell_type": "code",
   "execution_count": 95,
   "metadata": {},
   "outputs": [
    {
     "name": "stdout",
     "output_type": "stream",
     "text": [
      "[20, 30, 40, 80, 85, 480]\n"
     ]
    }
   ],
   "source": [
    "nums=[20,30,480,40,80,85]    \n",
    "nums.sort()\n",
    "print(nums)"
   ]
  },
  {
   "cell_type": "markdown",
   "metadata": {},
   "source": [
    "************"
   ]
  },
  {
   "cell_type": "markdown",
   "metadata": {},
   "source": [
    "# Bubble Sort"
   ]
  },
  {
   "cell_type": "markdown",
   "metadata": {},
   "source": [
    "### How bubble sort is work?"
   ]
  },
  {
   "cell_type": "raw",
   "metadata": {},
   "source": [
    "Bubble Sort is the simplest sorting algorithm that works by repeatedly swapping the adjacent elements if they are in the wrong order. "
   ]
  },
  {
   "cell_type": "raw",
   "metadata": {},
   "source": [
    "first it will compare first value and second value again it will compare second value and third value it will continue when the value is end"
   ]
  },
  {
   "cell_type": "markdown",
   "metadata": {},
   "source": [
    "*********"
   ]
  },
  {
   "cell_type": "code",
   "execution_count": 96,
   "metadata": {},
   "outputs": [
    {
     "name": "stdout",
     "output_type": "stream",
     "text": [
      "['A', 'B', 'c', 'd', 'h', 'z']\n"
     ]
    }
   ],
   "source": [
    "li=[\"B\",\"c\",\"A\",\"d\",\"z\",\"h\"]\n",
    "n = len(li)\n",
    "for i in range(n-1):\n",
    "    for j in range(0,n-i-1):\n",
    "        if li[j]>li[j+1]:\n",
    "            li[j],li[j+1]=li[j+1],li[j]\n",
    "print(li)"
   ]
  },
  {
   "cell_type": "code",
   "execution_count": 97,
   "metadata": {},
   "outputs": [
    {
     "name": "stdout",
     "output_type": "stream",
     "text": [
      "[20, 30, 40, 80, 85, 480]\n"
     ]
    }
   ],
   "source": [
    "li=[20,30,480,40,80,85]\n",
    "n = len(li)\n",
    "for i in range(n-1):\n",
    "    for j in range(0,n-i-1):\n",
    "        if li[j]>li[j+1]:\n",
    "            li[j],li[j+1]=li[j+1],li[j]\n",
    "print(li)"
   ]
  },
  {
   "cell_type": "markdown",
   "metadata": {},
   "source": [
    "*******"
   ]
  },
  {
   "cell_type": "raw",
   "metadata": {},
   "source": [
    "this is not tuple\n",
    "(20)\n",
    "\n",
    "this is tuple single time tuple\n",
    "(20,)"
   ]
  },
  {
   "cell_type": "code",
   "execution_count": 98,
   "metadata": {},
   "outputs": [
    {
     "name": "stdout",
     "output_type": "stream",
     "text": [
      "(20, 30, 10, 50, 80, 90, 100)\n"
     ]
    }
   ],
   "source": [
    "li= [20,30,10,50,20,80,90,50,100,30]\n",
    "tup=()\n",
    "for value in li:\n",
    "    if value not in tup:\n",
    "        tup += (value,)\n",
    "print(tup)"
   ]
  },
  {
   "cell_type": "code",
   "execution_count": 99,
   "metadata": {},
   "outputs": [
    {
     "name": "stdout",
     "output_type": "stream",
     "text": [
      "mohammed irfan\n",
      "(20, 30, 30, 40)\n"
     ]
    }
   ],
   "source": [
    "print(\"mohammed \"+\"irfan\")\n",
    "print((20,30)+(30,40))"
   ]
  },
  {
   "cell_type": "markdown",
   "metadata": {},
   "source": [
    "************"
   ]
  },
  {
   "cell_type": "markdown",
   "metadata": {},
   "source": [
    "# Sets operators"
   ]
  },
  {
   "cell_type": "raw",
   "metadata": {},
   "source": [
    "{} It is called flower bracket \n",
    "It will remove the buplicate values and change the order\n",
    "not have index value so we can't able to call  the value using index num"
   ]
  },
  {
   "cell_type": "code",
   "execution_count": 100,
   "metadata": {
    "scrolled": true
   },
   "outputs": [
    {
     "name": "stdout",
     "output_type": "stream",
     "text": [
      "{True, 34.67, 10, 80, 50, 20, 'hi', 30}\n",
      "{False, 70, 40, 10, 'mohammed', 80, 30, 63.2}\n"
     ]
    }
   ],
   "source": [
    "s1 ={10,20,30,10,20,80,50,'hi',True,34.67} \n",
    "s2={70,40,30,\"mohammed\",63.2,10,80,False,30}\n",
    "print(s1)\n",
    "print(s2)"
   ]
  },
  {
   "cell_type": "markdown",
   "metadata": {},
   "source": [
    "### for add single value"
   ]
  },
  {
   "cell_type": "code",
   "execution_count": 101,
   "metadata": {
    "scrolled": true
   },
   "outputs": [
    {
     "name": "stdout",
     "output_type": "stream",
     "text": [
      "{False, True, 34.67, 10, 80, 50, 20, 'hi', 30}\n"
     ]
    }
   ],
   "source": [
    "s1.add(False)\n",
    "print(s1)"
   ]
  },
  {
   "cell_type": "markdown",
   "metadata": {},
   "source": [
    "### update is for add multiple values"
   ]
  },
  {
   "cell_type": "code",
   "execution_count": 102,
   "metadata": {},
   "outputs": [
    {
     "name": "stdout",
     "output_type": "stream",
     "text": [
      "{False, True, 34.67, 101, 102, 10, 45.89, 80, 50, 20, 'hi', 30}\n"
     ]
    }
   ],
   "source": [
    "s1.update({102,101,45.89}) \n",
    "print(s1)"
   ]
  },
  {
   "cell_type": "markdown",
   "metadata": {},
   "source": [
    "### It will remove the random values"
   ]
  },
  {
   "cell_type": "code",
   "execution_count": 103,
   "metadata": {},
   "outputs": [
    {
     "name": "stdout",
     "output_type": "stream",
     "text": [
      "{True, 34.67, 101, 102, 10, 45.89, 80, 50, 20, 'hi', 30}\n"
     ]
    }
   ],
   "source": [
    "s1.pop() \n",
    "print(s1)"
   ]
  },
  {
   "cell_type": "markdown",
   "metadata": {},
   "source": [
    "***********"
   ]
  },
  {
   "cell_type": "markdown",
   "metadata": {},
   "source": [
    "### It will remove the particular value but the value not in the set it will show error"
   ]
  },
  {
   "cell_type": "code",
   "execution_count": 104,
   "metadata": {},
   "outputs": [
    {
     "name": "stdout",
     "output_type": "stream",
     "text": [
      "{34.67, 101, 102, 10, 45.89, 80, 50, 20, 'hi', 30}\n"
     ]
    }
   ],
   "source": [
    "s1.remove(True) \n",
    "print(s1)"
   ]
  },
  {
   "cell_type": "markdown",
   "metadata": {},
   "source": [
    "### To over come these proble we will use discard function "
   ]
  },
  {
   "cell_type": "code",
   "execution_count": 105,
   "metadata": {},
   "outputs": [
    {
     "name": "stdout",
     "output_type": "stream",
     "text": [
      "{34.67, 101, 102, 10, 45.89, 80, 50, 20, 'hi', 30}\n"
     ]
    }
   ],
   "source": [
    "s1.discard(True) \n",
    "print(s1)"
   ]
  },
  {
   "cell_type": "markdown",
   "metadata": {},
   "source": [
    "**********************"
   ]
  },
  {
   "cell_type": "markdown",
   "metadata": {},
   "source": [
    "### It will join the two sets but it will not allow the duplicates "
   ]
  },
  {
   "cell_type": "code",
   "execution_count": 106,
   "metadata": {},
   "outputs": [
    {
     "name": "stdout",
     "output_type": "stream",
     "text": [
      "{False, 34.67, 101, 102, 70, 40, 10, 45.89, 'mohammed', 80, 50, 20, 'hi', 30, 63.2}\n"
     ]
    }
   ],
   "source": [
    "print(s1.union(s2))"
   ]
  },
  {
   "cell_type": "markdown",
   "metadata": {},
   "source": [
    "### It will only return the common values from the two sets "
   ]
  },
  {
   "cell_type": "code",
   "execution_count": 107,
   "metadata": {},
   "outputs": [
    {
     "name": "stdout",
     "output_type": "stream",
     "text": [
      "{80, 10, 30}\n"
     ]
    }
   ],
   "source": [
    "print(s1.intersection(s2))"
   ]
  },
  {
   "cell_type": "markdown",
   "metadata": {},
   "source": [
    "### It is exatly opposite to intersection but it will return which you give first"
   ]
  },
  {
   "cell_type": "code",
   "execution_count": 108,
   "metadata": {},
   "outputs": [
    {
     "name": "stdout",
     "output_type": "stream",
     "text": [
      "{34.67, 101, 102, 45.89, 50, 20, 'hi'}\n",
      "{False, 70, 40, 'mohammed', 63.2}\n"
     ]
    }
   ],
   "source": [
    "print(s1.difference(s2))\n",
    "print(s2.difference(s1))"
   ]
  },
  {
   "cell_type": "markdown",
   "metadata": {},
   "source": [
    "### It will return every set values but it will not return the duplicate values"
   ]
  },
  {
   "cell_type": "code",
   "execution_count": 109,
   "metadata": {},
   "outputs": [
    {
     "name": "stdout",
     "output_type": "stream",
     "text": [
      "{False, 34.67, 101, 70, 102, 40, 45.89, 'mohammed', 50, 20, 'hi', 63.2}\n"
     ]
    }
   ],
   "source": [
    "print(s1.symmetric_difference(s2))"
   ]
  },
  {
   "cell_type": "markdown",
   "metadata": {},
   "source": [
    "***********"
   ]
  },
  {
   "cell_type": "markdown",
   "metadata": {},
   "source": [
    "# Dictionary"
   ]
  },
  {
   "cell_type": "raw",
   "metadata": {},
   "source": [
    "key value pair\n",
    "key:value\n",
    "It willl not change the order"
   ]
  },
  {
   "cell_type": "markdown",
   "metadata": {},
   "source": [
    "### Key value"
   ]
  },
  {
   "cell_type": "code",
   "execution_count": 110,
   "metadata": {},
   "outputs": [],
   "source": [
    "d={101:\"vijai\",102:\"imran\",103:\"tamil\",104:\"jenu\"}"
   ]
  },
  {
   "cell_type": "raw",
   "metadata": {},
   "source": [
    "Here we calling value using key \n",
    "for example 101 is key vijai is value"
   ]
  },
  {
   "cell_type": "code",
   "execution_count": 111,
   "metadata": {},
   "outputs": [
    {
     "name": "stdout",
     "output_type": "stream",
     "text": [
      "vijai\n"
     ]
    }
   ],
   "source": [
    "print(d[101])"
   ]
  },
  {
   "cell_type": "markdown",
   "metadata": {},
   "source": [
    "### Using this keys function we can able see the keys"
   ]
  },
  {
   "cell_type": "code",
   "execution_count": 112,
   "metadata": {},
   "outputs": [
    {
     "name": "stdout",
     "output_type": "stream",
     "text": [
      "dict_keys([101, 102, 103, 104])\n"
     ]
    }
   ],
   "source": [
    "print(d.keys())"
   ]
  },
  {
   "cell_type": "markdown",
   "metadata": {},
   "source": [
    "### Using this values function we can able see the values"
   ]
  },
  {
   "cell_type": "code",
   "execution_count": 113,
   "metadata": {},
   "outputs": [
    {
     "name": "stdout",
     "output_type": "stream",
     "text": [
      "dict_values(['vijai', 'imran', 'tamil', 'jenu'])\n"
     ]
    }
   ],
   "source": [
    "print(d.values())"
   ]
  },
  {
   "cell_type": "markdown",
   "metadata": {},
   "source": [
    "### Add single new value"
   ]
  },
  {
   "cell_type": "code",
   "execution_count": 114,
   "metadata": {},
   "outputs": [
    {
     "name": "stdout",
     "output_type": "stream",
     "text": [
      "{101: 'vijai', 102: 'imran', 103: 'tamil', 104: 'jenu', 105: 'pavi'}\n"
     ]
    }
   ],
   "source": [
    "d[105]=\"pavi\"\n",
    "print(d)"
   ]
  },
  {
   "cell_type": "markdown",
   "metadata": {},
   "source": [
    "### Using setdefault function it will add the new values in the keys if the keys and value is already existed it will print the values"
   ]
  },
  {
   "cell_type": "code",
   "execution_count": 115,
   "metadata": {},
   "outputs": [
    {
     "name": "stdout",
     "output_type": "stream",
     "text": [
      "pavi\n"
     ]
    }
   ],
   "source": [
    "print(d.setdefault(105,\"riyas\"))"
   ]
  },
  {
   "cell_type": "markdown",
   "metadata": {},
   "source": [
    "### Using this update function it will add multiple values in single time"
   ]
  },
  {
   "cell_type": "code",
   "execution_count": 116,
   "metadata": {},
   "outputs": [],
   "source": [
    "d.update({\"marks\":[10,20,30,40],\"subjects\":[\"tamil\",\"english\",\"maths\"]})"
   ]
  },
  {
   "cell_type": "code",
   "execution_count": 117,
   "metadata": {},
   "outputs": [
    {
     "name": "stdout",
     "output_type": "stream",
     "text": [
      "[10, 20, 30, 40]\n"
     ]
    }
   ],
   "source": [
    "print(d[\"marks\"])"
   ]
  },
  {
   "cell_type": "code",
   "execution_count": 118,
   "metadata": {},
   "outputs": [
    {
     "name": "stdout",
     "output_type": "stream",
     "text": [
      "['tamil', 'english', 'maths']\n"
     ]
    }
   ],
   "source": [
    "print(d[\"subjects\"])"
   ]
  },
  {
   "cell_type": "code",
   "execution_count": 119,
   "metadata": {},
   "outputs": [
    {
     "name": "stdout",
     "output_type": "stream",
     "text": [
      "{101: 'vijai', 102: 'imran', 103: 'tamil', 104: 'jenu', 105: 'pavi', 'marks': [10, 20, 30, 40], 'subjects': ['tamil', 'english', 'maths']}\n"
     ]
    }
   ],
   "source": [
    "print(d)"
   ]
  },
  {
   "cell_type": "markdown",
   "metadata": {},
   "source": [
    "### Using this pop function it will remove the spcific key using keys "
   ]
  },
  {
   "cell_type": "code",
   "execution_count": 120,
   "metadata": {},
   "outputs": [
    {
     "name": "stdout",
     "output_type": "stream",
     "text": [
      "{101: 'vijai', 103: 'tamil', 104: 'jenu', 105: 'pavi', 'marks': [10, 20, 30, 40], 'subjects': ['tamil', 'english', 'maths']}\n"
     ]
    }
   ],
   "source": [
    "d.pop(102,105)\n",
    "print(d)"
   ]
  },
  {
   "cell_type": "markdown",
   "metadata": {},
   "source": [
    "### Using this popitem function it will remove the last insert value "
   ]
  },
  {
   "cell_type": "code",
   "execution_count": 121,
   "metadata": {},
   "outputs": [
    {
     "name": "stdout",
     "output_type": "stream",
     "text": [
      "{101: 'vijai', 103: 'tamil', 104: 'jenu', 105: 'pavi', 'marks': [10, 20, 30, 40]}\n"
     ]
    }
   ],
   "source": [
    "d.popitem()\n",
    "print(d)"
   ]
  },
  {
   "cell_type": "markdown",
   "metadata": {},
   "source": [
    "### If the value present in the set no issue it will print else if the value is not present in the set it show error"
   ]
  },
  {
   "cell_type": "code",
   "execution_count": 122,
   "metadata": {},
   "outputs": [
    {
     "name": "stdout",
     "output_type": "stream",
     "text": [
      "pavi\n"
     ]
    }
   ],
   "source": [
    "print(d[105])"
   ]
  },
  {
   "cell_type": "markdown",
   "metadata": {},
   "source": [
    "### Using this clear function it will remove the last insert value"
   ]
  },
  {
   "cell_type": "code",
   "execution_count": 123,
   "metadata": {},
   "outputs": [
    {
     "name": "stdout",
     "output_type": "stream",
     "text": [
      "{}\n"
     ]
    }
   ],
   "source": [
    "d.clear()\n",
    "print(d)"
   ]
  },
  {
   "cell_type": "markdown",
   "metadata": {},
   "source": [
    "### If the value present in the set it will print else it will print 0"
   ]
  },
  {
   "cell_type": "code",
   "execution_count": 124,
   "metadata": {},
   "outputs": [
    {
     "name": "stdout",
     "output_type": "stream",
     "text": [
      "0\n"
     ]
    }
   ],
   "source": [
    "print(d.get(102,0))"
   ]
  },
  {
   "cell_type": "markdown",
   "metadata": {},
   "source": [
    "******"
   ]
  },
  {
   "cell_type": "markdown",
   "metadata": {},
   "source": [
    "### This code is used to count the string"
   ]
  },
  {
   "cell_type": "code",
   "execution_count": 125,
   "metadata": {},
   "outputs": [
    {
     "name": "stdout",
     "output_type": "stream",
     "text": [
      "Enter a string:vijai\n",
      "v 1\n",
      "i 2\n",
      "j 1\n",
      "a 1\n",
      "i 2\n"
     ]
    }
   ],
   "source": [
    "string = input(\"Enter a string:\")\n",
    "for ch in string:\n",
    "    print(ch,string.count(ch))"
   ]
  },
  {
   "cell_type": "markdown",
   "metadata": {},
   "source": [
    "******"
   ]
  },
  {
   "cell_type": "markdown",
   "metadata": {},
   "source": [
    "### This code is used to count the string using set function"
   ]
  },
  {
   "cell_type": "code",
   "execution_count": 126,
   "metadata": {},
   "outputs": [
    {
     "name": "stdout",
     "output_type": "stream",
     "text": [
      "Enter a string:vijai\n",
      "i 2\n",
      "a 1\n",
      "v 1\n",
      "j 1\n"
     ]
    }
   ],
   "source": [
    "string = input(\"Enter a string:\")\n",
    "charecters=set(string)\n",
    "for ch in charecters:\n",
    "#for ch in set(string):\n",
    "    print(ch,string.count(ch))"
   ]
  },
  {
   "cell_type": "markdown",
   "metadata": {},
   "source": [
    "*****"
   ]
  },
  {
   "cell_type": "markdown",
   "metadata": {},
   "source": [
    "### Using dictionary"
   ]
  },
  {
   "cell_type": "markdown",
   "metadata": {},
   "source": [
    "### This items function we can able see the keys and values like this ([('v', 1), ('i', 2), ('j', 1), ('a', 1)])"
   ]
  },
  {
   "cell_type": "code",
   "execution_count": 127,
   "metadata": {},
   "outputs": [
    {
     "name": "stdout",
     "output_type": "stream",
     "text": [
      "Enter a string:vijai\n",
      "dict_items([('v', 1), ('i', 2), ('j', 1), ('a', 1)])\n"
     ]
    }
   ],
   "source": [
    "string = input(\"Enter a string:\")\n",
    "d={}\n",
    "for ch in string:\n",
    "    d[ch]=d.get(ch,0)+1\n",
    "print(d.items())\n",
    "#print(d)"
   ]
  },
  {
   "cell_type": "code",
   "execution_count": 128,
   "metadata": {},
   "outputs": [
    {
     "name": "stdout",
     "output_type": "stream",
     "text": [
      "Enter a string:vijai\n",
      "v 1\n",
      "i 2\n",
      "j 1\n",
      "a 1\n"
     ]
    }
   ],
   "source": [
    "string = input(\"Enter a string:\")\n",
    "d={}\n",
    "for ch in string:\n",
    "    d[ch]=d.get(ch,0)+1\n",
    "for key,value in d.items():\n",
    "    print(key,value)"
   ]
  },
  {
   "cell_type": "markdown",
   "metadata": {},
   "source": [
    "********"
   ]
  },
  {
   "cell_type": "markdown",
   "metadata": {},
   "source": [
    "# Functions\n",
    "# There are four types of functions:\n",
    "* User define\n",
    "* Build in\n",
    "* Lambda\n",
    "* Recursion"
   ]
  },
  {
   "cell_type": "markdown",
   "metadata": {},
   "source": [
    "*******"
   ]
  },
  {
   "cell_type": "markdown",
   "metadata": {},
   "source": [
    "# User define"
   ]
  },
  {
   "cell_type": "raw",
   "metadata": {},
   "source": [
    "define\n",
    "call"
   ]
  },
  {
   "cell_type": "raw",
   "metadata": {},
   "source": [
    "Syntex for function\n",
    "def function_name([parameters....]):\n",
    "parameters are nothing but variables\n",
    "Two main compinents parameters and argument\n",
    "for example a in defination it is called parameters\n",
    "In call the function argument\n",
    "\n",
    "statements\n",
    "These variable can use only inside the function"
   ]
  },
  {
   "cell_type": "markdown",
   "metadata": {},
   "source": [
    "### define"
   ]
  },
  {
   "cell_type": "code",
   "execution_count": 129,
   "metadata": {},
   "outputs": [],
   "source": [
    "def greet(a):\n",
    "    print(\"Good Morning\")\n",
    "    print(a)"
   ]
  },
  {
   "cell_type": "markdown",
   "metadata": {},
   "source": [
    "### Here we calling the function"
   ]
  },
  {
   "cell_type": "code",
   "execution_count": 130,
   "metadata": {},
   "outputs": [
    {
     "name": "stdout",
     "output_type": "stream",
     "text": [
      "Good Morning\n",
      "5\n"
     ]
    }
   ],
   "source": [
    "greet(5)"
   ]
  },
  {
   "cell_type": "markdown",
   "metadata": {},
   "source": [
    "********"
   ]
  },
  {
   "cell_type": "markdown",
   "metadata": {},
   "source": [
    "# Arguments"
   ]
  },
  {
   "cell_type": "markdown",
   "metadata": {},
   "source": [
    "### Required positional argument Eg: greet(10,20)"
   ]
  },
  {
   "cell_type": "raw",
   "metadata": {},
   "source": [
    "def greet(a,b):\n",
    "Here the  a and b is called multiple parameters \n",
    "\n",
    "greet(a,b)\n",
    "Here we calling the function and entering the argument\n",
    "\n",
    "Then why we calling this Required positional argument \n",
    "If we give 20 is first and 30 in second \n",
    "for example like this greet(20,30)\n",
    "It is called Required positional argument"
   ]
  },
  {
   "cell_type": "code",
   "execution_count": 131,
   "metadata": {},
   "outputs": [],
   "source": [
    "def greet(a,b):\n",
    "    print(\"Good Morning\")\n",
    "    print(a-b)"
   ]
  },
  {
   "cell_type": "code",
   "execution_count": 132,
   "metadata": {},
   "outputs": [
    {
     "name": "stdout",
     "output_type": "stream",
     "text": [
      "Good Morning\n",
      "-10\n"
     ]
    }
   ],
   "source": [
    "greet(10,20)"
   ]
  },
  {
   "cell_type": "markdown",
   "metadata": {},
   "source": [
    "*******"
   ]
  },
  {
   "cell_type": "markdown",
   "metadata": {},
   "source": [
    "# Keyword argument "
   ]
  },
  {
   "cell_type": "code",
   "execution_count": 133,
   "metadata": {},
   "outputs": [],
   "source": [
    "def greet(a,b):\n",
    "    print(\"Good Morning\")\n",
    "    print(a-b)"
   ]
  },
  {
   "cell_type": "markdown",
   "metadata": {},
   "source": [
    "### Using this Keyword argument we can able to assingn the argument in the correct parameters\n",
    "### Before entering the argument defining the  parameters name is called Keyword argument"
   ]
  },
  {
   "cell_type": "code",
   "execution_count": 134,
   "metadata": {},
   "outputs": [
    {
     "name": "stdout",
     "output_type": "stream",
     "text": [
      "Good Morning\n",
      "10\n"
     ]
    }
   ],
   "source": [
    "greet(b=10,a=20)"
   ]
  },
  {
   "cell_type": "markdown",
   "metadata": {},
   "source": [
    "******"
   ]
  },
  {
   "cell_type": "markdown",
   "metadata": {},
   "source": [
    "### defind argument"
   ]
  },
  {
   "cell_type": "markdown",
   "metadata": {},
   "source": [
    "### If we not give the values to the argument that time the defind argument will take a given value"
   ]
  },
  {
   "cell_type": "code",
   "execution_count": 135,
   "metadata": {},
   "outputs": [],
   "source": [
    "def greet(a,c,b=0):\n",
    "    print(\"Good Morning\")\n",
    "    print(a-b+c)"
   ]
  },
  {
   "cell_type": "code",
   "execution_count": 136,
   "metadata": {},
   "outputs": [
    {
     "name": "stdout",
     "output_type": "stream",
     "text": [
      "Good Morning\n",
      "20\n"
     ]
    }
   ],
   "source": [
    "greet(b=10,a=20,c=10)"
   ]
  },
  {
   "cell_type": "markdown",
   "metadata": {},
   "source": [
    "# Rules"
   ]
  },
  {
   "cell_type": "raw",
   "metadata": {},
   "source": [
    "Required argument is first and default argument is always last\n",
    "Also on calling the function first we want to give values to the required argument and next give values to the key word argument\n",
    "First required argument Second default argument third variable length argument fourth Keyword length argument"
   ]
  },
  {
   "cell_type": "markdown",
   "metadata": {},
   "source": [
    "*****"
   ]
  },
  {
   "cell_type": "raw",
   "metadata": {},
   "source": [
    "variable length argument Eg: def greet(*a): For add multiple values\n",
    "Keyword length argument Eg: def some(b,**a): For example we give only one parameter but  we want to enter more then one parameter that time we use this. It will accepts multiple keyword  argument"
   ]
  },
  {
   "cell_type": "markdown",
   "metadata": {},
   "source": [
    "# variable length argument "
   ]
  },
  {
   "cell_type": "raw",
   "metadata": {},
   "source": [
    "This variable length argument is used to enter the multiple values in single time we didn't want to give the multiple parameters"
   ]
  },
  {
   "cell_type": "code",
   "execution_count": 137,
   "metadata": {},
   "outputs": [],
   "source": [
    "def add(*a):\n",
    "    s=0\n",
    "    for i in a:\n",
    "        s+=i\n",
    "    print(s)"
   ]
  },
  {
   "cell_type": "markdown",
   "metadata": {},
   "source": [
    "### variable length will be change every time"
   ]
  },
  {
   "cell_type": "code",
   "execution_count": 138,
   "metadata": {},
   "outputs": [
    {
     "name": "stdout",
     "output_type": "stream",
     "text": [
      "180\n"
     ]
    }
   ],
   "source": [
    "add(30,20,60,70)"
   ]
  },
  {
   "cell_type": "markdown",
   "metadata": {},
   "source": [
    "************"
   ]
  },
  {
   "cell_type": "markdown",
   "metadata": {},
   "source": [
    "# Keyword length argument"
   ]
  },
  {
   "cell_type": "code",
   "execution_count": 139,
   "metadata": {},
   "outputs": [
    {
     "name": "stdout",
     "output_type": "stream",
     "text": [
      "{'a': 10, 'c': 20, 'd': 90}\n"
     ]
    }
   ],
   "source": [
    "def some(b,**a):\n",
    "    print(a)\n",
    "some(30,a=10,c=20,d=90)"
   ]
  },
  {
   "cell_type": "code",
   "execution_count": 140,
   "metadata": {},
   "outputs": [],
   "source": [
    "def all_arguments(a,b,c=0,d=-1,*args,**kwargs):\n",
    "    print(a,b)\n",
    "    print(c,d)\n",
    "    print(args)\n",
    "    print(kwargs)"
   ]
  },
  {
   "cell_type": "code",
   "execution_count": 141,
   "metadata": {},
   "outputs": [
    {
     "name": "stdout",
     "output_type": "stream",
     "text": [
      "10 20\n",
      "30 40\n",
      "(30, 40, 30, 40, 50)\n",
      "{'e': 60, 'f': 80}\n"
     ]
    }
   ],
   "source": [
    "all_arguments(10,20,30,40,30,40,30,40,50,e=60,f=80)"
   ]
  },
  {
   "cell_type": "markdown",
   "metadata": {},
   "source": [
    "**********************"
   ]
  },
  {
   "cell_type": "markdown",
   "metadata": {},
   "source": [
    "**********************"
   ]
  },
  {
   "cell_type": "markdown",
   "metadata": {},
   "source": [
    "# return type arguments\n",
    "* with argument with return type\n",
    "* with argument without return type\n",
    "* without argument with return type\n",
    "* without argument without return type\n",
    "\n",
    "# rules for def\n",
    "* Always required argument first, default argument is second, Variable length argument is third, Keyword length argument is last. def greet(b,c,d,a=0):\n",
    "\n",
    "# rules for call\n",
    "* Always required argument is first  Keyword argument  is last greet(b,c,d,a=0):"
   ]
  },
  {
   "cell_type": "markdown",
   "metadata": {},
   "source": [
    "********************"
   ]
  },
  {
   "cell_type": "markdown",
   "metadata": {},
   "source": [
    "##### With argument with return type"
   ]
  },
  {
   "cell_type": "code",
   "execution_count": 142,
   "metadata": {},
   "outputs": [],
   "source": [
    "def add(*a):\n",
    "    s=0\n",
    "    for i in a:\n",
    "        s+=i\n",
    "    return s"
   ]
  },
  {
   "cell_type": "code",
   "execution_count": 143,
   "metadata": {},
   "outputs": [],
   "source": [
    "result=add(30,20,60,70)"
   ]
  },
  {
   "cell_type": "code",
   "execution_count": 144,
   "metadata": {},
   "outputs": [
    {
     "name": "stdout",
     "output_type": "stream",
     "text": [
      "180\n"
     ]
    }
   ],
   "source": [
    "print(result)"
   ]
  },
  {
   "cell_type": "code",
   "execution_count": 145,
   "metadata": {},
   "outputs": [
    {
     "name": "stdout",
     "output_type": "stream",
     "text": [
      "180\n"
     ]
    }
   ],
   "source": [
    "print(add(30,20,60,70))"
   ]
  },
  {
   "cell_type": "markdown",
   "metadata": {},
   "source": [
    "*************"
   ]
  },
  {
   "cell_type": "markdown",
   "metadata": {},
   "source": [
    "##### with argument without return type"
   ]
  },
  {
   "cell_type": "markdown",
   "metadata": {},
   "source": [
    "###### if we not give return by default it is none"
   ]
  },
  {
   "cell_type": "code",
   "execution_count": 146,
   "metadata": {},
   "outputs": [],
   "source": [
    "def all_arguments(a,b,c=0,d=-1,*args,**kwargs):\n",
    "    print(a,b)\n",
    "    print(c,d)\n",
    "    print(args)\n",
    "    print(kwargs)"
   ]
  },
  {
   "cell_type": "code",
   "execution_count": 147,
   "metadata": {},
   "outputs": [
    {
     "name": "stdout",
     "output_type": "stream",
     "text": [
      "10 20\n",
      "30 40\n",
      "(30, 40, 30, 40, 50)\n",
      "{'e': 60, 'f': 80}\n"
     ]
    }
   ],
   "source": [
    "all_arguments(10,20,30,40,30,40,30,40,50,e=60,f=80)"
   ]
  },
  {
   "cell_type": "markdown",
   "metadata": {},
   "source": [
    "*******"
   ]
  },
  {
   "cell_type": "markdown",
   "metadata": {},
   "source": [
    "###### without argument with return type"
   ]
  },
  {
   "cell_type": "code",
   "execution_count": 148,
   "metadata": {},
   "outputs": [],
   "source": [
    "def count_charecters():\n",
    "    string=input(\"Enter the string:\")\n",
    "    d={}\n",
    "    for ch in string:\n",
    "        d[ch]=d.get(ch,0)+1\n",
    "    return d"
   ]
  },
  {
   "cell_type": "code",
   "execution_count": 149,
   "metadata": {},
   "outputs": [
    {
     "name": "stdout",
     "output_type": "stream",
     "text": [
      "Enter the string:vijai\n",
      "v 1\n",
      "i 2\n",
      "j 1\n",
      "a 1\n"
     ]
    }
   ],
   "source": [
    "chars = count_charecters()\n",
    "for key,value in chars.items():\n",
    "    print(key,value)"
   ]
  },
  {
   "cell_type": "markdown",
   "metadata": {},
   "source": [
    "***************"
   ]
  },
  {
   "cell_type": "markdown",
   "metadata": {},
   "source": [
    "##### without argument without return type"
   ]
  },
  {
   "cell_type": "code",
   "execution_count": 150,
   "metadata": {},
   "outputs": [],
   "source": [
    "def hello():\n",
    "    print(\"Hello World\")"
   ]
  },
  {
   "cell_type": "code",
   "execution_count": 151,
   "metadata": {},
   "outputs": [
    {
     "name": "stdout",
     "output_type": "stream",
     "text": [
      "Hello World\n"
     ]
    }
   ],
   "source": [
    "hello()"
   ]
  },
  {
   "cell_type": "markdown",
   "metadata": {},
   "source": [
    "*************"
   ]
  },
  {
   "cell_type": "markdown",
   "metadata": {},
   "source": [
    "# Build in\n",
    "* print()\n",
    "* input()\n",
    "* min() \n",
    "* sum()\n",
    "* map()\n",
    "* abs() \n",
    "* exec()\n",
    "* eval() \n",
    "* str() \n",
    "* int()\n",
    "* float()\n",
    "* bool()\n",
    "* bin() \n",
    "* chr() \n",
    "* ord() \n",
    "* filter() \n",
    "* tuple() \n",
    "* list() \n",
    "* dict() \n",
    "* set() "
   ]
  },
  {
   "cell_type": "markdown",
   "metadata": {},
   "source": [
    "##### it will give the smallest value"
   ]
  },
  {
   "cell_type": "code",
   "execution_count": 152,
   "metadata": {},
   "outputs": [
    {
     "name": "stdout",
     "output_type": "stream",
     "text": [
      "8\n"
     ]
    }
   ],
   "source": [
    "print(min([8,70,90]))"
   ]
  },
  {
   "cell_type": "markdown",
   "metadata": {},
   "source": [
    "##### it will give the bigest value"
   ]
  },
  {
   "cell_type": "code",
   "execution_count": 153,
   "metadata": {},
   "outputs": [
    {
     "name": "stdout",
     "output_type": "stream",
     "text": [
      "90\n"
     ]
    }
   ],
   "source": [
    "print(max([8,70,90]))"
   ]
  },
  {
   "cell_type": "markdown",
   "metadata": {},
   "source": [
    "##### add"
   ]
  },
  {
   "cell_type": "code",
   "execution_count": 154,
   "metadata": {},
   "outputs": [
    {
     "name": "stdout",
     "output_type": "stream",
     "text": [
      "168\n"
     ]
    }
   ],
   "source": [
    "print(sum([8,70,90]))"
   ]
  },
  {
   "cell_type": "markdown",
   "metadata": {},
   "source": [
    "##### it will give the binnery value"
   ]
  },
  {
   "cell_type": "code",
   "execution_count": 155,
   "metadata": {},
   "outputs": [
    {
     "name": "stdout",
     "output_type": "stream",
     "text": [
      "0b10100\n"
     ]
    }
   ],
   "source": [
    "print(bin(20))"
   ]
  },
  {
   "cell_type": "code",
   "execution_count": 156,
   "metadata": {},
   "outputs": [
    {
     "name": "stdout",
     "output_type": "stream",
     "text": [
      "100\n"
     ]
    }
   ],
   "source": [
    "a=10\n",
    "print(eval(\"a*10\"))"
   ]
  },
  {
   "cell_type": "code",
   "execution_count": 157,
   "metadata": {},
   "outputs": [
    {
     "name": "stdout",
     "output_type": "stream",
     "text": [
      "30 hello\n",
      "None\n"
     ]
    }
   ],
   "source": [
    "print(exec(\"b=10;print(b*3,'hello')\"))"
   ]
  },
  {
   "cell_type": "code",
   "execution_count": 158,
   "metadata": {},
   "outputs": [
    {
     "name": "stdout",
     "output_type": "stream",
     "text": [
      "89101112\n"
     ]
    }
   ],
   "source": [
    "print(str(89101112))"
   ]
  },
  {
   "cell_type": "markdown",
   "metadata": {},
   "source": [
    "***********"
   ]
  },
  {
   "cell_type": "markdown",
   "metadata": {},
   "source": [
    "# Lambda\n",
    "* It is a name less function\n",
    "* a is parameter\n",
    "* a**2 is expression"
   ]
  },
  {
   "cell_type": "code",
   "execution_count": 159,
   "metadata": {},
   "outputs": [
    {
     "name": "stdout",
     "output_type": "stream",
     "text": [
      "9\n"
     ]
    }
   ],
   "source": [
    "squer = lambda a:a**2\n",
    "print(squer(3))"
   ]
  },
  {
   "cell_type": "code",
   "execution_count": 160,
   "metadata": {},
   "outputs": [
    {
     "name": "stdout",
     "output_type": "stream",
     "text": [
      "9\n"
     ]
    }
   ],
   "source": [
    "print((lambda a:a**2)(3))"
   ]
  },
  {
   "cell_type": "markdown",
   "metadata": {},
   "source": [
    "##### _  is the last excituve comment\n",
    "_(3)"
   ]
  },
  {
   "cell_type": "markdown",
   "metadata": {},
   "source": [
    "##### Here we will understand Function can return the function"
   ]
  },
  {
   "cell_type": "code",
   "execution_count": 161,
   "metadata": {},
   "outputs": [],
   "source": [
    "def some(i):\n",
    "    return lambda a:a**i"
   ]
  },
  {
   "cell_type": "markdown",
   "metadata": {},
   "source": [
    "##### Here double is not a variable it a function because here we return the function"
   ]
  },
  {
   "cell_type": "code",
   "execution_count": 162,
   "metadata": {},
   "outputs": [
    {
     "name": "stdout",
     "output_type": "stream",
     "text": [
      "9\n"
     ]
    }
   ],
   "source": [
    "double=some(2)\n",
    "print(double(3))"
   ]
  },
  {
   "cell_type": "code",
   "execution_count": 163,
   "metadata": {},
   "outputs": [
    {
     "name": "stdout",
     "output_type": "stream",
     "text": [
      "27\n"
     ]
    }
   ],
   "source": [
    "triple=some(3)\n",
    "print(triple(3))"
   ]
  },
  {
   "cell_type": "markdown",
   "metadata": {},
   "source": [
    "**************"
   ]
  },
  {
   "cell_type": "markdown",
   "metadata": {},
   "source": [
    "# map"
   ]
  },
  {
   "cell_type": "markdown",
   "metadata": {},
   "source": [
    "###### Here we want to do two thinks for map one is function another one is iterables (iterables include lists, tuples, and strings - any such sequence can be iterated over in a for-loop.) "
   ]
  },
  {
   "cell_type": "code",
   "execution_count": 164,
   "metadata": {},
   "outputs": [
    {
     "name": "stdout",
     "output_type": "stream",
     "text": [
      "1\n",
      "4\n",
      "9\n",
      "16\n",
      "25\n"
     ]
    }
   ],
   "source": [
    "for i in map(lambda a:a**2,(1,2,3,4,5)):\n",
    "    print(i)"
   ]
  },
  {
   "cell_type": "markdown",
   "metadata": {},
   "source": [
    "##### Here we converting the every single int value into str "
   ]
  },
  {
   "cell_type": "code",
   "execution_count": 165,
   "metadata": {},
   "outputs": [
    {
     "name": "stdout",
     "output_type": "stream",
     "text": [
      "1\n",
      "2\n",
      "3\n",
      "4\n",
      "5\n"
     ]
    }
   ],
   "source": [
    "for i in map(str,[1,2,3,4,5]):\n",
    "    print(i)"
   ]
  },
  {
   "cell_type": "markdown",
   "metadata": {},
   "source": [
    "********"
   ]
  },
  {
   "cell_type": "markdown",
   "metadata": {},
   "source": [
    "# filter "
   ]
  },
  {
   "cell_type": "code",
   "execution_count": 166,
   "metadata": {},
   "outputs": [
    {
     "name": "stdout",
     "output_type": "stream",
     "text": [
      "1 2 3 4 5\n"
     ]
    }
   ],
   "source": [
    "print(*[1,2,3,4,5])"
   ]
  },
  {
   "cell_type": "code",
   "execution_count": 167,
   "metadata": {},
   "outputs": [
    {
     "name": "stdout",
     "output_type": "stream",
     "text": [
      "2 4 6 8 10\n"
     ]
    }
   ],
   "source": [
    "print(*filter(lambda x:x%2==0,[1,2,3,4,5,6,7,8,9,10]))"
   ]
  },
  {
   "cell_type": "markdown",
   "metadata": {},
   "source": [
    "************"
   ]
  },
  {
   "cell_type": "markdown",
   "metadata": {},
   "source": [
    "# recursion"
   ]
  },
  {
   "cell_type": "markdown",
   "metadata": {},
   "source": [
    "###### Python also accepts function recursion, which means a defined function can call itself. Recursion is a common mathematical and programming concept. It means that a function calls itself. This has the benefit of meaning that you can loop through data to reach a result."
   ]
  },
  {
   "cell_type": "code",
   "execution_count": 168,
   "metadata": {},
   "outputs": [],
   "source": [
    "def rec(n):\n",
    "    print(n)\n",
    "    if n==0:\n",
    "        return\n",
    "    return rec(n-1)"
   ]
  },
  {
   "cell_type": "code",
   "execution_count": 169,
   "metadata": {},
   "outputs": [
    {
     "name": "stdout",
     "output_type": "stream",
     "text": [
      "10\n",
      "9\n",
      "8\n",
      "7\n",
      "6\n",
      "5\n",
      "4\n",
      "3\n",
      "2\n",
      "1\n",
      "0\n"
     ]
    }
   ],
   "source": [
    "rec(10)"
   ]
  },
  {
   "cell_type": "markdown",
   "metadata": {},
   "source": [
    "************"
   ]
  },
  {
   "cell_type": "markdown",
   "metadata": {},
   "source": [
    "# factorial "
   ]
  },
  {
   "cell_type": "markdown",
   "metadata": {},
   "source": [
    "##### factorial of 5"
   ]
  },
  {
   "cell_type": "raw",
   "metadata": {},
   "source": [
    "5*4*3*2*1=120"
   ]
  },
  {
   "cell_type": "code",
   "execution_count": 170,
   "metadata": {},
   "outputs": [],
   "source": [
    "def fact(n):\n",
    "    if n==0:\n",
    "        return 1\n",
    "    return n*fact(n-1)"
   ]
  },
  {
   "cell_type": "code",
   "execution_count": 171,
   "metadata": {},
   "outputs": [
    {
     "name": "stdout",
     "output_type": "stream",
     "text": [
      "120\n"
     ]
    }
   ],
   "source": [
    "result = fact(5)\n",
    "print(result)"
   ]
  },
  {
   "cell_type": "markdown",
   "metadata": {},
   "source": [
    "************"
   ]
  },
  {
   "cell_type": "markdown",
   "metadata": {},
   "source": [
    "# Variable scope\n",
    "* Build-in\n",
    "* Global\n",
    "* Enclosed\n",
    "* Local"
   ]
  },
  {
   "cell_type": "markdown",
   "metadata": {},
   "source": [
    "# Local"
   ]
  },
  {
   "cell_type": "code",
   "execution_count": 172,
   "metadata": {},
   "outputs": [],
   "source": [
    "def test():\n",
    "    n=1 #is a local variable we cant able access this on out side the function\n",
    "    print(n)"
   ]
  },
  {
   "cell_type": "code",
   "execution_count": 173,
   "metadata": {},
   "outputs": [
    {
     "name": "stdout",
     "output_type": "stream",
     "text": [
      "1\n"
     ]
    }
   ],
   "source": [
    "test()"
   ]
  },
  {
   "cell_type": "markdown",
   "metadata": {},
   "source": [
    "****"
   ]
  },
  {
   "cell_type": "markdown",
   "metadata": {},
   "source": [
    "# Enclosed"
   ]
  },
  {
   "cell_type": "code",
   "execution_count": 174,
   "metadata": {},
   "outputs": [],
   "source": [
    "def outer():\n",
    "    n=3 # enclosed\n",
    "    # Local\n",
    "    def inner():\n",
    "        nonlocal n\n",
    "        a=1\n",
    "        print(a)\n",
    "        print(n)\n",
    "        #In enclosed variable we have only rights to access not change or modify\n",
    "        #if we want to modify the code we can use nonlocal key\n",
    "        n +=1\n",
    "    inner()\n",
    "    #print(a)\n",
    "    print(n)    "
   ]
  },
  {
   "cell_type": "code",
   "execution_count": 175,
   "metadata": {},
   "outputs": [
    {
     "name": "stdout",
     "output_type": "stream",
     "text": [
      "1\n",
      "3\n",
      "4\n"
     ]
    }
   ],
   "source": [
    "outer()"
   ]
  },
  {
   "cell_type": "markdown",
   "metadata": {},
   "source": [
    "******************"
   ]
  },
  {
   "cell_type": "markdown",
   "metadata": {},
   "source": [
    "# global"
   ]
  },
  {
   "cell_type": "code",
   "execution_count": 176,
   "metadata": {},
   "outputs": [],
   "source": [
    "b=4"
   ]
  },
  {
   "cell_type": "markdown",
   "metadata": {},
   "source": [
    "* Here in global variable we have only rights to access not change or modify\n",
    "* if we want to modify the code we can use nonlocal key"
   ]
  },
  {
   "cell_type": "markdown",
   "metadata": {},
   "source": [
    "###### local"
   ]
  },
  {
   "cell_type": "code",
   "execution_count": 177,
   "metadata": {},
   "outputs": [],
   "source": [
    "def test2():\n",
    "    global b\n",
    "    print(b)\n",
    "    b-=5\n",
    "    print(b)"
   ]
  },
  {
   "cell_type": "code",
   "execution_count": 178,
   "metadata": {},
   "outputs": [
    {
     "name": "stdout",
     "output_type": "stream",
     "text": [
      "4\n",
      "-1\n"
     ]
    }
   ],
   "source": [
    "test2()"
   ]
  },
  {
   "cell_type": "markdown",
   "metadata": {},
   "source": [
    "********************"
   ]
  },
  {
   "cell_type": "markdown",
   "metadata": {},
   "source": [
    "# Build-in"
   ]
  },
  {
   "cell_type": "code",
   "execution_count": 179,
   "metadata": {},
   "outputs": [
    {
     "name": "stdout",
     "output_type": "stream",
     "text": [
      "__main__\n"
     ]
    }
   ],
   "source": [
    "print(__name__)"
   ]
  },
  {
   "cell_type": "markdown",
   "metadata": {},
   "source": [
    "************"
   ]
  },
  {
   "cell_type": "markdown",
   "metadata": {},
   "source": [
    "# Iterators"
   ]
  },
  {
   "cell_type": "markdown",
   "metadata": {},
   "source": [
    "###### An iterator is an object that contains a countable number of values. "
   ]
  },
  {
   "cell_type": "markdown",
   "metadata": {},
   "source": [
    "###### list is the Iterator"
   ]
  },
  {
   "cell_type": "markdown",
   "metadata": {},
   "source": [
    "* iter_,_next_\n",
    "* [1,2,3,4,5]-1 2 3 4 "
   ]
  },
  {
   "cell_type": "code",
   "execution_count": 180,
   "metadata": {},
   "outputs": [],
   "source": [
    "x=[1,2,3,4,5]\n",
    "x=iter(x)"
   ]
  },
  {
   "cell_type": "code",
   "execution_count": 181,
   "metadata": {},
   "outputs": [
    {
     "data": {
      "text/plain": [
       "1"
      ]
     },
     "execution_count": 181,
     "metadata": {},
     "output_type": "execute_result"
    }
   ],
   "source": [
    "next(x)"
   ]
  },
  {
   "cell_type": "code",
   "execution_count": 182,
   "metadata": {},
   "outputs": [
    {
     "data": {
      "text/plain": [
       "2"
      ]
     },
     "execution_count": 182,
     "metadata": {},
     "output_type": "execute_result"
    }
   ],
   "source": [
    "next(x)"
   ]
  },
  {
   "cell_type": "code",
   "execution_count": 183,
   "metadata": {},
   "outputs": [
    {
     "data": {
      "text/plain": [
       "3"
      ]
     },
     "execution_count": 183,
     "metadata": {},
     "output_type": "execute_result"
    }
   ],
   "source": [
    "next(x)"
   ]
  },
  {
   "cell_type": "code",
   "execution_count": 184,
   "metadata": {},
   "outputs": [
    {
     "data": {
      "text/plain": [
       "4"
      ]
     },
     "execution_count": 184,
     "metadata": {},
     "output_type": "execute_result"
    }
   ],
   "source": [
    "next(x)"
   ]
  },
  {
   "cell_type": "code",
   "execution_count": 185,
   "metadata": {},
   "outputs": [
    {
     "data": {
      "text/plain": [
       "5"
      ]
     },
     "execution_count": 185,
     "metadata": {},
     "output_type": "execute_result"
    }
   ],
   "source": [
    "next(x)"
   ]
  },
  {
   "cell_type": "markdown",
   "metadata": {},
   "source": [
    "*****************"
   ]
  },
  {
   "cell_type": "markdown",
   "metadata": {},
   "source": [
    "# yield"
   ]
  },
  {
   "cell_type": "markdown",
   "metadata": {},
   "source": [
    " ###### If the body of a def contains yield, the function automatically becomes a generator function."
   ]
  },
  {
   "cell_type": "code",
   "execution_count": 186,
   "metadata": {},
   "outputs": [],
   "source": [
    "def sample():\n",
    "    i=1\n",
    "    print(\"begin\")\n",
    "    print(\"first call\")\n",
    "    yield i\n",
    "    i+=1\n",
    "    print(\"second call\")\n",
    "    yield i\n",
    "    print(\"hi\")"
   ]
  },
  {
   "cell_type": "code",
   "execution_count": 187,
   "metadata": {},
   "outputs": [
    {
     "name": "stdout",
     "output_type": "stream",
     "text": [
      "begin\n",
      "first call\n",
      "1\n"
     ]
    }
   ],
   "source": [
    "x=sample()\n",
    "print(next(x))"
   ]
  },
  {
   "cell_type": "code",
   "execution_count": 188,
   "metadata": {},
   "outputs": [
    {
     "name": "stdout",
     "output_type": "stream",
     "text": [
      "second call\n",
      "2\n"
     ]
    }
   ],
   "source": [
    "print(next(x))"
   ]
  },
  {
   "cell_type": "markdown",
   "metadata": {},
   "source": [
    "***************"
   ]
  },
  {
   "cell_type": "markdown",
   "metadata": {},
   "source": [
    "###### fibonaci"
   ]
  },
  {
   "cell_type": "markdown",
   "metadata": {},
   "source": [
    "###### 0,1,1,2,3,5,8....."
   ]
  },
  {
   "cell_type": "code",
   "execution_count": 189,
   "metadata": {},
   "outputs": [],
   "source": [
    "def fibonaci(n):\n",
    "    fib0=0\n",
    "    fib1=1\n",
    "    yield fib0\n",
    "    yield fib1\n",
    "    for i in range(n-2):\n",
    "        fib = fib0+fib1\n",
    "        yield fib\n",
    "        fib0,fib1 = fib1,fib"
   ]
  },
  {
   "cell_type": "code",
   "execution_count": 190,
   "metadata": {},
   "outputs": [
    {
     "name": "stdout",
     "output_type": "stream",
     "text": [
      "0\n",
      "1\n",
      "1\n",
      "2\n",
      "3\n",
      "5\n",
      "8\n",
      "13\n",
      "21\n",
      "34\n"
     ]
    }
   ],
   "source": [
    "s = fibonaci(10)\n",
    "for value in s:\n",
    "    print(value)"
   ]
  },
  {
   "cell_type": "markdown",
   "metadata": {},
   "source": [
    "****************"
   ]
  },
  {
   "cell_type": "markdown",
   "metadata": {},
   "source": [
    "# exception\n",
    "* try:\n",
    "* except:\n",
    "* these is used to handal the exception error\n",
    "* Error in Python can be of two types i.e. Syntax errors and Exceptions. Errors are the problems in a program due to which the program will stop the execution. On the other hand, exceptions are raised when some internal events occur which changes the normal flow of the program."
   ]
  },
  {
   "cell_type": "markdown",
   "metadata": {},
   "source": [
    "###### Here we using the try and except function to avoid the ZeroDivisionError"
   ]
  },
  {
   "attachments": {
    "error.JPG": {
     "image/jpeg": "[encoded data removed]"
    }
   },
   "cell_type": "markdown",
   "metadata": {},
   "source": [
    "![error.JPG](attachment:error.JPG)"
   ]
  },
  {
   "cell_type": "code",
   "execution_count": 191,
   "metadata": {},
   "outputs": [
    {
     "name": "stdout",
     "output_type": "stream",
     "text": [
      "canot divide a number with zero\n"
     ]
    }
   ],
   "source": [
    "try:\n",
    "    n=5\n",
    "    print(n/0)\n",
    "except ZeroDivisionError:\n",
    "    print(\"canot divide a number with zero\")"
   ]
  },
  {
   "cell_type": "code",
   "execution_count": 192,
   "metadata": {},
   "outputs": [
    {
     "name": "stdout",
     "output_type": "stream",
     "text": [
      "the given str contains char\n"
     ]
    }
   ],
   "source": [
    "try:\n",
    "    s=\"1234a\"\n",
    "    print(int(s))\n",
    "except ValueError:\n",
    "    print(\"the given str contains char\")"
   ]
  },
  {
   "cell_type": "markdown",
   "metadata": {},
   "source": [
    "**********"
   ]
  },
  {
   "cell_type": "markdown",
   "metadata": {},
   "source": [
    "###### Here we handeling multiple except in single try block"
   ]
  },
  {
   "cell_type": "code",
   "execution_count": 193,
   "metadata": {},
   "outputs": [
    {
     "name": "stdout",
     "output_type": "stream",
     "text": [
      "1.0\n",
      "the string contains charecters\n",
      "closing a file\n"
     ]
    }
   ],
   "source": [
    "try:\n",
    "    n=5\n",
    "    print(n/5)\n",
    "    s=\"1234a\"\n",
    "    print(int(s))\n",
    "except ZeroDivisionError:\n",
    "    print(\"cannot divide a number with zero\")\n",
    "except ValueError:\n",
    "    print(\"the string contains charecters\")\n",
    "except Exception as e:\n",
    "    print(e)\n",
    "finally:\n",
    "    print(\"closing a file\")"
   ]
  },
  {
   "cell_type": "markdown",
   "metadata": {},
   "source": [
    "# rules\n",
    "* only one try block\n",
    "* But except have multiple block\n",
    "* Some times we don't know which error will come that time we can use Exception it will handel every error\n",
    "* finally is always last"
   ]
  },
  {
   "cell_type": "markdown",
   "metadata": {},
   "source": [
    "*************"
   ]
  },
  {
   "cell_type": "markdown",
   "metadata": {},
   "source": [
    "# Files\n",
    "* Here we are going to see about read or write the files using python\n",
    "* There are two methods in file reading open and with"
   ]
  },
  {
   "cell_type": "markdown",
   "metadata": {},
   "source": [
    "# w = write\n",
    "* it will create a new file if the file name is already exist it will remove all content from the file and it will return the new one \n",
    "# a = append\n",
    "* it will create the new file if the file is already exicist it will not remove the file are content it will write the content in last line."
   ]
  },
  {
   "cell_type": "markdown",
   "metadata": {},
   "source": [
    "*************"
   ]
  },
  {
   "cell_type": "markdown",
   "metadata": {},
   "source": [
    "* \\n=next  line\n",
    "* wb=write binar\n",
    "* rb=read binary\n",
    "* r=read"
   ]
  },
  {
   "cell_type": "markdown",
   "metadata": {},
   "source": [
    "# W"
   ]
  },
  {
   "cell_type": "code",
   "execution_count": 194,
   "metadata": {},
   "outputs": [],
   "source": [
    "file=open(\"sample.txt\",\"w\")\n",
    "file.write(\"Hi Hello world\")\n",
    "file.write(\"\\nGood Morning\")\n",
    "li=[\"hi\\n\",\"Hello\\n\",\"how are you?\\n\"]\n",
    "file.writelines(li)\n",
    "file.close()"
   ]
  },
  {
   "cell_type": "code",
   "execution_count": 195,
   "metadata": {},
   "outputs": [
    {
     "data": {
      "text/plain": [
       "<_io.TextIOWrapper name='sample.txt' mode='w' encoding='cp1252'>"
      ]
     },
     "execution_count": 195,
     "metadata": {},
     "output_type": "execute_result"
    }
   ],
   "source": [
    "file"
   ]
  },
  {
   "cell_type": "markdown",
   "metadata": {},
   "source": [
    "************"
   ]
  },
  {
   "cell_type": "markdown",
   "metadata": {},
   "source": [
    "# a"
   ]
  },
  {
   "cell_type": "code",
   "execution_count": 196,
   "metadata": {},
   "outputs": [],
   "source": [
    "file=open(\"sample1.txt\",\"a\")\n",
    "\n",
    "#Here we writing the single single lines using write \n",
    "file.write(\"Hi Hello world\")\n",
    "file.write(\"\\nGood Morning\")\n",
    "\n",
    "#Here we write the list of lines using writelines\n",
    "li=[\"hi\\n\",\"Hello\\n\",\"how are you?\\n\"]\n",
    "file.writelines(li)\n",
    "file.close()"
   ]
  },
  {
   "cell_type": "markdown",
   "metadata": {},
   "source": [
    "**********"
   ]
  },
  {
   "cell_type": "markdown",
   "metadata": {},
   "source": [
    "###### Here the txt is print in line by line using read"
   ]
  },
  {
   "cell_type": "code",
   "execution_count": 197,
   "metadata": {},
   "outputs": [
    {
     "name": "stdout",
     "output_type": "stream",
     "text": [
      "Hi Hello world\n",
      "Good Morninghi\n",
      "Hello\n",
      "how are you?\n",
      "Hi Hello world\n",
      "Good Morninghi\n",
      "Hello\n",
      "how are you?\n",
      "Hi Hello world\n",
      "Good Morninghi\n",
      "Hello\n",
      "how are you?\n",
      "\n"
     ]
    }
   ],
   "source": [
    "file2=open(\"sample1.txt\",\"r\")\n",
    "print(file2.read())\n",
    "file2.close()"
   ]
  },
  {
   "cell_type": "markdown",
   "metadata": {},
   "source": [
    "###### Here the txt is print in single using readlines "
   ]
  },
  {
   "cell_type": "code",
   "execution_count": 198,
   "metadata": {},
   "outputs": [
    {
     "name": "stdout",
     "output_type": "stream",
     "text": [
      "['Hi Hello world\\n', 'Good Morninghi\\n', 'Hello\\n', 'how are you?\\n', 'Hi Hello world\\n', 'Good Morninghi\\n', 'Hello\\n', 'how are you?\\n', 'Hi Hello world\\n', 'Good Morninghi\\n', 'Hello\\n', 'how are you?\\n']\n"
     ]
    }
   ],
   "source": [
    "file2=open(\"sample1.txt\",\"r\")\n",
    "print(file2.readlines())\n",
    "file2.close()"
   ]
  },
  {
   "cell_type": "markdown",
   "metadata": {},
   "source": [
    "###### With it will close auto matically"
   ]
  },
  {
   "cell_type": "code",
   "execution_count": 199,
   "metadata": {},
   "outputs": [
    {
     "name": "stdout",
     "output_type": "stream",
     "text": [
      "Hi Hello world\n",
      "Good Morninghi\n",
      "Hello\n",
      "how are you?\n",
      "Hi Hello world\n",
      "Good Morninghi\n",
      "Hello\n",
      "how are you?\n",
      "Hi Hello world\n",
      "Good Morninghi\n",
      "Hello\n",
      "how are you?\n",
      "\n"
     ]
    }
   ],
   "source": [
    "with open(\"sample1.txt\",\"r\") as file:\n",
    "    print(file.read())"
   ]
  },
  {
   "cell_type": "markdown",
   "metadata": {},
   "source": [
    "**********"
   ]
  },
  {
   "cell_type": "markdown",
   "metadata": {},
   "source": [
    "# Class and Objects\n",
    "* Python will support oops concept \n",
    "* But we can't say Python is pure oops language\n",
    "* Because we can run the python with out class and objects. But python can support\n",
    "* For example java is a pure oops language we can't able to run with out class and obj "
   ]
  },
  {
   "cell_type": "markdown",
   "metadata": {},
   "source": [
    " # What is class?\n",
    "* class is like blue print \n",
    "* for example before we build so object like car, flight we need some blue print that is class\n",
    "* We can able build multiple objects using blue print which means class"
   ]
  },
  {
   "cell_type": "markdown",
   "metadata": {},
   "source": [
    "###### Here you can see the out is class str\n",
    "* So the string(Hi) is class\n",
    "* Now the variable(name) is called obj\n",
    "* We can able to access the obj using (.)dot operator\n",
    "* str is class here the class have multiple functions for example replace()"
   ]
  },
  {
   "cell_type": "code",
   "execution_count": 200,
   "metadata": {},
   "outputs": [
    {
     "name": "stdout",
     "output_type": "stream",
     "text": [
      "<class 'str'>\n"
     ]
    }
   ],
   "source": [
    "name = \"Hi\"\n",
    "#name.replace()\n",
    "print(type(name))"
   ]
  },
  {
   "cell_type": "markdown",
   "metadata": {},
   "source": [
    "* There are two thinks in class variables and functions \n",
    "* In class we tell behavior is nothing but variable and actions is nothing but functions"
   ]
  },
  {
   "cell_type": "markdown",
   "metadata": {},
   "source": [
    "* We not called variables and function in class\n",
    "* we called variables as attributes and functions as methods\n",
    "* In class we called attributes and methods"
   ]
  },
  {
   "cell_type": "markdown",
   "metadata": {},
   "source": [
    "##### constructor\n",
    "##### Variable Types\n",
    "* class variables\n",
    "* instant variables\n",
    "\n",
    "##### Method Types\n",
    "* Non - static method\n",
    "* Static method\n",
    "* class method\n",
    "\n",
    "##### Access Modifiers\n",
    "* private\n",
    "* public\n",
    "* protected\n",
    "\n",
    "##### Getter, setter, deleter"
   ]
  },
  {
   "cell_type": "code",
   "execution_count": 201,
   "metadata": {},
   "outputs": [],
   "source": [
    "class Human:\n",
    "    # In class comanly we called variables and methods as data members \n",
    "    # There are two types of variables in class\n",
    "    \n",
    "    # class variables it defines outside the methods we can call these using objects or class name \n",
    "    # These class variable is comman attribute for all objects \n",
    "    # Suppose we change the class variable it will affect all objects\n",
    "    # For example I change the Human.hands = 3\n",
    "    \n",
    "    # constructor\n",
    "    # What is constructor?\n",
    "    # For example if we creating the object obj1=Human() why this () because it called constructor inside this () their is an \n",
    "    # one default method \n",
    "    # def __init__(self):\n",
    "    #     pass   \n",
    "    # () is calling this method __init__\n",
    "    # If we give name to the object like this obj2=Human(name) it will save here (self,name):\n",
    "    # obj2=Human(name) \n",
    "    \n",
    "    # instant variables will different for every object\n",
    "    # syntax for create the instant variable \n",
    "    # def __int__(self,name):\n",
    "    #     self.name=name\n",
    "    # we can able call the instant variables using object only\n",
    "    \n",
    "    # outside of the method is called class variable\n",
    "    # inside of the method is called instant variables\n",
    "    hands = 2\n",
    "    legs = 2\n",
    "    # Now we are going to create a method in class \n",
    "    # In class it is different\n",
    "    # We creating the def in class the first parameter is self if the parameter is 0 also\n",
    "    def walk(self):\n",
    "        #self is called object also called current working object\n",
    "        print(\"Human can walk with {} legs\".format(Human.legs))\n",
    "        \n",
    "    def __init__(self,name):\n",
    "        self.name=name\n",
    "        \n",
    "    def walk(self):\n",
    "        print(self.name)\n",
    "        print(\"Human can walk with {} legs\".format(Human.legs))    \n",
    "        \n",
    "    # It will run when you delete the object     \n",
    "    #def __del__(self):\n",
    "     #   print(\"Deleted\")\n",
    "        \n",
    "    # Method Types\n",
    "    \n",
    "    # Non - static method\n",
    "    # We can able  to  call the Non - static method using object only\n",
    "    # Example this program\n",
    "    # def walk(self):\n",
    "    #     print(self.name)\n",
    "    #     print(\"Human can walk with {} legs\".format(Human.legs))\n",
    "    # if the self key word is inside the is called constructor\n",
    "    \n",
    "    # class method\n",
    "    # we can able access the class variable and class method using class name\n",
    "    @classmethod # It is called decorators\n",
    "    # Here we didn't want to give self we want to give cls it used to access the class variable but we can't able to access\n",
    "    # the instant variables\n",
    "    def write(cls):\n",
    "        print(\"Human can write using {} hands\".format(cls.hands))\n",
    "        \n",
    "    # Static method\n",
    "    # What is Static method?\n",
    "    # If we didn't going to use class variable and instant variable that time we will use this Static method\n",
    "    # we didn't want to give any parameters to static method\n",
    "    # Also we can able to access this static method using class name\n",
    "    @staticmethod\n",
    "    def greed():\n",
    "        print(\"Good Morning\")\n",
    "        \n",
    "    # Access Modifiers\n",
    "    # private\n",
    "    # We can able access the function only inside the class\n",
    "    # if we try to access outside the class it will show AttributeError\n",
    "    def __init__(self,private):\n",
    "        self.__private=private\n",
    "        \n",
    "    def walk(self):\n",
    "        print(self.__private)\n",
    "        print(\"Human can walk with {} legs\".format(Human.legs))\n",
    "    # Then how to access the private function\n",
    "    # Before that we  want see \n",
    "    # Getter is getting the values from the variable\n",
    "    # setter is setting the values to the variable\n",
    "    # deleter is deleting the variable\n",
    "    \n",
    "    # Here we creating the property it means getter\n",
    "    @property\n",
    "    def private(self):\n",
    "        return self.__private\n",
    "    \n",
    "    # Here we creating the setter to the variable\n",
    "    @private.setter\n",
    "    def private(self,value):\n",
    "        self.__private = value\n",
    "    # Now to we can able to access the private function\n",
    "    \n",
    "    #deleter\n",
    "    @private.deleter\n",
    "    def private(self):\n",
    "        del self.__private\n",
    "    \n",
    "    \n",
    "    # public\n",
    "    # We can able to access the function both inside and outside the class\n",
    "    \n",
    "    # protected    \n",
    "    # we can able this only on parent or child node\n",
    "    \n",
    "        \n",
    "    \n",
    "obj1=Human(\"vj1\")\n",
    "obj2=Human(\"vj2\")"
   ]
  },
  {
   "cell_type": "code",
   "execution_count": 202,
   "metadata": {},
   "outputs": [
    {
     "name": "stdout",
     "output_type": "stream",
     "text": [
      "2\n",
      "2\n"
     ]
    }
   ],
   "source": [
    "print(obj1.hands)\n",
    "print(obj1.legs)"
   ]
  },
  {
   "cell_type": "code",
   "execution_count": 203,
   "metadata": {},
   "outputs": [],
   "source": [
    "#print(obj1.name)"
   ]
  },
  {
   "cell_type": "code",
   "execution_count": 204,
   "metadata": {},
   "outputs": [],
   "source": [
    "#print(obj2.name)"
   ]
  },
  {
   "cell_type": "code",
   "execution_count": 205,
   "metadata": {},
   "outputs": [],
   "source": [
    "Human.hands = 3"
   ]
  },
  {
   "cell_type": "code",
   "execution_count": 206,
   "metadata": {},
   "outputs": [
    {
     "name": "stdout",
     "output_type": "stream",
     "text": [
      "3\n",
      "2\n"
     ]
    }
   ],
   "source": [
    "print(obj2.hands)\n",
    "print(obj2.legs)"
   ]
  },
  {
   "cell_type": "code",
   "execution_count": 207,
   "metadata": {},
   "outputs": [
    {
     "name": "stdout",
     "output_type": "stream",
     "text": [
      "vj1\n",
      "Human can walk with 2 legs\n"
     ]
    }
   ],
   "source": [
    "#object fun\n",
    "obj1.walk()"
   ]
  },
  {
   "cell_type": "code",
   "execution_count": 208,
   "metadata": {},
   "outputs": [
    {
     "data": {
      "text/plain": [
       "3"
      ]
     },
     "execution_count": 208,
     "metadata": {},
     "output_type": "execute_result"
    }
   ],
   "source": [
    "obj1.hands"
   ]
  },
  {
   "cell_type": "code",
   "execution_count": 209,
   "metadata": {},
   "outputs": [
    {
     "name": "stdout",
     "output_type": "stream",
     "text": [
      "vj1\n",
      "Human can walk with 2 legs\n"
     ]
    }
   ],
   "source": [
    "#class fun  object\n",
    "Human.walk(obj1)"
   ]
  },
  {
   "cell_type": "code",
   "execution_count": 210,
   "metadata": {},
   "outputs": [],
   "source": [
    "#del obj2"
   ]
  },
  {
   "cell_type": "code",
   "execution_count": 211,
   "metadata": {},
   "outputs": [
    {
     "name": "stdout",
     "output_type": "stream",
     "text": [
      "Human can write using 3 hands\n",
      "None\n"
     ]
    }
   ],
   "source": [
    "print(Human.write())"
   ]
  },
  {
   "cell_type": "code",
   "execution_count": 212,
   "metadata": {},
   "outputs": [
    {
     "name": "stdout",
     "output_type": "stream",
     "text": [
      "Good Morning\n",
      "None\n"
     ]
    }
   ],
   "source": [
    "print(Human.greed())"
   ]
  },
  {
   "cell_type": "code",
   "execution_count": 213,
   "metadata": {},
   "outputs": [],
   "source": [
    "obj2.private=\"Vijai\""
   ]
  },
  {
   "cell_type": "code",
   "execution_count": 214,
   "metadata": {},
   "outputs": [
    {
     "name": "stdout",
     "output_type": "stream",
     "text": [
      "Vijai\n"
     ]
    }
   ],
   "source": [
    "print(obj2.private)"
   ]
  },
  {
   "cell_type": "code",
   "execution_count": 215,
   "metadata": {},
   "outputs": [],
   "source": [
    "del obj2.private"
   ]
  },
  {
   "cell_type": "markdown",
   "metadata": {},
   "source": [
    "**********************"
   ]
  },
  {
   "cell_type": "markdown",
   "metadata": {},
   "source": [
    "# Inheritance\n",
    "##### Explation about Inheritance\n",
    "* For example:\n",
    "* If we going to update the version 1.1 to 1.2 we are not going to create the new one just we going to do some changes"
   ]
  },
  {
   "cell_type": "markdown",
   "metadata": {},
   "source": [
    "##### Single level Inheritance\n",
    "* One super class\n",
    "* One sub class"
   ]
  },
  {
   "cell_type": "code",
   "execution_count": 216,
   "metadata": {},
   "outputs": [],
   "source": [
    "# It is called single level Inheritance because we can able to access both Class A and B in B class\n",
    "\n",
    "#super class\n",
    "# A subclass is B\n",
    "class A:\n",
    "    \n",
    "    #constructor\n",
    "    #We can able to call this super class constructor in subclass\n",
    "    def __init__(self):\n",
    "        self.i = 10\n",
    "        \n",
    "    def tell(self):\n",
    "        print(\"In A\")\n",
    "\n",
    "# subclass\n",
    "# B super class is A\n",
    "class B(A):\n",
    "    #constructor\n",
    "    #Here we create the another constructor in subclass but we can't access it will show error\n",
    "    #Because we already create the constructor in super class\n",
    "    def __init__(self):\n",
    "        # So we want to call the super class constructor in  sub class \n",
    "        super(B,self).__init__()\n",
    "        self.name = \"some thing\"\n",
    "    def greed(self):\n",
    "        print(\"In B\")\n",
    "        print(\"Good morning\")"
   ]
  },
  {
   "cell_type": "code",
   "execution_count": 217,
   "metadata": {},
   "outputs": [
    {
     "name": "stdout",
     "output_type": "stream",
     "text": [
      "In A\n",
      "In B\n",
      "Good morning\n"
     ]
    }
   ],
   "source": [
    "#Calling class B but we can able to access both a and b\n",
    "obj = B()\n",
    "obj.tell()\n",
    "obj.greed()"
   ]
  },
  {
   "cell_type": "code",
   "execution_count": 218,
   "metadata": {},
   "outputs": [
    {
     "name": "stdout",
     "output_type": "stream",
     "text": [
      "10\n"
     ]
    }
   ],
   "source": [
    "print(obj.i)"
   ]
  },
  {
   "cell_type": "markdown",
   "metadata": {},
   "source": [
    "###### Multiple inheritance\n",
    "* Two super class A and B  \n",
    "* One sub class C"
   ]
  },
  {
   "cell_type": "markdown",
   "metadata": {},
   "source": [
    "* method over raiding is comes from Multiple inheritance\n",
    "* multiple inheritance is not support for java"
   ]
  },
  {
   "cell_type": "code",
   "execution_count": 219,
   "metadata": {},
   "outputs": [],
   "source": [
    "class A:\n",
    "    def name(self):\n",
    "        print(\"In A\")\n",
    "        \n",
    "class B:\n",
    "    def greed(self):\n",
    "        print(\"Good Morning\")\n",
    "\n",
    "class C(A,B):\n",
    "    def do_something(self):\n",
    "        print(\"hi\")"
   ]
  },
  {
   "cell_type": "code",
   "execution_count": 220,
   "metadata": {},
   "outputs": [
    {
     "name": "stdout",
     "output_type": "stream",
     "text": [
      "In A\n",
      "Good Morning\n",
      "hi\n"
     ]
    }
   ],
   "source": [
    "obj = C()\n",
    "obj.name()\n",
    "obj.greed()\n",
    "obj.do_something()"
   ]
  },
  {
   "cell_type": "markdown",
   "metadata": {},
   "source": [
    "###### Multi level inheritance\n",
    "* Here the one super class A inherate with other super class B \n",
    "* That super class B inherate with C sub class"
   ]
  },
  {
   "cell_type": "code",
   "execution_count": 221,
   "metadata": {},
   "outputs": [],
   "source": [
    "class A:\n",
    "    def name(self):\n",
    "        print(\"In A\")\n",
    "        \n",
    "#Here we inheritaing the A in B\n",
    "class B(A):\n",
    "    def greed(self):\n",
    "        print(\"Good Morning\")\n",
    "\n",
    "#Here we inheritaing the B in C\n",
    "class C(B):\n",
    "    def do_something(self):\n",
    "        print(\"hii\")"
   ]
  },
  {
   "cell_type": "code",
   "execution_count": 222,
   "metadata": {},
   "outputs": [
    {
     "name": "stdout",
     "output_type": "stream",
     "text": [
      "In A\n",
      "Good Morning\n",
      "hii\n"
     ]
    }
   ],
   "source": [
    "obj = C()\n",
    "obj.name()\n",
    "obj.greed()\n",
    "obj.do_something()"
   ]
  },
  {
   "cell_type": "markdown",
   "metadata": {},
   "source": [
    "###### Hierarchical  inheritance"
   ]
  },
  {
   "cell_type": "markdown",
   "metadata": {},
   "source": [
    "* Combination of two inheritance is called Hierarchical"
   ]
  },
  {
   "cell_type": "code",
   "execution_count": 238,
   "metadata": {},
   "outputs": [],
   "source": [
    "class A:\n",
    "    def name(self):\n",
    "        print(\"In A\")\n",
    "        \n",
    "class B(A):\n",
    "    def greed(self):\n",
    "        print(\"Good Morning\")\n",
    "        \n",
    "class C(A):\n",
    "    def do_something(self):\n",
    "        print(\"hiii\")"
   ]
  },
  {
   "cell_type": "code",
   "execution_count": 236,
   "metadata": {},
   "outputs": [
    {
     "name": "stdout",
     "output_type": "stream",
     "text": [
      "In A\n",
      "Good Morning\n",
      "In A\n",
      "hiii\n"
     ]
    }
   ],
   "source": [
    "object1 = B()\n",
    "object2 = C()\n",
    "object1.name()\n",
    "object1.greed()\n",
    "object2.name()\n",
    "object2.do_something()"
   ]
  },
  {
   "cell_type": "markdown",
   "metadata": {},
   "source": [
    "*******************"
   ]
  },
  {
   "cell_type": "markdown",
   "metadata": {},
   "source": [
    "# Polymorphism\n",
    "* It means multiple forms \n",
    "* for example single class in multiple forms \n",
    "* Single object in multiple forms"
   ]
  },
  {
   "cell_type": "markdown",
   "metadata": {},
   "source": [
    "********"
   ]
  },
  {
   "cell_type": "markdown",
   "metadata": {},
   "source": [
    "* method overriding\n",
    "* method overloading\n",
    "* operator overloading"
   ]
  },
  {
   "cell_type": "markdown",
   "metadata": {},
   "source": [
    "###### method overriding"
   ]
  },
  {
   "cell_type": "markdown",
   "metadata": {},
   "source": [
    "What is method overriding?\n",
    "* For example:\n",
    "* If we define the same function name in many function. In python the first super class will run. \n",
    "* That is called method overriding"
   ]
  },
  {
   "cell_type": "code",
   "execution_count": 242,
   "metadata": {},
   "outputs": [],
   "source": [
    "class A:\n",
    "    def name(self):\n",
    "        print(\"In A\")\n",
    "        \n",
    "class B:\n",
    "    def name(self):\n",
    "        print(\"Good Morning\")\n",
    "\n",
    "class C(B,A):\n",
    "    def do_something(self):\n",
    "        print(\"hi\")"
   ]
  },
  {
   "cell_type": "code",
   "execution_count": 243,
   "metadata": {},
   "outputs": [
    {
     "name": "stdout",
     "output_type": "stream",
     "text": [
      "Good Morning\n"
     ]
    }
   ],
   "source": [
    "obj = C()\n",
    "obj.name()"
   ]
  },
  {
   "cell_type": "markdown",
   "metadata": {},
   "source": [
    "***************"
   ]
  },
  {
   "cell_type": "markdown",
   "metadata": {},
   "source": [
    "###### method overloading"
   ]
  },
  {
   "cell_type": "markdown",
   "metadata": {},
   "source": [
    "* python not have method overloading offficially but i will explain here\n",
    "* Same function name but different parameters is called method overloading but it is not avalable in python\n",
    "* we can't able to enter the multiple parameters\n",
    "* To over come this problem we can use variable length argument"
   ]
  },
  {
   "cell_type": "code",
   "execution_count": 246,
   "metadata": {},
   "outputs": [],
   "source": [
    "#But it will show error\n",
    "def greed():\n",
    "    print(\"Good morning\")\n",
    "    \n",
    "def greed(person):\n",
    "    print(\"Hi\",person)"
   ]
  },
  {
   "cell_type": "code",
   "execution_count": 249,
   "metadata": {},
   "outputs": [],
   "source": [
    "def add(*Add):\n",
    "    print(sum(Add))"
   ]
  },
  {
   "cell_type": "code",
   "execution_count": 251,
   "metadata": {},
   "outputs": [
    {
     "name": "stdout",
     "output_type": "stream",
     "text": [
      "24\n"
     ]
    }
   ],
   "source": [
    "add(1,2,5,6,10)"
   ]
  },
  {
   "cell_type": "markdown",
   "metadata": {},
   "source": [
    "*************"
   ]
  },
  {
   "cell_type": "markdown",
   "metadata": {},
   "source": [
    "###### operator overloading"
   ]
  },
  {
   "cell_type": "markdown",
   "metadata": {},
   "source": [
    "* Here a is called obj of 5 it means int() it called class\n",
    "* How they know im going to add(+) the number it is called magical methods\n",
    "* print(a+b) - __add__\n",
    "* print(a-b) - __sub__\n",
    "* print(a*b) - __mul__\n",
    "* print(a/b) - __divmod__\n",
    "* print(a<b) - __lt__\n",
    "* print(a>b) - __gt__\n",
    "* print(a==b) - __eq__"
   ]
  },
  {
   "cell_type": "code",
   "execution_count": 252,
   "metadata": {},
   "outputs": [
    {
     "name": "stdout",
     "output_type": "stream",
     "text": [
      "15\n"
     ]
    }
   ],
   "source": [
    "a=5\n",
    "b=10\n",
    "print(a+b)"
   ]
  },
  {
   "cell_type": "markdown",
   "metadata": {},
   "source": [
    "**********"
   ]
  },
  {
   "cell_type": "code",
   "execution_count": 273,
   "metadata": {},
   "outputs": [],
   "source": [
    "#import Poly\n",
    "#from Poly import C\n",
    "\n",
    "# It is used to import the functios without using file py file name\n",
    "from Poly import *"
   ]
  },
  {
   "cell_type": "code",
   "execution_count": 269,
   "metadata": {},
   "outputs": [
    {
     "name": "stdout",
     "output_type": "stream",
     "text": [
      "hi\n"
     ]
    }
   ],
   "source": [
    "obj=C()\n",
    "obj.do_something()"
   ]
  },
  {
   "cell_type": "code",
   "execution_count": 276,
   "metadata": {},
   "outputs": [
    {
     "name": "stdout",
     "output_type": "stream",
     "text": [
      "14\n"
     ]
    }
   ],
   "source": [
    "add(2,4,8)"
   ]
  },
  {
   "cell_type": "markdown",
   "metadata": {},
   "source": [
    "******"
   ]
  },
  {
   "cell_type": "raw",
   "metadata": {},
   "source": [
    " Here we are going to see how  to create the python package \n",
    "* First create new folder  \n",
    "* Second create the new file __init__.py"
   ]
  },
  {
   "cell_type": "code",
   "execution_count": 283,
   "metadata": {},
   "outputs": [],
   "source": [
    "from sample import hello\n",
    "from sample import sort\n",
    "#from sample.sort import sort"
   ]
  },
  {
   "cell_type": "code",
   "execution_count": 284,
   "metadata": {},
   "outputs": [
    {
     "name": "stdout",
     "output_type": "stream",
     "text": [
      "Hi Hello\n"
     ]
    }
   ],
   "source": [
    "hello()"
   ]
  },
  {
   "cell_type": "code",
   "execution_count": 285,
   "metadata": {},
   "outputs": [
    {
     "name": "stdout",
     "output_type": "stream",
     "text": [
      "[2, 5, 8, 50, 60, 70, 480]\n"
     ]
    }
   ],
   "source": [
    "print(sort.sort([2,5,8,480,50,60,70]))"
   ]
  },
  {
   "cell_type": "code",
   "execution_count": 287,
   "metadata": {},
   "outputs": [],
   "source": [
    "#print(sort([2,5,8,480,50,60,70]))"
   ]
  },
  {
   "cell_type": "markdown",
   "metadata": {},
   "source": [
    "**************"
   ]
  },
  {
   "cell_type": "markdown",
   "metadata": {},
   "source": [
    "# inbuild modules"
   ]
  },
  {
   "cell_type": "markdown",
   "metadata": {},
   "source": [
    "* It is used to intract with our os\n",
    "* used this we can able to create or del the file \n",
    "* Create Folder or del Folder\n",
    "* Change directry loacation\n",
    "* Find file size\n",
    "* Check file location"
   ]
  },
  {
   "cell_type": "code",
   "execution_count": 288,
   "metadata": {},
   "outputs": [],
   "source": [
    "import os"
   ]
  },
  {
   "cell_type": "code",
   "execution_count": 289,
   "metadata": {},
   "outputs": [
    {
     "name": "stdout",
     "output_type": "stream",
     "text": [
      "D:\\Admin\\Advance AI andn Python\\Hands On\n"
     ]
    }
   ],
   "source": [
    "print(os.getcwd())"
   ]
  },
  {
   "cell_type": "markdown",
   "metadata": {},
   "source": [
    "****"
   ]
  },
  {
   "cell_type": "markdown",
   "metadata": {},
   "source": [
    "###### It is used to create the new folder using this command"
   ]
  },
  {
   "cell_type": "code",
   "execution_count": 290,
   "metadata": {},
   "outputs": [],
   "source": [
    "#os.mkdir(\"test\")\n",
    "#os.mkdir(\"path/test\")"
   ]
  },
  {
   "cell_type": "markdown",
   "metadata": {},
   "source": [
    "###### This command is used to change the path"
   ]
  },
  {
   "cell_type": "code",
   "execution_count": 291,
   "metadata": {},
   "outputs": [],
   "source": [
    "os.chdir(\"sample\")"
   ]
  },
  {
   "cell_type": "code",
   "execution_count": 292,
   "metadata": {},
   "outputs": [
    {
     "name": "stdout",
     "output_type": "stream",
     "text": [
      "D:\\Admin\\Advance AI andn Python\\Hands On\\sample\n"
     ]
    }
   ],
   "source": [
    "print(os.getcwd())"
   ]
  },
  {
   "cell_type": "markdown",
   "metadata": {},
   "source": [
    "###### This command is used to come back to the path"
   ]
  },
  {
   "cell_type": "code",
   "execution_count": 293,
   "metadata": {},
   "outputs": [],
   "source": [
    "os.chdir(\"..\")"
   ]
  },
  {
   "cell_type": "code",
   "execution_count": 294,
   "metadata": {},
   "outputs": [
    {
     "name": "stdout",
     "output_type": "stream",
     "text": [
      "D:\\Admin\\Advance AI andn Python\\Hands On\n"
     ]
    }
   ],
   "source": [
    "print(os.getcwd())"
   ]
  },
  {
   "cell_type": "markdown",
   "metadata": {},
   "source": [
    "###### This command is used to list the files and folders in the path"
   ]
  },
  {
   "cell_type": "code",
   "execution_count": 295,
   "metadata": {},
   "outputs": [
    {
     "name": "stdout",
     "output_type": "stream",
     "text": [
      "['.ipynb_checkpoints', '4.Feature Selection', 'EDA.ipynb', 'Feature Selection', 'NLP-Work-Book.ipynb', 'Poly.py', 'Python for machine learning .ipynb', 'sample', 'sample.txt', 'sample1.txt', 'test', 'titanic.csv', 'twitter.csv', '__pycache__']\n"
     ]
    }
   ],
   "source": [
    "print(os.listdir(\"D:\\Admin\\Advance AI andn Python\\Hands On\"))"
   ]
  },
  {
   "cell_type": "markdown",
   "metadata": {},
   "source": [
    "###### This command is used to list inside folder files  and files"
   ]
  },
  {
   "cell_type": "code",
   "execution_count": 300,
   "metadata": {},
   "outputs": [
    {
     "name": "stdout",
     "output_type": "stream",
     "text": [
      "('D:\\\\Admin\\\\Advance AI andn Python\\\\Hands On', ['.ipynb_checkpoints', '4.Feature Selection', 'Feature Selection', 'sample', 'test', '__pycache__'], ['EDA.ipynb', 'NLP-Work-Book.ipynb', 'Poly.py', 'Python for machine learning .ipynb', 'sample.txt', 'sample1.txt', 'titanic.csv', 'twitter.csv'])\n",
      "('D:\\\\Admin\\\\Advance AI andn Python\\\\Hands On\\\\.ipynb_checkpoints', [], ['EDA-checkpoint.ipynb', 'NLP-Work-Book-checkpoint.ipynb', 'Python for machine learning -checkpoint.ipynb'])\n",
      "('D:\\\\Admin\\\\Advance AI andn Python\\\\Hands On\\\\4.Feature Selection', ['.ipynb_checkpoints', 'Recurrsive Feature Elimination', 'Select K Best'], ['1.Fea.py', 'prep.csv', 'Untitled.ipynb'])\n",
      "('D:\\\\Admin\\\\Advance AI andn Python\\\\Hands On\\\\4.Feature Selection\\\\.ipynb_checkpoints', [], ['Untitled-checkpoint.ipynb'])\n",
      "('D:\\\\Admin\\\\Advance AI andn Python\\\\Hands On\\\\4.Feature Selection\\\\Recurrsive Feature Elimination', [], ['prep.csv', 'RFE_Classification.py', 'RFE_Regression.py'])\n",
      "('D:\\\\Admin\\\\Advance AI andn Python\\\\Hands On\\\\4.Feature Selection\\\\Select K Best', ['.ipynb_checkpoints'], ['prep.csv', 'Selectk_classificatio.py', 'selectk_Regression.py', 'Untitled.ipynb'])\n",
      "('D:\\\\Admin\\\\Advance AI andn Python\\\\Hands On\\\\4.Feature Selection\\\\Select K Best\\\\.ipynb_checkpoints', [], ['Untitled-checkpoint.ipynb'])\n",
      "('D:\\\\Admin\\\\Advance AI andn Python\\\\Hands On\\\\Feature Selection', ['.ipynb_checkpoints', 'Recurrsive Feature Elimination', 'Select K Best'], ['1.Fea.py', 'prep.csv'])\n",
      "('D:\\\\Admin\\\\Advance AI andn Python\\\\Hands On\\\\Feature Selection\\\\.ipynb_checkpoints', [], [])\n",
      "('D:\\\\Admin\\\\Advance AI andn Python\\\\Hands On\\\\Feature Selection\\\\Recurrsive Feature Elimination', ['.ipynb_checkpoints'], ['data-ori.csv', 'prep.csv', 'resumes_development.csv', 'RFE_Classification.ipynb', 'RFE_Classification.py', 'RFE_CLS-Copy1.ipynb', 'RFE_CLS-Copy2.ipynb', 'RFE_CLS.ipynb', 'RFE_REG.ipynb', 'RFE_Regression.ipynb', 'RFE_Regression.py'])\n",
      "('D:\\\\Admin\\\\Advance AI andn Python\\\\Hands On\\\\Feature Selection\\\\Recurrsive Feature Elimination\\\\.ipynb_checkpoints', [], ['RFE_Classification-checkpoint.ipynb', 'RFE_CLS-checkpoint.ipynb', 'RFE_CLS-Copy1-checkpoint.ipynb', 'RFE_CLS-Copy2-checkpoint.ipynb', 'RFE_REG-checkpoint.ipynb', 'RFE_Regression-checkpoint.ipynb'])\n",
      "('D:\\\\Admin\\\\Advance AI andn Python\\\\Hands On\\\\Feature Selection\\\\Select K Best', ['.ipynb_checkpoints'], ['prep.csv', 'resumes_development.csv', 'Selectk_classificatio.py', 'Selectk_classification-Interview(1).ipynb', 'Selectk_classification-Interview.ipynb', 'Selectk_classification.ipynb', 'Selectk_Regression.ipynb', 'selectk_Regression.py', 'Untitled.ipynb'])\n",
      "('D:\\\\Admin\\\\Advance AI andn Python\\\\Hands On\\\\Feature Selection\\\\Select K Best\\\\.ipynb_checkpoints', [], ['Selectk_classification-checkpoint.ipynb', 'Selectk_classification-Interview(1)-checkpoint.ipynb', 'Selectk_classification-Interview-checkpoint.ipynb', 'Selectk_Regression-checkpoint.ipynb', 'Untitled-checkpoint.ipynb'])\n",
      "('D:\\\\Admin\\\\Advance AI andn Python\\\\Hands On\\\\sample', ['.ipynb_checkpoints', '__pycache__'], ['sort.py', '__init__.py'])\n",
      "('D:\\\\Admin\\\\Advance AI andn Python\\\\Hands On\\\\sample\\\\.ipynb_checkpoints', [], [])\n",
      "('D:\\\\Admin\\\\Advance AI andn Python\\\\Hands On\\\\sample\\\\__pycache__', [], ['sort.cpython-39.pyc', '__init__.cpython-39.pyc'])\n",
      "('D:\\\\Admin\\\\Advance AI andn Python\\\\Hands On\\\\test', [], [])\n",
      "('D:\\\\Admin\\\\Advance AI andn Python\\\\Hands On\\\\__pycache__', [], ['Poly.cpython-39.pyc'])\n"
     ]
    }
   ],
   "source": [
    "for i in os.walk(\"D:\\Admin\\Advance AI andn Python\\Hands On\"):\n",
    "    print(i)"
   ]
  },
  {
   "cell_type": "markdown",
   "metadata": {},
   "source": [
    "###### It is used to find the it is file or not"
   ]
  },
  {
   "cell_type": "code",
   "execution_count": 304,
   "metadata": {},
   "outputs": [
    {
     "name": "stdout",
     "output_type": "stream",
     "text": [
      "True\n"
     ]
    }
   ],
   "source": [
    "print(os.path.isfile(\"D:\\Admin\\Advance AI andn Python\\Hands On\\Poly.py\"))"
   ]
  },
  {
   "cell_type": "markdown",
   "metadata": {},
   "source": [
    "###### It is used to find the it is folder or not"
   ]
  },
  {
   "cell_type": "code",
   "execution_count": 302,
   "metadata": {},
   "outputs": [
    {
     "name": "stdout",
     "output_type": "stream",
     "text": [
      "True\n"
     ]
    }
   ],
   "source": [
    "print(os.path.isdir(\"D:\\Admin\\Advance AI andn Python\\Hands On\\sample\"))"
   ]
  },
  {
   "cell_type": "markdown",
   "metadata": {},
   "source": [
    "******"
   ]
  },
  {
   "cell_type": "markdown",
   "metadata": {},
   "source": [
    "###### Here we are going to see the give path is contain how many folders and files"
   ]
  },
  {
   "cell_type": "code",
   "execution_count": 306,
   "metadata": {},
   "outputs": [
    {
     "name": "stdout",
     "output_type": "stream",
     "text": [
      "Enter the path:D:\\Admin\\Advance AI andn Python\\Hands On\\sample\n",
      "The given path contains 2 folders\n",
      "The given path contains 2 files\n"
     ]
    }
   ],
   "source": [
    "path=input(\"Enter the path:\")\n",
    "folder_count = 0\n",
    "file_count = 0\n",
    "if os.path.exists(path):\n",
    "for i in os.listdir(path):\n",
    "    if os.path.isfile(path+\"/\"+i):\n",
    "        file_count +=1\n",
    "    elif os.path.isdir(path+\"/\"+i):\n",
    "        folder_count +=1\n",
    "else:\n",
    "    print\n",
    "print(f\"The given path contains {folder_count} folders\")\n",
    "print(f\"The given path contains {file_count} files\")"
   ]
  },
  {
   "cell_type": "markdown",
   "metadata": {},
   "source": [
    "********"
   ]
  },
  {
   "cell_type": "code",
   "execution_count": 307,
   "metadata": {},
   "outputs": [],
   "source": [
    "import datetime "
   ]
  },
  {
   "cell_type": "code",
   "execution_count": 308,
   "metadata": {},
   "outputs": [
    {
     "name": "stdout",
     "output_type": "stream",
     "text": [
      "2022-12-16 03:35:00.074722\n"
     ]
    }
   ],
   "source": [
    "print(datetime.datetime.now())"
   ]
  },
  {
   "cell_type": "code",
   "execution_count": 309,
   "metadata": {},
   "outputs": [
    {
     "name": "stdout",
     "output_type": "stream",
     "text": [
      "2020\n",
      "<built-in method date of datetime.datetime object at 0x0000026FAE61B270>\n",
      "9\n",
      "09 28 20 1 Mon Monday\n"
     ]
    }
   ],
   "source": [
    "obj=datetime.datetime(2020, 9, 28)\n",
    "print(obj.year)\n",
    "print(obj.date)\n",
    "print(obj.month)\n",
    "\n",
    "print(obj.strftime(\"%m %d %y %w %a %A\"))"
   ]
  },
  {
   "cell_type": "code",
   "execution_count": 312,
   "metadata": {},
   "outputs": [
    {
     "name": "stdout",
     "output_type": "stream",
     "text": [
      "2020-09-28 00:00:00\n"
     ]
    }
   ],
   "source": [
    "str1 = \"09 28 20\"\n",
    "obj = datetime.datetime.strptime(str1,\"%m %d %y\")\n",
    "print(obj)"
   ]
  },
  {
   "cell_type": "markdown",
   "metadata": {},
   "source": [
    "******"
   ]
  },
  {
   "cell_type": "markdown",
   "metadata": {},
   "source": [
    "* sqlite3\n",
    "* pymysql connect(\"host\", \"post\", \"username\", \"pass\")\n",
    "* pymongo connect()http://127.0.0.1:27017"
   ]
  },
  {
   "cell_type": "code",
   "execution_count": 313,
   "metadata": {},
   "outputs": [],
   "source": [
    "import sqlite3"
   ]
  },
  {
   "cell_type": "code",
   "execution_count": 314,
   "metadata": {},
   "outputs": [],
   "source": [
    "connection = sqlite3.connect(\"sample.db\")"
   ]
  },
  {
   "cell_type": "code",
   "execution_count": 315,
   "metadata": {},
   "outputs": [],
   "source": [
    "cursor = connection.cursor()"
   ]
  },
  {
   "cell_type": "code",
   "execution_count": 316,
   "metadata": {},
   "outputs": [
    {
     "data": {
      "text/plain": [
       "<sqlite3.Cursor at 0x26fae5cfd50>"
      ]
     },
     "execution_count": 316,
     "metadata": {},
     "output_type": "execute_result"
    }
   ],
   "source": [
    "cursor.execute(\"create table student(rollno int,stname varchar,mark int);\")"
   ]
  },
  {
   "cell_type": "code",
   "execution_count": 320,
   "metadata": {},
   "outputs": [
    {
     "data": {
      "text/plain": [
       "<sqlite3.Cursor at 0x26fae5cfd50>"
      ]
     },
     "execution_count": 320,
     "metadata": {},
     "output_type": "execute_result"
    }
   ],
   "source": [
    "cursor.execute(\"insert into student values(101,'vijai',450);\")\n",
    "cursor.execute(\"insert into student values(102,'ajith',451);\")\n",
    "cursor.execute(\"select * from student\")"
   ]
  },
  {
   "cell_type": "code",
   "execution_count": 321,
   "metadata": {},
   "outputs": [
    {
     "name": "stdout",
     "output_type": "stream",
     "text": [
      "[(101, 'vijai', 450), (102, 'ajith', 451)]\n",
      "None\n",
      "[]\n"
     ]
    }
   ],
   "source": [
    "print(cursor.fetchall())\n",
    "print(cursor.fetchone())\n",
    "print(cursor.fetchmany(10))\n",
    "connection.commit()\n",
    "connection.close()"
   ]
  },
  {
   "cell_type": "markdown",
   "metadata": {},
   "source": [
    "********"
   ]
  },
  {
   "cell_type": "markdown",
   "metadata": {},
   "source": [
    "# Python Librarys"
   ]
  },
  {
   "cell_type": "markdown",
   "metadata": {},
   "source": [
    "## numpy"
   ]
  },
  {
   "cell_type": "markdown",
   "metadata": {},
   "source": [
    "* numpy is nothing but numerical python\n",
    "* We can able to do all numerical calculations using this numpy library\n",
    "* This numpy also called alias librarys is better then list it is faster\n",
    "* Because we are going to handle huge data\n",
    "* We can able to create multidimension arry using this numpy library like 2D, 3D, 4D it is called multidimension datastructure"
   ]
  },
  {
   "cell_type": "markdown",
   "metadata": {},
   "source": [
    "###### Here we are going to calculate the size of the numpy and list "
   ]
  },
  {
   "cell_type": "code",
   "execution_count": 322,
   "metadata": {},
   "outputs": [],
   "source": [
    "import numpy as np"
   ]
  },
  {
   "cell_type": "code",
   "execution_count": 327,
   "metadata": {},
   "outputs": [
    {
     "name": "stdout",
     "output_type": "stream",
     "text": [
      "25\n"
     ]
    }
   ],
   "source": [
    "arr1 = np.array([1,2,3,4,5])\n",
    "print(len(arr1)*arr1.size)"
   ]
  },
  {
   "cell_type": "code",
   "execution_count": 325,
   "metadata": {},
   "outputs": [
    {
     "name": "stdout",
     "output_type": "stream",
     "text": [
      "120\n"
     ]
    }
   ],
   "source": [
    "import sys\n",
    "li=[1,2,3,4,5]\n",
    "print(sys.getsizeof(li))"
   ]
  },
  {
   "cell_type": "markdown",
   "metadata": {},
   "source": [
    "**********"
   ]
  },
  {
   "cell_type": "markdown",
   "metadata": {},
   "source": [
    "###### Here we are going to calculate run time of the numpy and list"
   ]
  },
  {
   "cell_type": "code",
   "execution_count": 328,
   "metadata": {},
   "outputs": [],
   "source": [
    "import time"
   ]
  },
  {
   "cell_type": "code",
   "execution_count": 331,
   "metadata": {},
   "outputs": [
    {
     "name": "stdout",
     "output_type": "stream",
     "text": [
      "0.0\n"
     ]
    }
   ],
   "source": [
    "a = np.arange(10000)\n",
    "b = np.arange(10000)\n",
    "start = time.time()\n",
    "c = a+b\n",
    "end = time.time()\n",
    "print((end-start)*1000)"
   ]
  },
  {
   "cell_type": "code",
   "execution_count": 332,
   "metadata": {},
   "outputs": [
    {
     "name": "stdout",
     "output_type": "stream",
     "text": [
      "8.003473281860352\n"
     ]
    }
   ],
   "source": [
    "a = list(range(10000))\n",
    "b = list(range(10000))\n",
    "start = time.time()\n",
    "c = [i+j for i,j in zip(a,b)]\n",
    "end = time.time()\n",
    "print((end-start)*1000)"
   ]
  },
  {
   "cell_type": "markdown",
   "metadata": {},
   "source": [
    "###### Even space value"
   ]
  },
  {
   "cell_type": "markdown",
   "metadata": {},
   "source": [
    "* It will increace the values in two two "
   ]
  },
  {
   "cell_type": "code",
   "execution_count": 338,
   "metadata": {},
   "outputs": [
    {
     "name": "stdout",
     "output_type": "stream",
     "text": [
      "[ 1  2  3  4  5  6  7  8  9 10 11 12 13 14 15 16 17 18 19 20 21 22 23 24\n",
      " 25 26 27 28 29 30 31 32 33 34 35 36 37 38 39 40 41 42 43 44 45 46 47 48\n",
      " 49 50 51 52 53 54 55 56 57 58 59 60 61 62 63 64 65 66 67 68 69 70 71 72\n",
      " 73 74 75 76 77 78 79 80 81 82 83 84 85 86 87 88 89 90 91 92 93 94 95 96\n",
      " 97 98 99] [ 1  2  3  4  5  6  7  8  9 10 11 12 13 14 15 16 17 18 19 20 21 22 23 24\n",
      " 25 26 27 28 29 30 31 32 33 34 35 36 37 38 39 40 41 42 43 44 45 46 47 48\n",
      " 49 50 51 52 53 54 55 56 57 58 59 60 61 62 63 64 65 66 67 68 69 70 71 72\n",
      " 73 74 75 76 77 78 79 80 81 82 83 84 85 86 87 88 89 90 91 92 93 94 95 96\n",
      " 97 98 99]\n",
      "[ 1.          1.3877551   1.7755102   2.16326531  2.55102041  2.93877551\n",
      "  3.32653061  3.71428571  4.10204082  4.48979592  4.87755102  5.26530612\n",
      "  5.65306122  6.04081633  6.42857143  6.81632653  7.20408163  7.59183673\n",
      "  7.97959184  8.36734694  8.75510204  9.14285714  9.53061224  9.91836735\n",
      " 10.30612245 10.69387755 11.08163265 11.46938776 11.85714286 12.24489796\n",
      " 12.63265306 13.02040816 13.40816327 13.79591837 14.18367347 14.57142857\n",
      " 14.95918367 15.34693878 15.73469388 16.12244898 16.51020408 16.89795918\n",
      " 17.28571429 17.67346939 18.06122449 18.44897959 18.83673469 19.2244898\n",
      " 19.6122449  20.        ]\n"
     ]
    }
   ],
   "source": [
    "a = np.arange(1,100)\n",
    "b = np.arange(1,100)\n",
    "print(a,b)\n",
    "linespace = np.linspace(1,20)\n",
    "print(linespace)"
   ]
  },
  {
   "cell_type": "code",
   "execution_count": 339,
   "metadata": {},
   "outputs": [
    {
     "name": "stdout",
     "output_type": "stream",
     "text": [
      "[0.58871266 0.53875183 0.26804864 0.83493705 0.19753235 0.75672591\n",
      " 0.1688282  0.02653108 0.13643416 0.78119187 0.68149379 0.41722652\n",
      " 0.27814079 0.82839813 0.46505067 0.79130607 0.16966636 0.11901779\n",
      " 0.11676326 0.09624885 0.01780763 0.43474992 0.50612048 0.88645009\n",
      " 0.1525424  0.98202345 0.00676823 0.43887717 0.36866844 0.76820312\n",
      " 0.2719926  0.81527732 0.18063257 0.50584398 0.2716201  0.21944229\n",
      " 0.10865573 0.51680909 0.88219423 0.76636133 0.45313537 0.36588793\n",
      " 0.20950642 0.46914568 0.08408338 0.5519221  0.25049879 0.6647209\n",
      " 0.52089054 0.18705194 0.98144004 0.93523276 0.80207655 0.3994797\n",
      " 0.11333547 0.22441426 0.06059943 0.20793369 0.43832986 0.89622725\n",
      " 0.07767276 0.20515307 0.77210139 0.40041027 0.90614431 0.54881435\n",
      " 0.00462165 0.48400849 0.48019029 0.31312447 0.17861677 0.58408406\n",
      " 0.39201946 0.09128149 0.80879635 0.81530901 0.18827649 0.23037697\n",
      " 0.70242699 0.12136557 0.34152399 0.44151519 0.92319695 0.01802114\n",
      " 0.00659689 0.46707691 0.49577229 0.73410002 0.09649891 0.05473282\n",
      " 0.15305111 0.88518546 0.01864583 0.95900176 0.98319201 0.33619591\n",
      " 0.4879867  0.19730147 0.70625989 0.87497591]\n"
     ]
    }
   ],
   "source": [
    "random = np.random.random(100)\n",
    "print(random)"
   ]
  },
  {
   "cell_type": "code",
   "execution_count": 340,
   "metadata": {},
   "outputs": [
    {
     "name": "stdout",
     "output_type": "stream",
     "text": [
      "[-2.41573966e-01  1.87701180e+00 -1.28925682e-01  3.92295153e-01\n",
      " -1.28279200e+00  7.26249464e-01 -1.18079330e+00  1.42083097e+00\n",
      " -6.01582865e-01  9.96266333e-01 -5.20542425e-01  5.43673544e-01\n",
      "  1.86034044e+00  2.06750696e+00  2.46624641e-01 -1.84554364e+00\n",
      "  5.18499099e-01 -9.65089073e-01 -3.48186356e-01 -8.99634502e-02\n",
      "  3.50851644e-01 -3.79571434e-01  4.71553278e-01 -1.84978274e-01\n",
      " -1.42089042e-01  7.13934527e-01 -7.78965319e-01 -2.80523900e-01\n",
      " -7.56857072e-01  1.65760049e-01 -1.52469213e+00  1.52556909e+00\n",
      "  4.13587972e-01  1.37077514e-01 -1.14668037e-01  3.67232536e-01\n",
      " -4.04495306e-01 -6.15188722e-01  1.09207832e-01  1.40991931e+00\n",
      " -1.56702462e-01 -4.52245651e-01 -9.00207702e-01  8.77005732e-01\n",
      "  2.16856624e-01  1.74590183e+00 -8.00176329e-01  8.30968981e-01\n",
      "  7.53707316e-01  1.49850673e-01  2.13647587e+00  1.43190548e+00\n",
      "  7.63321490e-02 -6.51683585e-01  6.74671849e-02 -1.02896902e+00\n",
      "  1.24945235e+00  4.65757784e-01  3.50259946e-01  2.67256708e-01\n",
      "  8.67252584e-02 -2.71030248e+00 -1.02912876e+00  6.17809976e-01\n",
      "  2.03196081e-01  9.84500023e-01  2.56818809e-03  4.46755984e-01\n",
      "  1.48518779e+00 -1.09328735e-01 -1.71722949e-01 -1.07724850e+00\n",
      " -1.74350798e+00  1.76561909e-01 -3.27280769e-01 -8.70106235e-01\n",
      "  9.86589947e-01 -1.98346444e-01 -9.52128056e-01  1.96586262e+00\n",
      "  1.35096833e+00 -3.89695409e-01  4.44091365e-03 -1.08375582e+00\n",
      " -1.37411542e+00  3.04064535e-01  1.13296996e+00  1.09824190e-01\n",
      "  6.82770214e-01 -9.40199350e-02  9.00776022e-01 -1.65332813e-01\n",
      " -5.71774360e-01 -7.82150254e-01 -5.94860036e-01 -5.37328064e-01\n",
      " -2.29735177e+00 -1.34153214e+00  1.71121661e+00  8.03927502e-02]\n"
     ]
    }
   ],
   "source": [
    "#mean 0 std 1\n",
    "normal = np.random.normal(size=100)\n",
    "print(normal)"
   ]
  },
  {
   "cell_type": "code",
   "execution_count": 341,
   "metadata": {
    "scrolled": false
   },
   "outputs": [
    {
     "name": "stdout",
     "output_type": "stream",
     "text": [
      "[[12 14 16 18 20]\n",
      " [22 24 26 28 30]]\n",
      "[[-10 -10 -10 -10 -10]\n",
      " [-10 -10 -10 -10 -10]]\n",
      "[[0.09090909 0.16666667 0.23076923 0.28571429 0.33333333]\n",
      " [0.375      0.41176471 0.44444444 0.47368421 0.5       ]]\n",
      "[[ 11  24  39  56  75]\n",
      " [ 96 119 144 171 200]]\n",
      "(2, 5)\n",
      "10\n",
      "[[ 1  2]\n",
      " [ 3  4]\n",
      " [ 5  6]\n",
      " [ 7  8]\n",
      " [ 9 10]]\n",
      "1\n",
      "10\n",
      "55\n",
      "5.5\n",
      "2.8722813232690143\n",
      "[[0.         0.69314718 1.09861229 1.38629436 1.60943791]\n",
      " [1.79175947 1.94591015 2.07944154 2.19722458 2.30258509]]\n"
     ]
    }
   ],
   "source": [
    "arr1 = np.array([(1,2,3,4,5),(6,7,8,9,10)])\n",
    "arr2 = np.array([(11,12,13,14,15),(16,17,18,19,20)])\n",
    "print(arr1+arr2)\n",
    "print(arr1-arr2)\n",
    "print(arr1/arr2)\n",
    "print(arr1*arr2)\n",
    "print(arr1.shape)\n",
    "print(arr1.size)\n",
    "print(arr1.reshape((5,2)))\n",
    "print(arr1.min())\n",
    "print(arr1.max())\n",
    "print(arr1.sum())\n",
    "print(arr1.mean())\n",
    "print(arr1.std())\n",
    "print(np.log(arr1))"
   ]
  },
  {
   "cell_type": "markdown",
   "metadata": {},
   "source": [
    "********"
   ]
  },
  {
   "cell_type": "markdown",
   "metadata": {},
   "source": [
    "## pandas"
   ]
  },
  {
   "cell_type": "markdown",
   "metadata": {},
   "source": [
    "#### There are 3 types in pandas \n",
    "* 1D is called series\n",
    "* 2D is called Dataframe\n",
    "* 3D is calles panel"
   ]
  },
  {
   "cell_type": "markdown",
   "metadata": {},
   "source": [
    "### Usage of pandas\n",
    "* To read the data \n",
    "* Data transform  \n",
    "* Data merging and join\n",
    "* filtering the datas using some quries"
   ]
  },
  {
   "cell_type": "markdown",
   "metadata": {},
   "source": [
    "## Series"
   ]
  },
  {
   "cell_type": "code",
   "execution_count": 342,
   "metadata": {},
   "outputs": [],
   "source": [
    "import pandas as pd"
   ]
  },
  {
   "cell_type": "markdown",
   "metadata": {},
   "source": [
    "## first we are going to create the series \n",
    "* Series is homogenious 1D\n",
    "* datatype must be same"
   ]
  },
  {
   "cell_type": "code",
   "execution_count": 344,
   "metadata": {},
   "outputs": [
    {
     "name": "stdout",
     "output_type": "stream",
     "text": [
      "0    56\n",
      "1    34\n",
      "2    67\n",
      "3    89\n",
      "4    90\n",
      "dtype: int64\n"
     ]
    }
   ],
   "source": [
    "A = pd.Series([56,34,67,89,90])\n",
    "print(A)"
   ]
  },
  {
   "cell_type": "markdown",
   "metadata": {},
   "source": [
    "###### Here we are going to change the index values"
   ]
  },
  {
   "cell_type": "code",
   "execution_count": 345,
   "metadata": {},
   "outputs": [
    {
     "name": "stdout",
     "output_type": "stream",
     "text": [
      "sub1    56\n",
      "sub2    34\n",
      "sub3    67\n",
      "sub4    89\n",
      "sub5    90\n",
      "dtype: int64\n"
     ]
    }
   ],
   "source": [
    "B = pd.Series([56,34,67,89,90], index=[\"sub1\",\"sub2\",\"sub3\",\"sub4\",\"sub5\"])\n",
    "print(B)"
   ]
  },
  {
   "cell_type": "code",
   "execution_count": 349,
   "metadata": {},
   "outputs": [
    {
     "name": "stdout",
     "output_type": "stream",
     "text": [
      "56\n"
     ]
    }
   ],
   "source": [
    "print(B[\"sub1\"])"
   ]
  },
  {
   "cell_type": "markdown",
   "metadata": {},
   "source": [
    "###### Here we converting the int into float"
   ]
  },
  {
   "cell_type": "code",
   "execution_count": 348,
   "metadata": {},
   "outputs": [
    {
     "name": "stdout",
     "output_type": "stream",
     "text": [
      "sub1    56.0\n",
      "sub2    34.0\n",
      "sub3    67.0\n",
      "sub4    89.0\n",
      "sub5    90.0\n",
      "dtype: float64\n"
     ]
    }
   ],
   "source": [
    "C = pd.Series([56,34,67,89,90], index=[\"sub1\",\"sub2\",\"sub3\",\"sub4\",\"sub5\"],dtype=np.float64)\n",
    "print(C)"
   ]
  },
  {
   "cell_type": "markdown",
   "metadata": {},
   "source": [
    "###### Also we can able to create this using Dictionary"
   ]
  },
  {
   "cell_type": "code",
   "execution_count": 351,
   "metadata": {},
   "outputs": [
    {
     "name": "stdout",
     "output_type": "stream",
     "text": [
      "sub1    89\n",
      "sub2    87\n",
      "sub3    78\n",
      "dtype: int64\n"
     ]
    }
   ],
   "source": [
    "D = pd.Series({\"sub1\":89,\"sub2\":87,\"sub3\":78})\n",
    "print(D)"
   ]
  },
  {
   "cell_type": "code",
   "execution_count": 352,
   "metadata": {},
   "outputs": [
    {
     "name": "stdout",
     "output_type": "stream",
     "text": [
      "89\n"
     ]
    }
   ],
   "source": [
    "print(D[\"sub1\"])"
   ]
  },
  {
   "cell_type": "markdown",
   "metadata": {},
   "source": [
    "******"
   ]
  },
  {
   "cell_type": "markdown",
   "metadata": {},
   "source": [
    "## Dataframe"
   ]
  },
  {
   "cell_type": "markdown",
   "metadata": {},
   "source": [
    "###### Creating a dataframe using list"
   ]
  },
  {
   "cell_type": "code",
   "execution_count": 353,
   "metadata": {},
   "outputs": [
    {
     "name": "stdout",
     "output_type": "stream",
     "text": [
      "   0   1\n",
      "0  A  30\n",
      "1  B  45\n",
      "2  C  56\n",
      "3  D  78\n"
     ]
    }
   ],
   "source": [
    "li = [[\"A\",30],[\"B\",45],[\"C\",56],[\"D\",78]]\n",
    "df = pd.DataFrame(li)\n",
    "print(df)"
   ]
  },
  {
   "cell_type": "markdown",
   "metadata": {},
   "source": [
    "###### Creating a dataframe using Dictionary"
   ]
  },
  {
   "cell_type": "code",
   "execution_count": 355,
   "metadata": {},
   "outputs": [
    {
     "name": "stdout",
     "output_type": "stream",
     "text": [
      "  Sub  marks\n",
      "0   A     30\n",
      "1   B     45\n",
      "2   C     56\n",
      "3   D     78\n"
     ]
    }
   ],
   "source": [
    "dfd = pd.DataFrame({\"Sub\":[\"A\",\"B\",\"C\",\"D\"],\"marks\":[30,45,56,78]})\n",
    "print(dfd)"
   ]
  },
  {
   "cell_type": "markdown",
   "metadata": {},
   "source": [
    "###### Here it will used to set the column into index"
   ]
  },
  {
   "cell_type": "code",
   "execution_count": 356,
   "metadata": {},
   "outputs": [
    {
     "name": "stdout",
     "output_type": "stream",
     "text": [
      "     marks\n",
      "Sub       \n",
      "A       30\n",
      "B       45\n",
      "C       56\n",
      "D       78\n"
     ]
    }
   ],
   "source": [
    "dfd = pd.DataFrame({\"Sub\":[\"A\",\"B\",\"C\",\"D\"],\"marks\":[30,45,56,78]})\n",
    "dfd2 = dfd.set_index(\"Sub\")\n",
    "print(dfd2)"
   ]
  },
  {
   "cell_type": "code",
   "execution_count": 357,
   "metadata": {},
   "outputs": [
    {
     "name": "stdout",
     "output_type": "stream",
     "text": [
      "     marks\n",
      "Sub       \n",
      "A       30\n",
      "B       45\n",
      "C       56\n",
      "D       78\n"
     ]
    }
   ],
   "source": [
    "dfd = pd.DataFrame({\"Sub\":[\"A\",\"B\",\"C\",\"D\"],\"marks\":[30,45,56,78]})\n",
    "dfd.set_index(\"Sub\",inplace=True)\n",
    "print(dfd)"
   ]
  },
  {
   "cell_type": "code",
   "execution_count": 359,
   "metadata": {},
   "outputs": [
    {
     "name": "stdout",
     "output_type": "stream",
     "text": [
      "   marks\n",
      "A     30\n",
      "B     45\n",
      "C     56\n",
      "D     78\n"
     ]
    }
   ],
   "source": [
    "dfd = pd.DataFrame({\"marks\":[30,45,56,78]},index=[\"A\",\"B\",\"C\",\"D\"])\n",
    "print(dfd)"
   ]
  },
  {
   "cell_type": "markdown",
   "metadata": {},
   "source": [
    "###### Here we created a column for df"
   ]
  },
  {
   "cell_type": "code",
   "execution_count": 360,
   "metadata": {},
   "outputs": [
    {
     "name": "stdout",
     "output_type": "stream",
     "text": [
      "  Sub  marks\n",
      "0   A     30\n",
      "1   B     45\n",
      "2   C     56\n",
      "3   D     78\n"
     ]
    }
   ],
   "source": [
    "li = [[\"A\",30],[\"B\",45],[\"C\",56],[\"D\",78]]\n",
    "df = pd.DataFrame(li,columns=(\"Sub\",\"marks\"))\n",
    "print(df)"
   ]
  },
  {
   "cell_type": "code",
   "execution_count": 381,
   "metadata": {},
   "outputs": [],
   "source": [
    "titanic = pd.read_csv(\"titanic.csv\")"
   ]
  },
  {
   "cell_type": "code",
   "execution_count": 382,
   "metadata": {},
   "outputs": [
    {
     "name": "stdout",
     "output_type": "stream",
     "text": [
      "<class 'pandas.core.frame.DataFrame'>\n",
      "RangeIndex: 891 entries, 0 to 890\n",
      "Data columns (total 13 columns):\n",
      " #   Column       Non-Null Count  Dtype  \n",
      "---  ------       --------------  -----  \n",
      " 0   Unnamed: 0   891 non-null    int64  \n",
      " 1   PassengerId  891 non-null    int64  \n",
      " 2   Survived     891 non-null    int64  \n",
      " 3   Pclass       891 non-null    int64  \n",
      " 4   Name         891 non-null    object \n",
      " 5   Sex          891 non-null    object \n",
      " 6   Age          714 non-null    float64\n",
      " 7   SibSp        891 non-null    int64  \n",
      " 8   Parch        891 non-null    int64  \n",
      " 9   Ticket       891 non-null    object \n",
      " 10  Fare         891 non-null    float64\n",
      " 11  Cabin        204 non-null    object \n",
      " 12  Embarked     889 non-null    object \n",
      "dtypes: float64(2), int64(6), object(5)\n",
      "memory usage: 90.6+ KB\n"
     ]
    }
   ],
   "source": [
    "titanic.info()"
   ]
  },
  {
   "cell_type": "code",
   "execution_count": 383,
   "metadata": {},
   "outputs": [
    {
     "data": {
      "text/html": [
       "<div>\n",
       "<style scoped>\n",
       "    .dataframe tbody tr th:only-of-type {\n",
       "        vertical-align: middle;\n",
       "    }\n",
       "\n",
       "    .dataframe tbody tr th {\n",
       "        vertical-align: top;\n",
       "    }\n",
       "\n",
       "    .dataframe thead th {\n",
       "        text-align: right;\n",
       "    }\n",
       "</style>\n",
       "<table border=\"1\" class=\"dataframe\">\n",
       "  <thead>\n",
       "    <tr style=\"text-align: right;\">\n",
       "      <th></th>\n",
       "      <th>Unnamed: 0</th>\n",
       "      <th>PassengerId</th>\n",
       "      <th>Survived</th>\n",
       "      <th>Pclass</th>\n",
       "      <th>Age</th>\n",
       "      <th>SibSp</th>\n",
       "      <th>Parch</th>\n",
       "      <th>Fare</th>\n",
       "    </tr>\n",
       "  </thead>\n",
       "  <tbody>\n",
       "    <tr>\n",
       "      <th>count</th>\n",
       "      <td>891.000000</td>\n",
       "      <td>891.000000</td>\n",
       "      <td>891.000000</td>\n",
       "      <td>891.000000</td>\n",
       "      <td>714.000000</td>\n",
       "      <td>891.000000</td>\n",
       "      <td>891.000000</td>\n",
       "      <td>891.000000</td>\n",
       "    </tr>\n",
       "    <tr>\n",
       "      <th>mean</th>\n",
       "      <td>445.000000</td>\n",
       "      <td>446.000000</td>\n",
       "      <td>0.383838</td>\n",
       "      <td>2.308642</td>\n",
       "      <td>29.699118</td>\n",
       "      <td>0.523008</td>\n",
       "      <td>0.381594</td>\n",
       "      <td>32.204208</td>\n",
       "    </tr>\n",
       "    <tr>\n",
       "      <th>std</th>\n",
       "      <td>257.353842</td>\n",
       "      <td>257.353842</td>\n",
       "      <td>0.486592</td>\n",
       "      <td>0.836071</td>\n",
       "      <td>14.526497</td>\n",
       "      <td>1.102743</td>\n",
       "      <td>0.806057</td>\n",
       "      <td>49.693429</td>\n",
       "    </tr>\n",
       "    <tr>\n",
       "      <th>min</th>\n",
       "      <td>0.000000</td>\n",
       "      <td>1.000000</td>\n",
       "      <td>0.000000</td>\n",
       "      <td>1.000000</td>\n",
       "      <td>0.420000</td>\n",
       "      <td>0.000000</td>\n",
       "      <td>0.000000</td>\n",
       "      <td>0.000000</td>\n",
       "    </tr>\n",
       "    <tr>\n",
       "      <th>25%</th>\n",
       "      <td>222.500000</td>\n",
       "      <td>223.500000</td>\n",
       "      <td>0.000000</td>\n",
       "      <td>2.000000</td>\n",
       "      <td>20.125000</td>\n",
       "      <td>0.000000</td>\n",
       "      <td>0.000000</td>\n",
       "      <td>7.910400</td>\n",
       "    </tr>\n",
       "    <tr>\n",
       "      <th>50%</th>\n",
       "      <td>445.000000</td>\n",
       "      <td>446.000000</td>\n",
       "      <td>0.000000</td>\n",
       "      <td>3.000000</td>\n",
       "      <td>28.000000</td>\n",
       "      <td>0.000000</td>\n",
       "      <td>0.000000</td>\n",
       "      <td>14.454200</td>\n",
       "    </tr>\n",
       "    <tr>\n",
       "      <th>75%</th>\n",
       "      <td>667.500000</td>\n",
       "      <td>668.500000</td>\n",
       "      <td>1.000000</td>\n",
       "      <td>3.000000</td>\n",
       "      <td>38.000000</td>\n",
       "      <td>1.000000</td>\n",
       "      <td>0.000000</td>\n",
       "      <td>31.000000</td>\n",
       "    </tr>\n",
       "    <tr>\n",
       "      <th>max</th>\n",
       "      <td>890.000000</td>\n",
       "      <td>891.000000</td>\n",
       "      <td>1.000000</td>\n",
       "      <td>3.000000</td>\n",
       "      <td>80.000000</td>\n",
       "      <td>8.000000</td>\n",
       "      <td>6.000000</td>\n",
       "      <td>512.329200</td>\n",
       "    </tr>\n",
       "  </tbody>\n",
       "</table>\n",
       "</div>"
      ],
      "text/plain": [
       "       Unnamed: 0  PassengerId    Survived      Pclass         Age  \\\n",
       "count  891.000000   891.000000  891.000000  891.000000  714.000000   \n",
       "mean   445.000000   446.000000    0.383838    2.308642   29.699118   \n",
       "std    257.353842   257.353842    0.486592    0.836071   14.526497   \n",
       "min      0.000000     1.000000    0.000000    1.000000    0.420000   \n",
       "25%    222.500000   223.500000    0.000000    2.000000   20.125000   \n",
       "50%    445.000000   446.000000    0.000000    3.000000   28.000000   \n",
       "75%    667.500000   668.500000    1.000000    3.000000   38.000000   \n",
       "max    890.000000   891.000000    1.000000    3.000000   80.000000   \n",
       "\n",
       "            SibSp       Parch        Fare  \n",
       "count  891.000000  891.000000  891.000000  \n",
       "mean     0.523008    0.381594   32.204208  \n",
       "std      1.102743    0.806057   49.693429  \n",
       "min      0.000000    0.000000    0.000000  \n",
       "25%      0.000000    0.000000    7.910400  \n",
       "50%      0.000000    0.000000   14.454200  \n",
       "75%      1.000000    0.000000   31.000000  \n",
       "max      8.000000    6.000000  512.329200  "
      ]
     },
     "execution_count": 383,
     "metadata": {},
     "output_type": "execute_result"
    }
   ],
   "source": [
    "titanic.describe()"
   ]
  },
  {
   "cell_type": "code",
   "execution_count": 385,
   "metadata": {},
   "outputs": [
    {
     "data": {
      "text/html": [
       "<div>\n",
       "<style scoped>\n",
       "    .dataframe tbody tr th:only-of-type {\n",
       "        vertical-align: middle;\n",
       "    }\n",
       "\n",
       "    .dataframe tbody tr th {\n",
       "        vertical-align: top;\n",
       "    }\n",
       "\n",
       "    .dataframe thead th {\n",
       "        text-align: right;\n",
       "    }\n",
       "</style>\n",
       "<table border=\"1\" class=\"dataframe\">\n",
       "  <thead>\n",
       "    <tr style=\"text-align: right;\">\n",
       "      <th></th>\n",
       "      <th>Unnamed: 0</th>\n",
       "      <th>PassengerId</th>\n",
       "      <th>Survived</th>\n",
       "      <th>Pclass</th>\n",
       "      <th>Name</th>\n",
       "      <th>Sex</th>\n",
       "      <th>Age</th>\n",
       "      <th>SibSp</th>\n",
       "      <th>Parch</th>\n",
       "      <th>Ticket</th>\n",
       "      <th>Fare</th>\n",
       "      <th>Cabin</th>\n",
       "      <th>Embarked</th>\n",
       "    </tr>\n",
       "  </thead>\n",
       "  <tbody>\n",
       "    <tr>\n",
       "      <th>0</th>\n",
       "      <td>0</td>\n",
       "      <td>1</td>\n",
       "      <td>0</td>\n",
       "      <td>3</td>\n",
       "      <td>Braund, Mr. Owen Harris</td>\n",
       "      <td>male</td>\n",
       "      <td>22.0</td>\n",
       "      <td>1</td>\n",
       "      <td>0</td>\n",
       "      <td>A/5 21171</td>\n",
       "      <td>7.2500</td>\n",
       "      <td>NaN</td>\n",
       "      <td>S</td>\n",
       "    </tr>\n",
       "    <tr>\n",
       "      <th>1</th>\n",
       "      <td>1</td>\n",
       "      <td>2</td>\n",
       "      <td>1</td>\n",
       "      <td>1</td>\n",
       "      <td>Cumings, Mrs. John Bradley (Florence Briggs Th...</td>\n",
       "      <td>female</td>\n",
       "      <td>38.0</td>\n",
       "      <td>1</td>\n",
       "      <td>0</td>\n",
       "      <td>PC 17599</td>\n",
       "      <td>71.2833</td>\n",
       "      <td>C85</td>\n",
       "      <td>C</td>\n",
       "    </tr>\n",
       "    <tr>\n",
       "      <th>2</th>\n",
       "      <td>2</td>\n",
       "      <td>3</td>\n",
       "      <td>1</td>\n",
       "      <td>3</td>\n",
       "      <td>Heikkinen, Miss. Laina</td>\n",
       "      <td>female</td>\n",
       "      <td>26.0</td>\n",
       "      <td>0</td>\n",
       "      <td>0</td>\n",
       "      <td>STON/O2. 3101282</td>\n",
       "      <td>7.9250</td>\n",
       "      <td>NaN</td>\n",
       "      <td>S</td>\n",
       "    </tr>\n",
       "    <tr>\n",
       "      <th>3</th>\n",
       "      <td>3</td>\n",
       "      <td>4</td>\n",
       "      <td>1</td>\n",
       "      <td>1</td>\n",
       "      <td>Futrelle, Mrs. Jacques Heath (Lily May Peel)</td>\n",
       "      <td>female</td>\n",
       "      <td>35.0</td>\n",
       "      <td>1</td>\n",
       "      <td>0</td>\n",
       "      <td>113803</td>\n",
       "      <td>53.1000</td>\n",
       "      <td>C123</td>\n",
       "      <td>S</td>\n",
       "    </tr>\n",
       "    <tr>\n",
       "      <th>4</th>\n",
       "      <td>4</td>\n",
       "      <td>5</td>\n",
       "      <td>0</td>\n",
       "      <td>3</td>\n",
       "      <td>Allen, Mr. William Henry</td>\n",
       "      <td>male</td>\n",
       "      <td>35.0</td>\n",
       "      <td>0</td>\n",
       "      <td>0</td>\n",
       "      <td>373450</td>\n",
       "      <td>8.0500</td>\n",
       "      <td>NaN</td>\n",
       "      <td>S</td>\n",
       "    </tr>\n",
       "    <tr>\n",
       "      <th>5</th>\n",
       "      <td>5</td>\n",
       "      <td>6</td>\n",
       "      <td>0</td>\n",
       "      <td>3</td>\n",
       "      <td>Moran, Mr. James</td>\n",
       "      <td>male</td>\n",
       "      <td>NaN</td>\n",
       "      <td>0</td>\n",
       "      <td>0</td>\n",
       "      <td>330877</td>\n",
       "      <td>8.4583</td>\n",
       "      <td>NaN</td>\n",
       "      <td>Q</td>\n",
       "    </tr>\n",
       "    <tr>\n",
       "      <th>6</th>\n",
       "      <td>6</td>\n",
       "      <td>7</td>\n",
       "      <td>0</td>\n",
       "      <td>1</td>\n",
       "      <td>McCarthy, Mr. Timothy J</td>\n",
       "      <td>male</td>\n",
       "      <td>54.0</td>\n",
       "      <td>0</td>\n",
       "      <td>0</td>\n",
       "      <td>17463</td>\n",
       "      <td>51.8625</td>\n",
       "      <td>E46</td>\n",
       "      <td>S</td>\n",
       "    </tr>\n",
       "    <tr>\n",
       "      <th>7</th>\n",
       "      <td>7</td>\n",
       "      <td>8</td>\n",
       "      <td>0</td>\n",
       "      <td>3</td>\n",
       "      <td>Palsson, Master. Gosta Leonard</td>\n",
       "      <td>male</td>\n",
       "      <td>2.0</td>\n",
       "      <td>3</td>\n",
       "      <td>1</td>\n",
       "      <td>349909</td>\n",
       "      <td>21.0750</td>\n",
       "      <td>NaN</td>\n",
       "      <td>S</td>\n",
       "    </tr>\n",
       "    <tr>\n",
       "      <th>8</th>\n",
       "      <td>8</td>\n",
       "      <td>9</td>\n",
       "      <td>1</td>\n",
       "      <td>3</td>\n",
       "      <td>Johnson, Mrs. Oscar W (Elisabeth Vilhelmina Berg)</td>\n",
       "      <td>female</td>\n",
       "      <td>27.0</td>\n",
       "      <td>0</td>\n",
       "      <td>2</td>\n",
       "      <td>347742</td>\n",
       "      <td>11.1333</td>\n",
       "      <td>NaN</td>\n",
       "      <td>S</td>\n",
       "    </tr>\n",
       "    <tr>\n",
       "      <th>9</th>\n",
       "      <td>9</td>\n",
       "      <td>10</td>\n",
       "      <td>1</td>\n",
       "      <td>2</td>\n",
       "      <td>Nasser, Mrs. Nicholas (Adele Achem)</td>\n",
       "      <td>female</td>\n",
       "      <td>14.0</td>\n",
       "      <td>1</td>\n",
       "      <td>0</td>\n",
       "      <td>237736</td>\n",
       "      <td>30.0708</td>\n",
       "      <td>NaN</td>\n",
       "      <td>C</td>\n",
       "    </tr>\n",
       "  </tbody>\n",
       "</table>\n",
       "</div>"
      ],
      "text/plain": [
       "   Unnamed: 0  PassengerId  Survived  Pclass  \\\n",
       "0           0            1         0       3   \n",
       "1           1            2         1       1   \n",
       "2           2            3         1       3   \n",
       "3           3            4         1       1   \n",
       "4           4            5         0       3   \n",
       "5           5            6         0       3   \n",
       "6           6            7         0       1   \n",
       "7           7            8         0       3   \n",
       "8           8            9         1       3   \n",
       "9           9           10         1       2   \n",
       "\n",
       "                                                Name     Sex   Age  SibSp  \\\n",
       "0                            Braund, Mr. Owen Harris    male  22.0      1   \n",
       "1  Cumings, Mrs. John Bradley (Florence Briggs Th...  female  38.0      1   \n",
       "2                             Heikkinen, Miss. Laina  female  26.0      0   \n",
       "3       Futrelle, Mrs. Jacques Heath (Lily May Peel)  female  35.0      1   \n",
       "4                           Allen, Mr. William Henry    male  35.0      0   \n",
       "5                                   Moran, Mr. James    male   NaN      0   \n",
       "6                            McCarthy, Mr. Timothy J    male  54.0      0   \n",
       "7                     Palsson, Master. Gosta Leonard    male   2.0      3   \n",
       "8  Johnson, Mrs. Oscar W (Elisabeth Vilhelmina Berg)  female  27.0      0   \n",
       "9                Nasser, Mrs. Nicholas (Adele Achem)  female  14.0      1   \n",
       "\n",
       "   Parch            Ticket     Fare Cabin Embarked  \n",
       "0      0         A/5 21171   7.2500   NaN        S  \n",
       "1      0          PC 17599  71.2833   C85        C  \n",
       "2      0  STON/O2. 3101282   7.9250   NaN        S  \n",
       "3      0            113803  53.1000  C123        S  \n",
       "4      0            373450   8.0500   NaN        S  \n",
       "5      0            330877   8.4583   NaN        Q  \n",
       "6      0             17463  51.8625   E46        S  \n",
       "7      1            349909  21.0750   NaN        S  \n",
       "8      2            347742  11.1333   NaN        S  \n",
       "9      0            237736  30.0708   NaN        C  "
      ]
     },
     "execution_count": 385,
     "metadata": {},
     "output_type": "execute_result"
    }
   ],
   "source": [
    "titanic.head(10)#first 10 rows"
   ]
  },
  {
   "cell_type": "code",
   "execution_count": 386,
   "metadata": {},
   "outputs": [
    {
     "data": {
      "text/html": [
       "<div>\n",
       "<style scoped>\n",
       "    .dataframe tbody tr th:only-of-type {\n",
       "        vertical-align: middle;\n",
       "    }\n",
       "\n",
       "    .dataframe tbody tr th {\n",
       "        vertical-align: top;\n",
       "    }\n",
       "\n",
       "    .dataframe thead th {\n",
       "        text-align: right;\n",
       "    }\n",
       "</style>\n",
       "<table border=\"1\" class=\"dataframe\">\n",
       "  <thead>\n",
       "    <tr style=\"text-align: right;\">\n",
       "      <th></th>\n",
       "      <th>Unnamed: 0</th>\n",
       "      <th>PassengerId</th>\n",
       "      <th>Survived</th>\n",
       "      <th>Pclass</th>\n",
       "      <th>Name</th>\n",
       "      <th>Sex</th>\n",
       "      <th>Age</th>\n",
       "      <th>SibSp</th>\n",
       "      <th>Parch</th>\n",
       "      <th>Ticket</th>\n",
       "      <th>Fare</th>\n",
       "      <th>Cabin</th>\n",
       "      <th>Embarked</th>\n",
       "    </tr>\n",
       "  </thead>\n",
       "  <tbody>\n",
       "    <tr>\n",
       "      <th>881</th>\n",
       "      <td>881</td>\n",
       "      <td>882</td>\n",
       "      <td>0</td>\n",
       "      <td>3</td>\n",
       "      <td>Markun, Mr. Johann</td>\n",
       "      <td>male</td>\n",
       "      <td>33.0</td>\n",
       "      <td>0</td>\n",
       "      <td>0</td>\n",
       "      <td>349257</td>\n",
       "      <td>7.8958</td>\n",
       "      <td>NaN</td>\n",
       "      <td>S</td>\n",
       "    </tr>\n",
       "    <tr>\n",
       "      <th>882</th>\n",
       "      <td>882</td>\n",
       "      <td>883</td>\n",
       "      <td>0</td>\n",
       "      <td>3</td>\n",
       "      <td>Dahlberg, Miss. Gerda Ulrika</td>\n",
       "      <td>female</td>\n",
       "      <td>22.0</td>\n",
       "      <td>0</td>\n",
       "      <td>0</td>\n",
       "      <td>7552</td>\n",
       "      <td>10.5167</td>\n",
       "      <td>NaN</td>\n",
       "      <td>S</td>\n",
       "    </tr>\n",
       "    <tr>\n",
       "      <th>883</th>\n",
       "      <td>883</td>\n",
       "      <td>884</td>\n",
       "      <td>0</td>\n",
       "      <td>2</td>\n",
       "      <td>Banfield, Mr. Frederick James</td>\n",
       "      <td>male</td>\n",
       "      <td>28.0</td>\n",
       "      <td>0</td>\n",
       "      <td>0</td>\n",
       "      <td>C.A./SOTON 34068</td>\n",
       "      <td>10.5000</td>\n",
       "      <td>NaN</td>\n",
       "      <td>S</td>\n",
       "    </tr>\n",
       "    <tr>\n",
       "      <th>884</th>\n",
       "      <td>884</td>\n",
       "      <td>885</td>\n",
       "      <td>0</td>\n",
       "      <td>3</td>\n",
       "      <td>Sutehall, Mr. Henry Jr</td>\n",
       "      <td>male</td>\n",
       "      <td>25.0</td>\n",
       "      <td>0</td>\n",
       "      <td>0</td>\n",
       "      <td>SOTON/OQ 392076</td>\n",
       "      <td>7.0500</td>\n",
       "      <td>NaN</td>\n",
       "      <td>S</td>\n",
       "    </tr>\n",
       "    <tr>\n",
       "      <th>885</th>\n",
       "      <td>885</td>\n",
       "      <td>886</td>\n",
       "      <td>0</td>\n",
       "      <td>3</td>\n",
       "      <td>Rice, Mrs. William (Margaret Norton)</td>\n",
       "      <td>female</td>\n",
       "      <td>39.0</td>\n",
       "      <td>0</td>\n",
       "      <td>5</td>\n",
       "      <td>382652</td>\n",
       "      <td>29.1250</td>\n",
       "      <td>NaN</td>\n",
       "      <td>Q</td>\n",
       "    </tr>\n",
       "    <tr>\n",
       "      <th>886</th>\n",
       "      <td>886</td>\n",
       "      <td>887</td>\n",
       "      <td>0</td>\n",
       "      <td>2</td>\n",
       "      <td>Montvila, Rev. Juozas</td>\n",
       "      <td>male</td>\n",
       "      <td>27.0</td>\n",
       "      <td>0</td>\n",
       "      <td>0</td>\n",
       "      <td>211536</td>\n",
       "      <td>13.0000</td>\n",
       "      <td>NaN</td>\n",
       "      <td>S</td>\n",
       "    </tr>\n",
       "    <tr>\n",
       "      <th>887</th>\n",
       "      <td>887</td>\n",
       "      <td>888</td>\n",
       "      <td>1</td>\n",
       "      <td>1</td>\n",
       "      <td>Graham, Miss. Margaret Edith</td>\n",
       "      <td>female</td>\n",
       "      <td>19.0</td>\n",
       "      <td>0</td>\n",
       "      <td>0</td>\n",
       "      <td>112053</td>\n",
       "      <td>30.0000</td>\n",
       "      <td>B42</td>\n",
       "      <td>S</td>\n",
       "    </tr>\n",
       "    <tr>\n",
       "      <th>888</th>\n",
       "      <td>888</td>\n",
       "      <td>889</td>\n",
       "      <td>0</td>\n",
       "      <td>3</td>\n",
       "      <td>Johnston, Miss. Catherine Helen \"Carrie\"</td>\n",
       "      <td>female</td>\n",
       "      <td>NaN</td>\n",
       "      <td>1</td>\n",
       "      <td>2</td>\n",
       "      <td>W./C. 6607</td>\n",
       "      <td>23.4500</td>\n",
       "      <td>NaN</td>\n",
       "      <td>S</td>\n",
       "    </tr>\n",
       "    <tr>\n",
       "      <th>889</th>\n",
       "      <td>889</td>\n",
       "      <td>890</td>\n",
       "      <td>1</td>\n",
       "      <td>1</td>\n",
       "      <td>Behr, Mr. Karl Howell</td>\n",
       "      <td>male</td>\n",
       "      <td>26.0</td>\n",
       "      <td>0</td>\n",
       "      <td>0</td>\n",
       "      <td>111369</td>\n",
       "      <td>30.0000</td>\n",
       "      <td>C148</td>\n",
       "      <td>C</td>\n",
       "    </tr>\n",
       "    <tr>\n",
       "      <th>890</th>\n",
       "      <td>890</td>\n",
       "      <td>891</td>\n",
       "      <td>0</td>\n",
       "      <td>3</td>\n",
       "      <td>Dooley, Mr. Patrick</td>\n",
       "      <td>male</td>\n",
       "      <td>32.0</td>\n",
       "      <td>0</td>\n",
       "      <td>0</td>\n",
       "      <td>370376</td>\n",
       "      <td>7.7500</td>\n",
       "      <td>NaN</td>\n",
       "      <td>Q</td>\n",
       "    </tr>\n",
       "  </tbody>\n",
       "</table>\n",
       "</div>"
      ],
      "text/plain": [
       "     Unnamed: 0  PassengerId  Survived  Pclass  \\\n",
       "881         881          882         0       3   \n",
       "882         882          883         0       3   \n",
       "883         883          884         0       2   \n",
       "884         884          885         0       3   \n",
       "885         885          886         0       3   \n",
       "886         886          887         0       2   \n",
       "887         887          888         1       1   \n",
       "888         888          889         0       3   \n",
       "889         889          890         1       1   \n",
       "890         890          891         0       3   \n",
       "\n",
       "                                         Name     Sex   Age  SibSp  Parch  \\\n",
       "881                        Markun, Mr. Johann    male  33.0      0      0   \n",
       "882              Dahlberg, Miss. Gerda Ulrika  female  22.0      0      0   \n",
       "883             Banfield, Mr. Frederick James    male  28.0      0      0   \n",
       "884                    Sutehall, Mr. Henry Jr    male  25.0      0      0   \n",
       "885      Rice, Mrs. William (Margaret Norton)  female  39.0      0      5   \n",
       "886                     Montvila, Rev. Juozas    male  27.0      0      0   \n",
       "887              Graham, Miss. Margaret Edith  female  19.0      0      0   \n",
       "888  Johnston, Miss. Catherine Helen \"Carrie\"  female   NaN      1      2   \n",
       "889                     Behr, Mr. Karl Howell    male  26.0      0      0   \n",
       "890                       Dooley, Mr. Patrick    male  32.0      0      0   \n",
       "\n",
       "               Ticket     Fare Cabin Embarked  \n",
       "881            349257   7.8958   NaN        S  \n",
       "882              7552  10.5167   NaN        S  \n",
       "883  C.A./SOTON 34068  10.5000   NaN        S  \n",
       "884   SOTON/OQ 392076   7.0500   NaN        S  \n",
       "885            382652  29.1250   NaN        Q  \n",
       "886            211536  13.0000   NaN        S  \n",
       "887            112053  30.0000   B42        S  \n",
       "888        W./C. 6607  23.4500   NaN        S  \n",
       "889            111369  30.0000  C148        C  \n",
       "890            370376   7.7500   NaN        Q  "
      ]
     },
     "execution_count": 386,
     "metadata": {},
     "output_type": "execute_result"
    }
   ],
   "source": [
    "titanic.tail(10)#last 10 rows"
   ]
  },
  {
   "cell_type": "code",
   "execution_count": 387,
   "metadata": {},
   "outputs": [
    {
     "name": "stdout",
     "output_type": "stream",
     "text": [
      "445.5\n"
     ]
    }
   ],
   "source": [
    "Mean=titanic.groupby(\"Sex\").size()\n",
    "print(Mean.mean())"
   ]
  },
  {
   "cell_type": "markdown",
   "metadata": {},
   "source": [
    "###### We can able to select the columns for ind and dep using this loc with column name"
   ]
  },
  {
   "cell_type": "code",
   "execution_count": 388,
   "metadata": {},
   "outputs": [],
   "source": [
    "ind=titanic.loc[0:10,[\"PassengerId\",\"Pclass\"]]"
   ]
  },
  {
   "cell_type": "code",
   "execution_count": 389,
   "metadata": {},
   "outputs": [
    {
     "data": {
      "text/html": [
       "<div>\n",
       "<style scoped>\n",
       "    .dataframe tbody tr th:only-of-type {\n",
       "        vertical-align: middle;\n",
       "    }\n",
       "\n",
       "    .dataframe tbody tr th {\n",
       "        vertical-align: top;\n",
       "    }\n",
       "\n",
       "    .dataframe thead th {\n",
       "        text-align: right;\n",
       "    }\n",
       "</style>\n",
       "<table border=\"1\" class=\"dataframe\">\n",
       "  <thead>\n",
       "    <tr style=\"text-align: right;\">\n",
       "      <th></th>\n",
       "      <th>PassengerId</th>\n",
       "      <th>Pclass</th>\n",
       "    </tr>\n",
       "  </thead>\n",
       "  <tbody>\n",
       "    <tr>\n",
       "      <th>0</th>\n",
       "      <td>1</td>\n",
       "      <td>3</td>\n",
       "    </tr>\n",
       "    <tr>\n",
       "      <th>1</th>\n",
       "      <td>2</td>\n",
       "      <td>1</td>\n",
       "    </tr>\n",
       "    <tr>\n",
       "      <th>2</th>\n",
       "      <td>3</td>\n",
       "      <td>3</td>\n",
       "    </tr>\n",
       "    <tr>\n",
       "      <th>3</th>\n",
       "      <td>4</td>\n",
       "      <td>1</td>\n",
       "    </tr>\n",
       "    <tr>\n",
       "      <th>4</th>\n",
       "      <td>5</td>\n",
       "      <td>3</td>\n",
       "    </tr>\n",
       "    <tr>\n",
       "      <th>5</th>\n",
       "      <td>6</td>\n",
       "      <td>3</td>\n",
       "    </tr>\n",
       "    <tr>\n",
       "      <th>6</th>\n",
       "      <td>7</td>\n",
       "      <td>1</td>\n",
       "    </tr>\n",
       "    <tr>\n",
       "      <th>7</th>\n",
       "      <td>8</td>\n",
       "      <td>3</td>\n",
       "    </tr>\n",
       "    <tr>\n",
       "      <th>8</th>\n",
       "      <td>9</td>\n",
       "      <td>3</td>\n",
       "    </tr>\n",
       "    <tr>\n",
       "      <th>9</th>\n",
       "      <td>10</td>\n",
       "      <td>2</td>\n",
       "    </tr>\n",
       "    <tr>\n",
       "      <th>10</th>\n",
       "      <td>11</td>\n",
       "      <td>3</td>\n",
       "    </tr>\n",
       "  </tbody>\n",
       "</table>\n",
       "</div>"
      ],
      "text/plain": [
       "    PassengerId  Pclass\n",
       "0             1       3\n",
       "1             2       1\n",
       "2             3       3\n",
       "3             4       1\n",
       "4             5       3\n",
       "5             6       3\n",
       "6             7       1\n",
       "7             8       3\n",
       "8             9       3\n",
       "9            10       2\n",
       "10           11       3"
      ]
     },
     "execution_count": 389,
     "metadata": {},
     "output_type": "execute_result"
    }
   ],
   "source": [
    "ind"
   ]
  },
  {
   "cell_type": "markdown",
   "metadata": {},
   "source": [
    "###### We can able to select the columns for ind and dep using this iloc with index number"
   ]
  },
  {
   "cell_type": "code",
   "execution_count": 390,
   "metadata": {},
   "outputs": [],
   "source": [
    "ind=titanic.iloc[0:,0:2]"
   ]
  },
  {
   "cell_type": "code",
   "execution_count": 391,
   "metadata": {},
   "outputs": [
    {
     "data": {
      "text/html": [
       "<div>\n",
       "<style scoped>\n",
       "    .dataframe tbody tr th:only-of-type {\n",
       "        vertical-align: middle;\n",
       "    }\n",
       "\n",
       "    .dataframe tbody tr th {\n",
       "        vertical-align: top;\n",
       "    }\n",
       "\n",
       "    .dataframe thead th {\n",
       "        text-align: right;\n",
       "    }\n",
       "</style>\n",
       "<table border=\"1\" class=\"dataframe\">\n",
       "  <thead>\n",
       "    <tr style=\"text-align: right;\">\n",
       "      <th></th>\n",
       "      <th>Unnamed: 0</th>\n",
       "      <th>PassengerId</th>\n",
       "    </tr>\n",
       "  </thead>\n",
       "  <tbody>\n",
       "    <tr>\n",
       "      <th>0</th>\n",
       "      <td>0</td>\n",
       "      <td>1</td>\n",
       "    </tr>\n",
       "    <tr>\n",
       "      <th>1</th>\n",
       "      <td>1</td>\n",
       "      <td>2</td>\n",
       "    </tr>\n",
       "    <tr>\n",
       "      <th>2</th>\n",
       "      <td>2</td>\n",
       "      <td>3</td>\n",
       "    </tr>\n",
       "    <tr>\n",
       "      <th>3</th>\n",
       "      <td>3</td>\n",
       "      <td>4</td>\n",
       "    </tr>\n",
       "    <tr>\n",
       "      <th>4</th>\n",
       "      <td>4</td>\n",
       "      <td>5</td>\n",
       "    </tr>\n",
       "    <tr>\n",
       "      <th>...</th>\n",
       "      <td>...</td>\n",
       "      <td>...</td>\n",
       "    </tr>\n",
       "    <tr>\n",
       "      <th>886</th>\n",
       "      <td>886</td>\n",
       "      <td>887</td>\n",
       "    </tr>\n",
       "    <tr>\n",
       "      <th>887</th>\n",
       "      <td>887</td>\n",
       "      <td>888</td>\n",
       "    </tr>\n",
       "    <tr>\n",
       "      <th>888</th>\n",
       "      <td>888</td>\n",
       "      <td>889</td>\n",
       "    </tr>\n",
       "    <tr>\n",
       "      <th>889</th>\n",
       "      <td>889</td>\n",
       "      <td>890</td>\n",
       "    </tr>\n",
       "    <tr>\n",
       "      <th>890</th>\n",
       "      <td>890</td>\n",
       "      <td>891</td>\n",
       "    </tr>\n",
       "  </tbody>\n",
       "</table>\n",
       "<p>891 rows × 2 columns</p>\n",
       "</div>"
      ],
      "text/plain": [
       "     Unnamed: 0  PassengerId\n",
       "0             0            1\n",
       "1             1            2\n",
       "2             2            3\n",
       "3             3            4\n",
       "4             4            5\n",
       "..          ...          ...\n",
       "886         886          887\n",
       "887         887          888\n",
       "888         888          889\n",
       "889         889          890\n",
       "890         890          891\n",
       "\n",
       "[891 rows x 2 columns]"
      ]
     },
     "execution_count": 391,
     "metadata": {},
     "output_type": "execute_result"
    }
   ],
   "source": [
    "ind"
   ]
  },
  {
   "cell_type": "code",
   "execution_count": 392,
   "metadata": {},
   "outputs": [
    {
     "data": {
      "text/html": [
       "<div>\n",
       "<style scoped>\n",
       "    .dataframe tbody tr th:only-of-type {\n",
       "        vertical-align: middle;\n",
       "    }\n",
       "\n",
       "    .dataframe tbody tr th {\n",
       "        vertical-align: top;\n",
       "    }\n",
       "\n",
       "    .dataframe thead th {\n",
       "        text-align: right;\n",
       "    }\n",
       "</style>\n",
       "<table border=\"1\" class=\"dataframe\">\n",
       "  <thead>\n",
       "    <tr style=\"text-align: right;\">\n",
       "      <th></th>\n",
       "      <th>Unnamed: 0</th>\n",
       "      <th>PassengerId</th>\n",
       "      <th>Survived</th>\n",
       "      <th>Pclass</th>\n",
       "      <th>Name</th>\n",
       "      <th>Sex</th>\n",
       "      <th>Age</th>\n",
       "      <th>SibSp</th>\n",
       "      <th>Parch</th>\n",
       "      <th>Ticket</th>\n",
       "      <th>Fare</th>\n",
       "      <th>Cabin</th>\n",
       "      <th>Embarked</th>\n",
       "    </tr>\n",
       "  </thead>\n",
       "  <tbody>\n",
       "    <tr>\n",
       "      <th>9</th>\n",
       "      <td>9</td>\n",
       "      <td>10</td>\n",
       "      <td>1</td>\n",
       "      <td>2</td>\n",
       "      <td>Nasser, Mrs. Nicholas (Adele Achem)</td>\n",
       "      <td>female</td>\n",
       "      <td>14.0</td>\n",
       "      <td>1</td>\n",
       "      <td>0</td>\n",
       "      <td>237736</td>\n",
       "      <td>30.0708</td>\n",
       "      <td>NaN</td>\n",
       "      <td>C</td>\n",
       "    </tr>\n",
       "    <tr>\n",
       "      <th>15</th>\n",
       "      <td>15</td>\n",
       "      <td>16</td>\n",
       "      <td>1</td>\n",
       "      <td>2</td>\n",
       "      <td>Hewlett, Mrs. (Mary D Kingcome)</td>\n",
       "      <td>female</td>\n",
       "      <td>55.0</td>\n",
       "      <td>0</td>\n",
       "      <td>0</td>\n",
       "      <td>248706</td>\n",
       "      <td>16.0000</td>\n",
       "      <td>NaN</td>\n",
       "      <td>S</td>\n",
       "    </tr>\n",
       "    <tr>\n",
       "      <th>17</th>\n",
       "      <td>17</td>\n",
       "      <td>18</td>\n",
       "      <td>1</td>\n",
       "      <td>2</td>\n",
       "      <td>Williams, Mr. Charles Eugene</td>\n",
       "      <td>male</td>\n",
       "      <td>NaN</td>\n",
       "      <td>0</td>\n",
       "      <td>0</td>\n",
       "      <td>244373</td>\n",
       "      <td>13.0000</td>\n",
       "      <td>NaN</td>\n",
       "      <td>S</td>\n",
       "    </tr>\n",
       "    <tr>\n",
       "      <th>20</th>\n",
       "      <td>20</td>\n",
       "      <td>21</td>\n",
       "      <td>0</td>\n",
       "      <td>2</td>\n",
       "      <td>Fynney, Mr. Joseph J</td>\n",
       "      <td>male</td>\n",
       "      <td>35.0</td>\n",
       "      <td>0</td>\n",
       "      <td>0</td>\n",
       "      <td>239865</td>\n",
       "      <td>26.0000</td>\n",
       "      <td>NaN</td>\n",
       "      <td>S</td>\n",
       "    </tr>\n",
       "    <tr>\n",
       "      <th>21</th>\n",
       "      <td>21</td>\n",
       "      <td>22</td>\n",
       "      <td>1</td>\n",
       "      <td>2</td>\n",
       "      <td>Beesley, Mr. Lawrence</td>\n",
       "      <td>male</td>\n",
       "      <td>34.0</td>\n",
       "      <td>0</td>\n",
       "      <td>0</td>\n",
       "      <td>248698</td>\n",
       "      <td>13.0000</td>\n",
       "      <td>D56</td>\n",
       "      <td>S</td>\n",
       "    </tr>\n",
       "    <tr>\n",
       "      <th>...</th>\n",
       "      <td>...</td>\n",
       "      <td>...</td>\n",
       "      <td>...</td>\n",
       "      <td>...</td>\n",
       "      <td>...</td>\n",
       "      <td>...</td>\n",
       "      <td>...</td>\n",
       "      <td>...</td>\n",
       "      <td>...</td>\n",
       "      <td>...</td>\n",
       "      <td>...</td>\n",
       "      <td>...</td>\n",
       "      <td>...</td>\n",
       "    </tr>\n",
       "    <tr>\n",
       "      <th>866</th>\n",
       "      <td>866</td>\n",
       "      <td>867</td>\n",
       "      <td>1</td>\n",
       "      <td>2</td>\n",
       "      <td>Duran y More, Miss. Asuncion</td>\n",
       "      <td>female</td>\n",
       "      <td>27.0</td>\n",
       "      <td>1</td>\n",
       "      <td>0</td>\n",
       "      <td>SC/PARIS 2149</td>\n",
       "      <td>13.8583</td>\n",
       "      <td>NaN</td>\n",
       "      <td>C</td>\n",
       "    </tr>\n",
       "    <tr>\n",
       "      <th>874</th>\n",
       "      <td>874</td>\n",
       "      <td>875</td>\n",
       "      <td>1</td>\n",
       "      <td>2</td>\n",
       "      <td>Abelson, Mrs. Samuel (Hannah Wizosky)</td>\n",
       "      <td>female</td>\n",
       "      <td>28.0</td>\n",
       "      <td>1</td>\n",
       "      <td>0</td>\n",
       "      <td>P/PP 3381</td>\n",
       "      <td>24.0000</td>\n",
       "      <td>NaN</td>\n",
       "      <td>C</td>\n",
       "    </tr>\n",
       "    <tr>\n",
       "      <th>880</th>\n",
       "      <td>880</td>\n",
       "      <td>881</td>\n",
       "      <td>1</td>\n",
       "      <td>2</td>\n",
       "      <td>Shelley, Mrs. William (Imanita Parrish Hall)</td>\n",
       "      <td>female</td>\n",
       "      <td>25.0</td>\n",
       "      <td>0</td>\n",
       "      <td>1</td>\n",
       "      <td>230433</td>\n",
       "      <td>26.0000</td>\n",
       "      <td>NaN</td>\n",
       "      <td>S</td>\n",
       "    </tr>\n",
       "    <tr>\n",
       "      <th>883</th>\n",
       "      <td>883</td>\n",
       "      <td>884</td>\n",
       "      <td>0</td>\n",
       "      <td>2</td>\n",
       "      <td>Banfield, Mr. Frederick James</td>\n",
       "      <td>male</td>\n",
       "      <td>28.0</td>\n",
       "      <td>0</td>\n",
       "      <td>0</td>\n",
       "      <td>C.A./SOTON 34068</td>\n",
       "      <td>10.5000</td>\n",
       "      <td>NaN</td>\n",
       "      <td>S</td>\n",
       "    </tr>\n",
       "    <tr>\n",
       "      <th>886</th>\n",
       "      <td>886</td>\n",
       "      <td>887</td>\n",
       "      <td>0</td>\n",
       "      <td>2</td>\n",
       "      <td>Montvila, Rev. Juozas</td>\n",
       "      <td>male</td>\n",
       "      <td>27.0</td>\n",
       "      <td>0</td>\n",
       "      <td>0</td>\n",
       "      <td>211536</td>\n",
       "      <td>13.0000</td>\n",
       "      <td>NaN</td>\n",
       "      <td>S</td>\n",
       "    </tr>\n",
       "  </tbody>\n",
       "</table>\n",
       "<p>184 rows × 13 columns</p>\n",
       "</div>"
      ],
      "text/plain": [
       "     Unnamed: 0  PassengerId  Survived  Pclass  \\\n",
       "9             9           10         1       2   \n",
       "15           15           16         1       2   \n",
       "17           17           18         1       2   \n",
       "20           20           21         0       2   \n",
       "21           21           22         1       2   \n",
       "..          ...          ...       ...     ...   \n",
       "866         866          867         1       2   \n",
       "874         874          875         1       2   \n",
       "880         880          881         1       2   \n",
       "883         883          884         0       2   \n",
       "886         886          887         0       2   \n",
       "\n",
       "                                             Name     Sex   Age  SibSp  Parch  \\\n",
       "9             Nasser, Mrs. Nicholas (Adele Achem)  female  14.0      1      0   \n",
       "15               Hewlett, Mrs. (Mary D Kingcome)   female  55.0      0      0   \n",
       "17                   Williams, Mr. Charles Eugene    male   NaN      0      0   \n",
       "20                           Fynney, Mr. Joseph J    male  35.0      0      0   \n",
       "21                          Beesley, Mr. Lawrence    male  34.0      0      0   \n",
       "..                                            ...     ...   ...    ...    ...   \n",
       "866                  Duran y More, Miss. Asuncion  female  27.0      1      0   \n",
       "874         Abelson, Mrs. Samuel (Hannah Wizosky)  female  28.0      1      0   \n",
       "880  Shelley, Mrs. William (Imanita Parrish Hall)  female  25.0      0      1   \n",
       "883                 Banfield, Mr. Frederick James    male  28.0      0      0   \n",
       "886                         Montvila, Rev. Juozas    male  27.0      0      0   \n",
       "\n",
       "               Ticket     Fare Cabin Embarked  \n",
       "9              237736  30.0708   NaN        C  \n",
       "15             248706  16.0000   NaN        S  \n",
       "17             244373  13.0000   NaN        S  \n",
       "20             239865  26.0000   NaN        S  \n",
       "21             248698  13.0000   D56        S  \n",
       "..                ...      ...   ...      ...  \n",
       "866     SC/PARIS 2149  13.8583   NaN        C  \n",
       "874         P/PP 3381  24.0000   NaN        C  \n",
       "880            230433  26.0000   NaN        S  \n",
       "883  C.A./SOTON 34068  10.5000   NaN        S  \n",
       "886            211536  13.0000   NaN        S  \n",
       "\n",
       "[184 rows x 13 columns]"
      ]
     },
     "execution_count": 392,
     "metadata": {},
     "output_type": "execute_result"
    }
   ],
   "source": [
    "titanic[titanic.Pclass==2]"
   ]
  },
  {
   "cell_type": "code",
   "execution_count": 393,
   "metadata": {},
   "outputs": [
    {
     "data": {
      "text/html": [
       "<div>\n",
       "<style scoped>\n",
       "    .dataframe tbody tr th:only-of-type {\n",
       "        vertical-align: middle;\n",
       "    }\n",
       "\n",
       "    .dataframe tbody tr th {\n",
       "        vertical-align: top;\n",
       "    }\n",
       "\n",
       "    .dataframe thead th {\n",
       "        text-align: right;\n",
       "    }\n",
       "</style>\n",
       "<table border=\"1\" class=\"dataframe\">\n",
       "  <thead>\n",
       "    <tr style=\"text-align: right;\">\n",
       "      <th></th>\n",
       "      <th>Unnamed: 0</th>\n",
       "      <th>PassengerId</th>\n",
       "      <th>Survived</th>\n",
       "      <th>Pclass</th>\n",
       "      <th>Name</th>\n",
       "      <th>Sex</th>\n",
       "      <th>Age</th>\n",
       "      <th>SibSp</th>\n",
       "      <th>Parch</th>\n",
       "      <th>Ticket</th>\n",
       "      <th>Fare</th>\n",
       "      <th>Cabin</th>\n",
       "      <th>Embarked</th>\n",
       "    </tr>\n",
       "  </thead>\n",
       "  <tbody>\n",
       "    <tr>\n",
       "      <th>9</th>\n",
       "      <td>9</td>\n",
       "      <td>10</td>\n",
       "      <td>1</td>\n",
       "      <td>2</td>\n",
       "      <td>Nasser, Mrs. Nicholas (Adele Achem)</td>\n",
       "      <td>female</td>\n",
       "      <td>14.00</td>\n",
       "      <td>1</td>\n",
       "      <td>0</td>\n",
       "      <td>237736</td>\n",
       "      <td>30.0708</td>\n",
       "      <td>NaN</td>\n",
       "      <td>C</td>\n",
       "    </tr>\n",
       "    <tr>\n",
       "      <th>15</th>\n",
       "      <td>15</td>\n",
       "      <td>16</td>\n",
       "      <td>1</td>\n",
       "      <td>2</td>\n",
       "      <td>Hewlett, Mrs. (Mary D Kingcome)</td>\n",
       "      <td>female</td>\n",
       "      <td>55.00</td>\n",
       "      <td>0</td>\n",
       "      <td>0</td>\n",
       "      <td>248706</td>\n",
       "      <td>16.0000</td>\n",
       "      <td>NaN</td>\n",
       "      <td>S</td>\n",
       "    </tr>\n",
       "    <tr>\n",
       "      <th>17</th>\n",
       "      <td>17</td>\n",
       "      <td>18</td>\n",
       "      <td>1</td>\n",
       "      <td>2</td>\n",
       "      <td>Williams, Mr. Charles Eugene</td>\n",
       "      <td>male</td>\n",
       "      <td>NaN</td>\n",
       "      <td>0</td>\n",
       "      <td>0</td>\n",
       "      <td>244373</td>\n",
       "      <td>13.0000</td>\n",
       "      <td>NaN</td>\n",
       "      <td>S</td>\n",
       "    </tr>\n",
       "    <tr>\n",
       "      <th>21</th>\n",
       "      <td>21</td>\n",
       "      <td>22</td>\n",
       "      <td>1</td>\n",
       "      <td>2</td>\n",
       "      <td>Beesley, Mr. Lawrence</td>\n",
       "      <td>male</td>\n",
       "      <td>34.00</td>\n",
       "      <td>0</td>\n",
       "      <td>0</td>\n",
       "      <td>248698</td>\n",
       "      <td>13.0000</td>\n",
       "      <td>D56</td>\n",
       "      <td>S</td>\n",
       "    </tr>\n",
       "    <tr>\n",
       "      <th>43</th>\n",
       "      <td>43</td>\n",
       "      <td>44</td>\n",
       "      <td>1</td>\n",
       "      <td>2</td>\n",
       "      <td>Laroche, Miss. Simonne Marie Anne Andree</td>\n",
       "      <td>female</td>\n",
       "      <td>3.00</td>\n",
       "      <td>1</td>\n",
       "      <td>2</td>\n",
       "      <td>SC/Paris 2123</td>\n",
       "      <td>41.5792</td>\n",
       "      <td>NaN</td>\n",
       "      <td>C</td>\n",
       "    </tr>\n",
       "    <tr>\n",
       "      <th>...</th>\n",
       "      <td>...</td>\n",
       "      <td>...</td>\n",
       "      <td>...</td>\n",
       "      <td>...</td>\n",
       "      <td>...</td>\n",
       "      <td>...</td>\n",
       "      <td>...</td>\n",
       "      <td>...</td>\n",
       "      <td>...</td>\n",
       "      <td>...</td>\n",
       "      <td>...</td>\n",
       "      <td>...</td>\n",
       "      <td>...</td>\n",
       "    </tr>\n",
       "    <tr>\n",
       "      <th>831</th>\n",
       "      <td>831</td>\n",
       "      <td>832</td>\n",
       "      <td>1</td>\n",
       "      <td>2</td>\n",
       "      <td>Richards, Master. George Sibley</td>\n",
       "      <td>male</td>\n",
       "      <td>0.83</td>\n",
       "      <td>1</td>\n",
       "      <td>1</td>\n",
       "      <td>29106</td>\n",
       "      <td>18.7500</td>\n",
       "      <td>NaN</td>\n",
       "      <td>S</td>\n",
       "    </tr>\n",
       "    <tr>\n",
       "      <th>865</th>\n",
       "      <td>865</td>\n",
       "      <td>866</td>\n",
       "      <td>1</td>\n",
       "      <td>2</td>\n",
       "      <td>Bystrom, Mrs. (Karolina)</td>\n",
       "      <td>female</td>\n",
       "      <td>42.00</td>\n",
       "      <td>0</td>\n",
       "      <td>0</td>\n",
       "      <td>236852</td>\n",
       "      <td>13.0000</td>\n",
       "      <td>NaN</td>\n",
       "      <td>S</td>\n",
       "    </tr>\n",
       "    <tr>\n",
       "      <th>866</th>\n",
       "      <td>866</td>\n",
       "      <td>867</td>\n",
       "      <td>1</td>\n",
       "      <td>2</td>\n",
       "      <td>Duran y More, Miss. Asuncion</td>\n",
       "      <td>female</td>\n",
       "      <td>27.00</td>\n",
       "      <td>1</td>\n",
       "      <td>0</td>\n",
       "      <td>SC/PARIS 2149</td>\n",
       "      <td>13.8583</td>\n",
       "      <td>NaN</td>\n",
       "      <td>C</td>\n",
       "    </tr>\n",
       "    <tr>\n",
       "      <th>874</th>\n",
       "      <td>874</td>\n",
       "      <td>875</td>\n",
       "      <td>1</td>\n",
       "      <td>2</td>\n",
       "      <td>Abelson, Mrs. Samuel (Hannah Wizosky)</td>\n",
       "      <td>female</td>\n",
       "      <td>28.00</td>\n",
       "      <td>1</td>\n",
       "      <td>0</td>\n",
       "      <td>P/PP 3381</td>\n",
       "      <td>24.0000</td>\n",
       "      <td>NaN</td>\n",
       "      <td>C</td>\n",
       "    </tr>\n",
       "    <tr>\n",
       "      <th>880</th>\n",
       "      <td>880</td>\n",
       "      <td>881</td>\n",
       "      <td>1</td>\n",
       "      <td>2</td>\n",
       "      <td>Shelley, Mrs. William (Imanita Parrish Hall)</td>\n",
       "      <td>female</td>\n",
       "      <td>25.00</td>\n",
       "      <td>0</td>\n",
       "      <td>1</td>\n",
       "      <td>230433</td>\n",
       "      <td>26.0000</td>\n",
       "      <td>NaN</td>\n",
       "      <td>S</td>\n",
       "    </tr>\n",
       "  </tbody>\n",
       "</table>\n",
       "<p>87 rows × 13 columns</p>\n",
       "</div>"
      ],
      "text/plain": [
       "     Unnamed: 0  PassengerId  Survived  Pclass  \\\n",
       "9             9           10         1       2   \n",
       "15           15           16         1       2   \n",
       "17           17           18         1       2   \n",
       "21           21           22         1       2   \n",
       "43           43           44         1       2   \n",
       "..          ...          ...       ...     ...   \n",
       "831         831          832         1       2   \n",
       "865         865          866         1       2   \n",
       "866         866          867         1       2   \n",
       "874         874          875         1       2   \n",
       "880         880          881         1       2   \n",
       "\n",
       "                                             Name     Sex    Age  SibSp  \\\n",
       "9             Nasser, Mrs. Nicholas (Adele Achem)  female  14.00      1   \n",
       "15               Hewlett, Mrs. (Mary D Kingcome)   female  55.00      0   \n",
       "17                   Williams, Mr. Charles Eugene    male    NaN      0   \n",
       "21                          Beesley, Mr. Lawrence    male  34.00      0   \n",
       "43       Laroche, Miss. Simonne Marie Anne Andree  female   3.00      1   \n",
       "..                                            ...     ...    ...    ...   \n",
       "831               Richards, Master. George Sibley    male   0.83      1   \n",
       "865                      Bystrom, Mrs. (Karolina)  female  42.00      0   \n",
       "866                  Duran y More, Miss. Asuncion  female  27.00      1   \n",
       "874         Abelson, Mrs. Samuel (Hannah Wizosky)  female  28.00      1   \n",
       "880  Shelley, Mrs. William (Imanita Parrish Hall)  female  25.00      0   \n",
       "\n",
       "     Parch         Ticket     Fare Cabin Embarked  \n",
       "9        0         237736  30.0708   NaN        C  \n",
       "15       0         248706  16.0000   NaN        S  \n",
       "17       0         244373  13.0000   NaN        S  \n",
       "21       0         248698  13.0000   D56        S  \n",
       "43       2  SC/Paris 2123  41.5792   NaN        C  \n",
       "..     ...            ...      ...   ...      ...  \n",
       "831      1          29106  18.7500   NaN        S  \n",
       "865      0         236852  13.0000   NaN        S  \n",
       "866      0  SC/PARIS 2149  13.8583   NaN        C  \n",
       "874      0      P/PP 3381  24.0000   NaN        C  \n",
       "880      1         230433  26.0000   NaN        S  \n",
       "\n",
       "[87 rows x 13 columns]"
      ]
     },
     "execution_count": 393,
     "metadata": {},
     "output_type": "execute_result"
    }
   ],
   "source": [
    "titanic[(titanic.Pclass==2)&(titanic.Survived==1)]"
   ]
  },
  {
   "cell_type": "markdown",
   "metadata": {},
   "source": [
    "*****"
   ]
  },
  {
   "cell_type": "markdown",
   "metadata": {},
   "source": [
    "###### Here we merging 2 df into a single df"
   ]
  },
  {
   "cell_type": "code",
   "execution_count": 394,
   "metadata": {},
   "outputs": [],
   "source": [
    "df1 = pd.DataFrame({\"marks\":[30,45,56,78],\"Sub\":[\"A\",\"B\",\"C\",\"D\"]})\n",
    "df2 = pd.DataFrame({\"names\":[\"Vijai\",\"Ajith\",\"Surya\",\"Dhanush\"],\"Sub\":[\"A\",\"B\",\"C\",\"D\"]})"
   ]
  },
  {
   "cell_type": "code",
   "execution_count": 395,
   "metadata": {},
   "outputs": [
    {
     "name": "stdout",
     "output_type": "stream",
     "text": [
      "   marks Sub    names\n",
      "0     30   A    Vijai\n",
      "1     45   B    Ajith\n",
      "2     56   C    Surya\n",
      "3     78   D  Dhanush\n"
     ]
    }
   ],
   "source": [
    "print(pd.merge(df1,df2))"
   ]
  },
  {
   "cell_type": "markdown",
   "metadata": {},
   "source": [
    "###### Here we merge the two columns if we give the same column name it will take name_x and name_y\n",
    "###### Also here we merge the df using column name"
   ]
  },
  {
   "cell_type": "code",
   "execution_count": 396,
   "metadata": {},
   "outputs": [],
   "source": [
    "df1 = pd.DataFrame({\"marks\":[30,45,56,78],\"Sub\":[\"A\",\"B\",\"C\",\"D\"]})\n",
    "df2 = pd.DataFrame({\"marks\":[67,85,89,88],\"names\":[\"Vijai\",\"Ajith\",\"Surya\",\"Dhanush\"],\"Sub\":[\"A\",\"B\",\"C\",\"D\"]})"
   ]
  },
  {
   "cell_type": "code",
   "execution_count": 397,
   "metadata": {},
   "outputs": [
    {
     "name": "stdout",
     "output_type": "stream",
     "text": [
      "   marks_x Sub  marks_y    names\n",
      "0       30   A       67    Vijai\n",
      "1       45   B       85    Ajith\n",
      "2       56   C       89    Surya\n",
      "3       78   D       88  Dhanush\n"
     ]
    }
   ],
   "source": [
    "print(pd.merge(df1,df2,on=\"Sub\"))"
   ]
  },
  {
   "cell_type": "markdown",
   "metadata": {},
   "source": [
    "###### Here we can't join two same column name in the df if we try to join it will show valueError \n",
    "###### here we join the df using index values"
   ]
  },
  {
   "cell_type": "code",
   "execution_count": 406,
   "metadata": {},
   "outputs": [],
   "source": [
    "df1 = pd.DataFrame({\"marks\":[30,45,56,78]},index=[\"A\",\"B\",\"C\",\"D\"])\n",
    "df2 = pd.DataFrame({\"names\":[\"Vijai\",\"Ajith\",\"Surya\",\"Dhanush\"]},index=[\"A\",\"B\",\"C\",\"D\"])"
   ]
  },
  {
   "cell_type": "code",
   "execution_count": 407,
   "metadata": {},
   "outputs": [
    {
     "name": "stdout",
     "output_type": "stream",
     "text": [
      "   marks    names\n",
      "A     30    Vijai\n",
      "B     45    Ajith\n",
      "C     56    Surya\n",
      "D     78  Dhanush\n"
     ]
    }
   ],
   "source": [
    "print(df1.join(df2))"
   ]
  },
  {
   "cell_type": "markdown",
   "metadata": {},
   "source": [
    "###### Also if the index value is not match  it will fill NaN"
   ]
  },
  {
   "cell_type": "code",
   "execution_count": 408,
   "metadata": {},
   "outputs": [],
   "source": [
    "df1 = pd.DataFrame({\"marks\":[30,45,56,78]},index=[\"E\",\"F\",\"C\",\"D\"])\n",
    "df2 = pd.DataFrame({\"names\":[\"Vijai\",\"Ajith\",\"Surya\",\"Dhanush\"]},index=[\"A\",\"B\",\"C\",\"D\"])"
   ]
  },
  {
   "cell_type": "code",
   "execution_count": 409,
   "metadata": {},
   "outputs": [
    {
     "name": "stdout",
     "output_type": "stream",
     "text": [
      "   marks    names\n",
      "E     30      NaN\n",
      "F     45      NaN\n",
      "C     56    Surya\n",
      "D     78  Dhanush\n"
     ]
    }
   ],
   "source": [
    "print(df1.join(df2))"
   ]
  },
  {
   "cell_type": "raw",
   "metadata": {},
   "source": [
    "               #file name    \n",
    "tit.to_excel(\"out.xlsx\")\n",
    "tit.to_html(\"out.html\")"
   ]
  },
  {
   "cell_type": "markdown",
   "metadata": {},
   "source": [
    "****************"
   ]
  },
  {
   "cell_type": "markdown",
   "metadata": {},
   "source": [
    "# Matplotlib"
   ]
  },
  {
   "cell_type": "code",
   "execution_count": 410,
   "metadata": {},
   "outputs": [],
   "source": [
    "import matplotlib.pyplot as plt"
   ]
  },
  {
   "cell_type": "code",
   "execution_count": 412,
   "metadata": {},
   "outputs": [
    {
     "data": {
      "image/png": "[encoded data removed]",
      "text/plain": [
       "<Figure size 640x480 with 1 Axes>"
      ]
     },
     "metadata": {},
     "output_type": "display_data"
    }
   ],
   "source": [
    "plt.plot([1,2,3,4],[2,3,4,5],c=\"r\",linewidth=5)\n",
    "plt.title(\"Basic plot\")\n",
    "plt.xlabel(\"X-axis\")\n",
    "plt.ylabel(\"Y-axis\")\n",
    "plt.grid()\n",
    "plt.show()"
   ]
  },
  {
   "cell_type": "markdown",
   "metadata": {},
   "source": [
    "## Bar char \n",
    "* It works with char data(Qual)"
   ]
  },
  {
   "cell_type": "code",
   "execution_count": 413,
   "metadata": {},
   "outputs": [
    {
     "data": {
      "image/png": "[encoded data removed]",
      "text/plain": [
       "<Figure size 640x480 with 1 Axes>"
      ]
     },
     "metadata": {},
     "output_type": "display_data"
    }
   ],
   "source": [
    "subjects = [\"Sub1\",\"Sub2\",\"Sub3\",\"Sub4\"]\n",
    "marks = [67,78,59,89]\n",
    "plt.bar(subjects,marks,color=\"g\",width=0.5)\n",
    "plt.xlabel(\"Subjects\")\n",
    "plt.ylabel(\"Marks\")\n",
    "plt.show()"
   ]
  },
  {
   "cell_type": "markdown",
   "metadata": {},
   "source": [
    "## Histogram\n",
    "* It works with Num data(Quan)"
   ]
  },
  {
   "cell_type": "code",
   "execution_count": 414,
   "metadata": {},
   "outputs": [
    {
     "data": {
      "image/png": "[encoded data removed]",
      "text/plain": [
       "<Figure size 640x480 with 1 Axes>"
      ]
     },
     "metadata": {},
     "output_type": "display_data"
    }
   ],
   "source": [
    "import random\n",
    "li = [random.randint(0,100) for i in range(100)]\n",
    "bins = [0,25,30,50,65,78,100]\n",
    "plt.hist(li,bins=bins)\n",
    "plt.show()"
   ]
  },
  {
   "cell_type": "code",
   "execution_count": 432,
   "metadata": {},
   "outputs": [
    {
     "data": {
      "image/png": "[encoded data removed]",
      "text/plain": [
       "<Figure size 640x480 with 1 Axes>"
      ]
     },
     "metadata": {},
     "output_type": "display_data"
    }
   ],
   "source": [
    "subjects = [\"Sub1\",\"Sub2\",\"Sub3\",\"Sub4\"]\n",
    "marks = [67,78,59,89]\n",
    "plt.pie(marks,labels=subjects,autopct=\"%1.2f%%\",colors=(\"b\",\"g\",\"y\",\"r\"),explode=(0,0.10,0,0))\n",
    "plt.show()"
   ]
  },
  {
   "cell_type": "markdown",
   "metadata": {},
   "source": [
    "# Seaborn"
   ]
  },
  {
   "cell_type": "code",
   "execution_count": 420,
   "metadata": {},
   "outputs": [],
   "source": [
    "import seaborn as sns\n",
    "sns.set_style(\"whitegrid\")"
   ]
  },
  {
   "cell_type": "code",
   "execution_count": 421,
   "metadata": {},
   "outputs": [
    {
     "data": {
      "image/png": "[encoded data removed]",
      "text/plain": [
       "<Figure size 640x480 with 1 Axes>"
      ]
     },
     "metadata": {},
     "output_type": "display_data"
    }
   ],
   "source": [
    "subjects = [\"Sub1\",\"Sub2\",\"Sub3\",\"Sub4\"]\n",
    "marks = [67,78,59,89]\n",
    "plt.bar(subjects,marks,color=\"g\",width=0.5)\n",
    "plt.xlabel(\"Subjects\")\n",
    "plt.ylabel(\"Marks\")\n",
    "plt.show()"
   ]
  },
  {
   "cell_type": "code",
   "execution_count": 422,
   "metadata": {},
   "outputs": [
    {
     "data": {
      "image/png": "[encoded data removed]",
      "text/plain": [
       "<Figure size 640x480 with 1 Axes>"
      ]
     },
     "metadata": {},
     "output_type": "display_data"
    }
   ],
   "source": [
    "subjects = [\"Sub1\",\"Sub2\",\"Sub3\",\"Sub4\"]\n",
    "marks = [67,78,59,89]\n",
    "plt.pie(marks,labels=subjects,autopct=\"%1.2f%%\",colors=(\"b\",\"g\",\"y\",\"r\"),explode=(0,0.2,0,0))\n",
    "plt.show()"
   ]
  },
  {
   "cell_type": "code",
   "execution_count": 423,
   "metadata": {},
   "outputs": [
    {
     "data": {
      "image/png": "[encoded data removed]",
      "text/plain": [
       "<Figure size 640x480 with 1 Axes>"
      ]
     },
     "metadata": {},
     "output_type": "display_data"
    }
   ],
   "source": [
    "li = [random.randint(0,100) for i in range(100)]\n",
    "bins = [0,25,30,50,65,78,100]\n",
    "plt.hist(li,bins=bins)\n",
    "plt.show()"
   ]
  },
  {
   "cell_type": "code",
   "execution_count": 424,
   "metadata": {},
   "outputs": [
    {
     "data": {
      "image/png": "[encoded data removed]",
      "text/plain": [
       "<Figure size 640x480 with 1 Axes>"
      ]
     },
     "metadata": {},
     "output_type": "display_data"
    }
   ],
   "source": [
    "plt.plot([1,2,3,4],[2,3,4,5],c=\"r\",linewidth=5)\n",
    "plt.title(\"Basic plot\")\n",
    "plt.xlabel(\"X-axis\")\n",
    "plt.ylabel(\"Y-axis\")\n",
    "plt.grid()\n",
    "plt.show()"
   ]
  },
  {
   "cell_type": "code",
   "execution_count": null,
   "metadata": {},
   "outputs": [],
   "source": []
  }
 ],
 "metadata": {
  "kernelspec": {
   "display_name": "Python 3 (ipykernel)",
   "language": "python",
   "name": "python3"
  },
  "language_info": {
   "codemirror_mode": {
    "name": "ipython",
    "version": 3
   },
   "file_extension": ".py",
   "mimetype": "text/x-python",
   "name": "python",
   "nbconvert_exporter": "python",
   "pygments_lexer": "ipython3",
   "version": "3.9.13"
  }
 },
 "nbformat": 4,
 "nbformat_minor": 2
}
